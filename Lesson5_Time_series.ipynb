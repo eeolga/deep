{
  "nbformat": 4,
  "nbformat_minor": 0,
  "metadata": {
    "colab": {
      "provenance": [],
      "authorship_tag": "ABX9TyPbOXqBsBNmhknEPCsodUG7",
      "include_colab_link": true
    },
    "kernelspec": {
      "name": "python3",
      "display_name": "Python 3"
    },
    "language_info": {
      "name": "python"
    }
  },
  "cells": [
    {
      "cell_type": "markdown",
      "metadata": {
        "id": "view-in-github",
        "colab_type": "text"
      },
      "source": [
        "<a href=\"https://colab.research.google.com/github/eeolga/deep/blob/main/Lesson5_Time_series.ipynb\" target=\"_parent\"><img src=\"https://colab.research.google.com/assets/colab-badge.svg\" alt=\"Open In Colab\"/></a>"
      ]
    },
    {
      "cell_type": "markdown",
      "source": [
        "Time series"
      ],
      "metadata": {
        "id": "v1un5vgbZeO1"
      }
    },
    {
      "cell_type": "code",
      "execution_count": 2,
      "metadata": {
        "id": "TSFmJigiZX1T"
      },
      "outputs": [],
      "source": [
        "import numpy as np\n",
        "import torch"
      ]
    },
    {
      "cell_type": "code",
      "source": [
        "bikes_numpy = np.loadtxt(\"/content/hour[1].csv\", dtype=np.float32,delimiter= \",\",skiprows=1, converters= {1: lambda x: float(x[8:10])})\n",
        "bikes=torch.from_numpy(bikes_numpy)\n",
        "bikes"
      ],
      "metadata": {
        "colab": {
          "base_uri": "https://localhost:8080/"
        },
        "id": "dUP-jyqZaVB7",
        "outputId": "feb00959-1634-4dca-cb03-c2b618ff2974"
      },
      "execution_count": 3,
      "outputs": [
        {
          "output_type": "execute_result",
          "data": {
            "text/plain": [
              "tensor([[1.0000e+00, 1.0000e+00, 1.0000e+00,  ..., 3.0000e+00, 1.3000e+01,\n",
              "         1.6000e+01],\n",
              "        [2.0000e+00, 1.0000e+00, 1.0000e+00,  ..., 8.0000e+00, 3.2000e+01,\n",
              "         4.0000e+01],\n",
              "        [3.0000e+00, 1.0000e+00, 1.0000e+00,  ..., 5.0000e+00, 2.7000e+01,\n",
              "         3.2000e+01],\n",
              "        ...,\n",
              "        [1.7377e+04, 3.1000e+01, 1.0000e+00,  ..., 7.0000e+00, 8.3000e+01,\n",
              "         9.0000e+01],\n",
              "        [1.7378e+04, 3.1000e+01, 1.0000e+00,  ..., 1.3000e+01, 4.8000e+01,\n",
              "         6.1000e+01],\n",
              "        [1.7379e+04, 3.1000e+01, 1.0000e+00,  ..., 1.2000e+01, 3.7000e+01,\n",
              "         4.9000e+01]])"
            ]
          },
          "metadata": {},
          "execution_count": 3
        }
      ]
    },
    {
      "cell_type": "markdown",
      "source": [
        "N is a parallel secuences of size C (column for 1D data)\n",
        "\n",
        "N - time axis (one entry per hour)\n",
        "\n",
        "N - number of samples of sequences of length L    \n",
        "\n",
        "tensor NxCxL\n",
        "\n",
        "C=17 (table colomns), L=24 (24 hours a day)"
      ],
      "metadata": {
        "id": "A46RPPo1dLnY"
      }
    },
    {
      "cell_type": "code",
      "source": [
        "bikes.shape, bikes.stride()"
      ],
      "metadata": {
        "colab": {
          "base_uri": "https://localhost:8080/"
        },
        "id": "2awGmqU1cNqs",
        "outputId": "452ffe3d-5a3f-48cf-c6d0-97c28b4a2612"
      },
      "execution_count": 4,
      "outputs": [
        {
          "output_type": "execute_result",
          "data": {
            "text/plain": [
              "(torch.Size([17379, 17]), (17, 1))"
            ]
          },
          "metadata": {},
          "execution_count": 4
        }
      ]
    },
    {
      "cell_type": "markdown",
      "source": [
        "Reshape into 3 axes: day, hour  - 17 columns"
      ],
      "metadata": {
        "id": "6ctb9kGgffZs"
      }
    },
    {
      "cell_type": "code",
      "source": [
        "daily_bikes = bikes.view (-1, 1, bikes.shape[1]) #replaced 24 to 1 :(\n",
        "daily_bikes.shape, daily_bikes.stride"
      ],
      "metadata": {
        "colab": {
          "base_uri": "https://localhost:8080/"
        },
        "id": "1b2JTgEyfXJY",
        "outputId": "77b70bd5-10f7-481b-9a9a-85076e3db43e"
      },
      "execution_count": 5,
      "outputs": [
        {
          "output_type": "execute_result",
          "data": {
            "text/plain": [
              "(torch.Size([17379, 1, 17]), <function Tensor.stride>)"
            ]
          },
          "metadata": {},
          "execution_count": 5
        }
      ]
    },
    {
      "cell_type": "code",
      "source": [
        "daily_bikes = daily_bikes.transpose(1, 2)\n",
        "daily_bikes.shape, daily_bikes.stride()"
      ],
      "metadata": {
        "colab": {
          "base_uri": "https://localhost:8080/"
        },
        "id": "BgX1CJdwg3zT",
        "outputId": "042396af-cefb-47ab-cca7-1bfe253744e6"
      },
      "execution_count": 6,
      "outputs": [
        {
          "output_type": "execute_result",
          "data": {
            "text/plain": [
              "(torch.Size([17379, 17, 1]), (17, 1, 17))"
            ]
          },
          "metadata": {},
          "execution_count": 6
        }
      ]
    },
    {
      "cell_type": "markdown",
      "source": [
        "Preparing data for training"
      ],
      "metadata": {
        "id": "aRdPfmnfiH41"
      }
    },
    {
      "cell_type": "code",
      "source": [
        "first_day=bikes[:24] .long()\n",
        "weather_onehot = torch.zeros(first_day.shape[0], 4)\n",
        "first_day [ : , 9 ]"
      ],
      "metadata": {
        "colab": {
          "base_uri": "https://localhost:8080/"
        },
        "id": "UWWo4KM0iNKO",
        "outputId": "0762b747-9404-47b1-b9ba-0f2044e569e6"
      },
      "execution_count": 7,
      "outputs": [
        {
          "output_type": "execute_result",
          "data": {
            "text/plain": [
              "tensor([1, 1, 1, 1, 1, 2, 1, 1, 1, 1, 1, 1, 1, 2, 2, 2, 2, 2, 3, 3, 2, 2, 2, 2])"
            ]
          },
          "metadata": {},
          "execution_count": 7
        }
      ]
    },
    {
      "cell_type": "code",
      "source": [
        "weather_onehot.scatter_(dim= 1, index=first_day [:, 9] . unsqueeze ( 1) . long () - 1, value= 1.0)\n"
      ],
      "metadata": {
        "colab": {
          "base_uri": "https://localhost:8080/"
        },
        "id": "2dmwX3CgkPQK",
        "outputId": "3f6d3ab6-ae8d-448e-8290-57b8fb0eb48a"
      },
      "execution_count": 8,
      "outputs": [
        {
          "output_type": "execute_result",
          "data": {
            "text/plain": [
              "tensor([[1., 0., 0., 0.],\n",
              "        [1., 0., 0., 0.],\n",
              "        [1., 0., 0., 0.],\n",
              "        [1., 0., 0., 0.],\n",
              "        [1., 0., 0., 0.],\n",
              "        [0., 1., 0., 0.],\n",
              "        [1., 0., 0., 0.],\n",
              "        [1., 0., 0., 0.],\n",
              "        [1., 0., 0., 0.],\n",
              "        [1., 0., 0., 0.],\n",
              "        [1., 0., 0., 0.],\n",
              "        [1., 0., 0., 0.],\n",
              "        [1., 0., 0., 0.],\n",
              "        [0., 1., 0., 0.],\n",
              "        [0., 1., 0., 0.],\n",
              "        [0., 1., 0., 0.],\n",
              "        [0., 1., 0., 0.],\n",
              "        [0., 1., 0., 0.],\n",
              "        [0., 0., 1., 0.],\n",
              "        [0., 0., 1., 0.],\n",
              "        [0., 1., 0., 0.],\n",
              "        [0., 1., 0., 0.],\n",
              "        [0., 1., 0., 0.],\n",
              "        [0., 1., 0., 0.]])"
            ]
          },
          "metadata": {},
          "execution_count": 8
        }
      ]
    },
    {
      "cell_type": "code",
      "source": [
        "torch.cat((bikes[:24], weather_onehot), 1) [:1]"
      ],
      "metadata": {
        "colab": {
          "base_uri": "https://localhost:8080/"
        },
        "id": "3JGnxQXqkx4z",
        "outputId": "b8bba7a2-2148-4b86-fa2f-b5e082ce12ae"
      },
      "execution_count": 9,
      "outputs": [
        {
          "output_type": "execute_result",
          "data": {
            "text/plain": [
              "tensor([[ 1.0000,  1.0000,  1.0000,  0.0000,  1.0000,  0.0000,  0.0000,  6.0000,\n",
              "          0.0000,  1.0000,  0.2400,  0.2879,  0.8100,  0.0000,  3.0000, 13.0000,\n",
              "         16.0000,  1.0000,  0.0000,  0.0000,  0.0000]])"
            ]
          },
          "metadata": {},
          "execution_count": 9
        }
      ]
    },
    {
      "cell_type": "code",
      "source": [
        "daily_weather_onehot =torch.zeros(daily_bikes.shape[0], 4, daily_bikes.shape[2])"
      ],
      "metadata": {
        "id": "KIhWolQHlIBB"
      },
      "execution_count": 10,
      "outputs": []
    },
    {
      "cell_type": "code",
      "source": [
        "daily_weather_onehot.shape"
      ],
      "metadata": {
        "colab": {
          "base_uri": "https://localhost:8080/"
        },
        "id": "tzbb_QzmngEs",
        "outputId": "e40483b5-0bee-4994-87a1-1aa7b53ef4c7"
      },
      "execution_count": 11,
      "outputs": [
        {
          "output_type": "execute_result",
          "data": {
            "text/plain": [
              "torch.Size([17379, 4, 1])"
            ]
          },
          "metadata": {},
          "execution_count": 11
        }
      ]
    },
    {
      "cell_type": "code",
      "source": [
        "daily_weather_onehot.scatter_(1.0, daily_bikes[:, 9,:].long() .unsqueeze(1) 2, 1.0)"
      ],
      "metadata": {
        "colab": {
          "base_uri": "https://localhost:8080/",
          "height": 109
        },
        "id": "3I1a4XUonxAY",
        "outputId": "fa2b045d-39a9-405f-8bef-eefcea27034c"
      },
      "execution_count": 17,
      "outputs": [
        {
          "output_type": "error",
          "ename": "SyntaxError",
          "evalue": "invalid syntax. Perhaps you forgot a comma? (<ipython-input-17-bcfbb8c6a9f0>, line 1)",
          "traceback": [
            "\u001b[0;36m  File \u001b[0;32m\"<ipython-input-17-bcfbb8c6a9f0>\"\u001b[0;36m, line \u001b[0;32m1\u001b[0m\n\u001b[0;31m    daily_weather_onehot.scatter_(1.0, daily_bikes[:, 9,:].long() .unsqueeze(1) 2, 1.0)\u001b[0m\n\u001b[0m                                       ^\u001b[0m\n\u001b[0;31mSyntaxError\u001b[0m\u001b[0;31m:\u001b[0m invalid syntax. Perhaps you forgot a comma?\n"
          ]
        }
      ]
    },
    {
      "cell_type": "code",
      "source": [
        "daily_weather_onehot.shape"
      ],
      "metadata": {
        "colab": {
          "base_uri": "https://localhost:8080/"
        },
        "id": "5TJnZd3EqmB_",
        "outputId": "ae696b4c-e72d-4994-cb4b-376712e9cfd4"
      },
      "execution_count": 16,
      "outputs": [
        {
          "output_type": "execute_result",
          "data": {
            "text/plain": [
              "torch.Size([17379, 4, 1])"
            ]
          },
          "metadata": {},
          "execution_count": 16
        }
      ]
    },
    {
      "cell_type": "code",
      "source": [
        "daily_bikes = torch.cat((daily_bikes, daily_weather_onehot), dim=1)\n",
        "daily_bikes [: , 9,:] = (daily_bikes[: , 9,:] - 1.0)/ 3.0"
      ],
      "metadata": {
        "id": "5Efb2jFWq8H2"
      },
      "execution_count": 18,
      "outputs": []
    },
    {
      "cell_type": "markdown",
      "source": [
        "Alternative, we can subtract the mean and divide by str dev"
      ],
      "metadata": {
        "id": "VgfMxRDL7iYS"
      }
    },
    {
      "cell_type": "code",
      "source": [
        "temp = daily_bikes[:,10, :]\n",
        "temp_min = torch.min(temp)\n",
        "temp_max = torch.max(temp)\n",
        "daily_bikes [:, 10, : ]= ( (daily_bikes [:, 10, : ]- temp_min) / (temp_max - temp_min))"
      ],
      "metadata": {
        "id": "480QoufnsVHz"
      },
      "execution_count": 19,
      "outputs": []
    },
    {
      "cell_type": "code",
      "source": [
        "temp = daily_bikes [:,10, : ]\n",
        "daily_bikes [:, 10,: ]= ( (daily_bikes [:,10, : ]- torch.mean(temp))/torch.std(temp))"
      ],
      "metadata": {
        "id": "tO6cqxFF7_0r"
      },
      "execution_count": 20,
      "outputs": []
    },
    {
      "cell_type": "code",
      "source": [],
      "metadata": {
        "id": "Mywvlxp58o8C"
      },
      "execution_count": null,
      "outputs": []
    }
  ]
}