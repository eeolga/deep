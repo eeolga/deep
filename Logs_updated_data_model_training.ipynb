{
  "nbformat": 4,
  "nbformat_minor": 0,
  "metadata": {
    "colab": {
      "provenance": [],
      "authorship_tag": "ABX9TyOiZGrnul/dUAthq9DHz4nW",
      "include_colab_link": true
    },
    "kernelspec": {
      "name": "python3",
      "display_name": "Python 3"
    },
    "language_info": {
      "name": "python"
    }
  },
  "cells": [
    {
      "cell_type": "markdown",
      "metadata": {
        "id": "view-in-github",
        "colab_type": "text"
      },
      "source": [
        "<a href=\"https://colab.research.google.com/github/eeolga/deep/blob/main/Logs_updated_data_model_training.ipynb\" target=\"_parent\"><img src=\"https://colab.research.google.com/assets/colab-badge.svg\" alt=\"Open In Colab\"/></a>"
      ]
    },
    {
      "cell_type": "code",
      "execution_count": 117,
      "metadata": {
        "id": "4E4QCCGLduCq"
      },
      "outputs": [],
      "source": [
        "import pandas as pd"
      ]
    },
    {
      "cell_type": "code",
      "source": [
        "import torch\n",
        "import torch.nn as nn"
      ],
      "metadata": {
        "id": "nRGmnHqqOxaa"
      },
      "execution_count": 118,
      "outputs": []
    },
    {
      "cell_type": "code",
      "source": [
        "import torch.optim as optim"
      ],
      "metadata": {
        "id": "AQBAhxIUO7A3"
      },
      "execution_count": 119,
      "outputs": []
    },
    {
      "cell_type": "code",
      "source": [
        "from sklearn.model_selection import train_test_split\n",
        "from sklearn.preprocessing import StandardScaler\n",
        "from sklearn.metrics import classification_report"
      ],
      "metadata": {
        "id": "LYReQVWCO-Ux"
      },
      "execution_count": 120,
      "outputs": []
    },
    {
      "cell_type": "code",
      "source": [
        "import matplotlib.pyplot as plt"
      ],
      "metadata": {
        "id": "g0wcU_0wPCxw"
      },
      "execution_count": 121,
      "outputs": []
    },
    {
      "cell_type": "code",
      "source": [
        "file_path = '/content/logs_CAD_2024_1_.xlsx' # Data from Excel\n",
        "data = pd.read_excel(file_path)"
      ],
      "metadata": {
        "id": "xvfWwDMVnfTK"
      },
      "execution_count": 122,
      "outputs": []
    },
    {
      "cell_type": "code",
      "source": [
        "display(pd.DataFrame(data))"
      ],
      "metadata": {
        "colab": {
          "base_uri": "https://localhost:8080/",
          "height": 423
        },
        "id": "9s8qiBzZR0oj",
        "outputId": "2b407a13-b010-4b8d-c75b-39babd04f7b3"
      },
      "execution_count": 123,
      "outputs": [
        {
          "output_type": "display_data",
          "data": {
            "text/plain": [
              "               timestamp   user    tool  logs  lesson  daypart\n",
              "0     15/04/24, 11:37:03  26861  233243   3.0       0        1\n",
              "1     15/04/24, 11:30:50  26861    2949   1.0       0        1\n",
              "2     15/04/24, 11:30:37  26861  244208   3.0       0        1\n",
              "3     15/04/24, 11:35:55  26861    2949   1.0       0        1\n",
              "4     15/04/24, 11:35:24  26861  250945   4.0       0        1\n",
              "...                  ...    ...     ...   ...     ...      ...\n",
              "2975   3/02/24, 14:44:28  29349  233210   2.0       0        2\n",
              "2976   3/02/24, 14:43:20  29349    2949   2.0       0        2\n",
              "2977   2/02/24, 10:22:38  29349  233180   2.0       0        1\n",
              "2978   2/02/24, 09:57:58  29349  233210   1.0       0        1\n",
              "2979   2/02/24, 09:57:30  29349    2949   7.0       0        1\n",
              "\n",
              "[2980 rows x 6 columns]"
            ],
            "text/html": [
              "\n",
              "  <div id=\"df-3fb6cf81-db01-498e-a43a-430a1563b8c8\" class=\"colab-df-container\">\n",
              "    <div>\n",
              "<style scoped>\n",
              "    .dataframe tbody tr th:only-of-type {\n",
              "        vertical-align: middle;\n",
              "    }\n",
              "\n",
              "    .dataframe tbody tr th {\n",
              "        vertical-align: top;\n",
              "    }\n",
              "\n",
              "    .dataframe thead th {\n",
              "        text-align: right;\n",
              "    }\n",
              "</style>\n",
              "<table border=\"1\" class=\"dataframe\">\n",
              "  <thead>\n",
              "    <tr style=\"text-align: right;\">\n",
              "      <th></th>\n",
              "      <th>timestamp</th>\n",
              "      <th>user</th>\n",
              "      <th>tool</th>\n",
              "      <th>logs</th>\n",
              "      <th>lesson</th>\n",
              "      <th>daypart</th>\n",
              "    </tr>\n",
              "  </thead>\n",
              "  <tbody>\n",
              "    <tr>\n",
              "      <th>0</th>\n",
              "      <td>15/04/24, 11:37:03</td>\n",
              "      <td>26861</td>\n",
              "      <td>233243</td>\n",
              "      <td>3.0</td>\n",
              "      <td>0</td>\n",
              "      <td>1</td>\n",
              "    </tr>\n",
              "    <tr>\n",
              "      <th>1</th>\n",
              "      <td>15/04/24, 11:30:50</td>\n",
              "      <td>26861</td>\n",
              "      <td>2949</td>\n",
              "      <td>1.0</td>\n",
              "      <td>0</td>\n",
              "      <td>1</td>\n",
              "    </tr>\n",
              "    <tr>\n",
              "      <th>2</th>\n",
              "      <td>15/04/24, 11:30:37</td>\n",
              "      <td>26861</td>\n",
              "      <td>244208</td>\n",
              "      <td>3.0</td>\n",
              "      <td>0</td>\n",
              "      <td>1</td>\n",
              "    </tr>\n",
              "    <tr>\n",
              "      <th>3</th>\n",
              "      <td>15/04/24, 11:35:55</td>\n",
              "      <td>26861</td>\n",
              "      <td>2949</td>\n",
              "      <td>1.0</td>\n",
              "      <td>0</td>\n",
              "      <td>1</td>\n",
              "    </tr>\n",
              "    <tr>\n",
              "      <th>4</th>\n",
              "      <td>15/04/24, 11:35:24</td>\n",
              "      <td>26861</td>\n",
              "      <td>250945</td>\n",
              "      <td>4.0</td>\n",
              "      <td>0</td>\n",
              "      <td>1</td>\n",
              "    </tr>\n",
              "    <tr>\n",
              "      <th>...</th>\n",
              "      <td>...</td>\n",
              "      <td>...</td>\n",
              "      <td>...</td>\n",
              "      <td>...</td>\n",
              "      <td>...</td>\n",
              "      <td>...</td>\n",
              "    </tr>\n",
              "    <tr>\n",
              "      <th>2975</th>\n",
              "      <td>3/02/24, 14:44:28</td>\n",
              "      <td>29349</td>\n",
              "      <td>233210</td>\n",
              "      <td>2.0</td>\n",
              "      <td>0</td>\n",
              "      <td>2</td>\n",
              "    </tr>\n",
              "    <tr>\n",
              "      <th>2976</th>\n",
              "      <td>3/02/24, 14:43:20</td>\n",
              "      <td>29349</td>\n",
              "      <td>2949</td>\n",
              "      <td>2.0</td>\n",
              "      <td>0</td>\n",
              "      <td>2</td>\n",
              "    </tr>\n",
              "    <tr>\n",
              "      <th>2977</th>\n",
              "      <td>2/02/24, 10:22:38</td>\n",
              "      <td>29349</td>\n",
              "      <td>233180</td>\n",
              "      <td>2.0</td>\n",
              "      <td>0</td>\n",
              "      <td>1</td>\n",
              "    </tr>\n",
              "    <tr>\n",
              "      <th>2978</th>\n",
              "      <td>2/02/24, 09:57:58</td>\n",
              "      <td>29349</td>\n",
              "      <td>233210</td>\n",
              "      <td>1.0</td>\n",
              "      <td>0</td>\n",
              "      <td>1</td>\n",
              "    </tr>\n",
              "    <tr>\n",
              "      <th>2979</th>\n",
              "      <td>2/02/24, 09:57:30</td>\n",
              "      <td>29349</td>\n",
              "      <td>2949</td>\n",
              "      <td>7.0</td>\n",
              "      <td>0</td>\n",
              "      <td>1</td>\n",
              "    </tr>\n",
              "  </tbody>\n",
              "</table>\n",
              "<p>2980 rows × 6 columns</p>\n",
              "</div>\n",
              "    <div class=\"colab-df-buttons\">\n",
              "\n",
              "  <div class=\"colab-df-container\">\n",
              "    <button class=\"colab-df-convert\" onclick=\"convertToInteractive('df-3fb6cf81-db01-498e-a43a-430a1563b8c8')\"\n",
              "            title=\"Convert this dataframe to an interactive table.\"\n",
              "            style=\"display:none;\">\n",
              "\n",
              "  <svg xmlns=\"http://www.w3.org/2000/svg\" height=\"24px\" viewBox=\"0 -960 960 960\">\n",
              "    <path d=\"M120-120v-720h720v720H120Zm60-500h600v-160H180v160Zm220 220h160v-160H400v160Zm0 220h160v-160H400v160ZM180-400h160v-160H180v160Zm440 0h160v-160H620v160ZM180-180h160v-160H180v160Zm440 0h160v-160H620v160Z\"/>\n",
              "  </svg>\n",
              "    </button>\n",
              "\n",
              "  <style>\n",
              "    .colab-df-container {\n",
              "      display:flex;\n",
              "      gap: 12px;\n",
              "    }\n",
              "\n",
              "    .colab-df-convert {\n",
              "      background-color: #E8F0FE;\n",
              "      border: none;\n",
              "      border-radius: 50%;\n",
              "      cursor: pointer;\n",
              "      display: none;\n",
              "      fill: #1967D2;\n",
              "      height: 32px;\n",
              "      padding: 0 0 0 0;\n",
              "      width: 32px;\n",
              "    }\n",
              "\n",
              "    .colab-df-convert:hover {\n",
              "      background-color: #E2EBFA;\n",
              "      box-shadow: 0px 1px 2px rgba(60, 64, 67, 0.3), 0px 1px 3px 1px rgba(60, 64, 67, 0.15);\n",
              "      fill: #174EA6;\n",
              "    }\n",
              "\n",
              "    .colab-df-buttons div {\n",
              "      margin-bottom: 4px;\n",
              "    }\n",
              "\n",
              "    [theme=dark] .colab-df-convert {\n",
              "      background-color: #3B4455;\n",
              "      fill: #D2E3FC;\n",
              "    }\n",
              "\n",
              "    [theme=dark] .colab-df-convert:hover {\n",
              "      background-color: #434B5C;\n",
              "      box-shadow: 0px 1px 3px 1px rgba(0, 0, 0, 0.15);\n",
              "      filter: drop-shadow(0px 1px 2px rgba(0, 0, 0, 0.3));\n",
              "      fill: #FFFFFF;\n",
              "    }\n",
              "  </style>\n",
              "\n",
              "    <script>\n",
              "      const buttonEl =\n",
              "        document.querySelector('#df-3fb6cf81-db01-498e-a43a-430a1563b8c8 button.colab-df-convert');\n",
              "      buttonEl.style.display =\n",
              "        google.colab.kernel.accessAllowed ? 'block' : 'none';\n",
              "\n",
              "      async function convertToInteractive(key) {\n",
              "        const element = document.querySelector('#df-3fb6cf81-db01-498e-a43a-430a1563b8c8');\n",
              "        const dataTable =\n",
              "          await google.colab.kernel.invokeFunction('convertToInteractive',\n",
              "                                                    [key], {});\n",
              "        if (!dataTable) return;\n",
              "\n",
              "        const docLinkHtml = 'Like what you see? Visit the ' +\n",
              "          '<a target=\"_blank\" href=https://colab.research.google.com/notebooks/data_table.ipynb>data table notebook</a>'\n",
              "          + ' to learn more about interactive tables.';\n",
              "        element.innerHTML = '';\n",
              "        dataTable['output_type'] = 'display_data';\n",
              "        await google.colab.output.renderOutput(dataTable, element);\n",
              "        const docLink = document.createElement('div');\n",
              "        docLink.innerHTML = docLinkHtml;\n",
              "        element.appendChild(docLink);\n",
              "      }\n",
              "    </script>\n",
              "  </div>\n",
              "\n",
              "\n",
              "<div id=\"df-56980a56-42f6-41d7-a475-71f30de9e5c2\">\n",
              "  <button class=\"colab-df-quickchart\" onclick=\"quickchart('df-56980a56-42f6-41d7-a475-71f30de9e5c2')\"\n",
              "            title=\"Suggest charts\"\n",
              "            style=\"display:none;\">\n",
              "\n",
              "<svg xmlns=\"http://www.w3.org/2000/svg\" height=\"24px\"viewBox=\"0 0 24 24\"\n",
              "     width=\"24px\">\n",
              "    <g>\n",
              "        <path d=\"M19 3H5c-1.1 0-2 .9-2 2v14c0 1.1.9 2 2 2h14c1.1 0 2-.9 2-2V5c0-1.1-.9-2-2-2zM9 17H7v-7h2v7zm4 0h-2V7h2v10zm4 0h-2v-4h2v4z\"/>\n",
              "    </g>\n",
              "</svg>\n",
              "  </button>\n",
              "\n",
              "<style>\n",
              "  .colab-df-quickchart {\n",
              "      --bg-color: #E8F0FE;\n",
              "      --fill-color: #1967D2;\n",
              "      --hover-bg-color: #E2EBFA;\n",
              "      --hover-fill-color: #174EA6;\n",
              "      --disabled-fill-color: #AAA;\n",
              "      --disabled-bg-color: #DDD;\n",
              "  }\n",
              "\n",
              "  [theme=dark] .colab-df-quickchart {\n",
              "      --bg-color: #3B4455;\n",
              "      --fill-color: #D2E3FC;\n",
              "      --hover-bg-color: #434B5C;\n",
              "      --hover-fill-color: #FFFFFF;\n",
              "      --disabled-bg-color: #3B4455;\n",
              "      --disabled-fill-color: #666;\n",
              "  }\n",
              "\n",
              "  .colab-df-quickchart {\n",
              "    background-color: var(--bg-color);\n",
              "    border: none;\n",
              "    border-radius: 50%;\n",
              "    cursor: pointer;\n",
              "    display: none;\n",
              "    fill: var(--fill-color);\n",
              "    height: 32px;\n",
              "    padding: 0;\n",
              "    width: 32px;\n",
              "  }\n",
              "\n",
              "  .colab-df-quickchart:hover {\n",
              "    background-color: var(--hover-bg-color);\n",
              "    box-shadow: 0 1px 2px rgba(60, 64, 67, 0.3), 0 1px 3px 1px rgba(60, 64, 67, 0.15);\n",
              "    fill: var(--button-hover-fill-color);\n",
              "  }\n",
              "\n",
              "  .colab-df-quickchart-complete:disabled,\n",
              "  .colab-df-quickchart-complete:disabled:hover {\n",
              "    background-color: var(--disabled-bg-color);\n",
              "    fill: var(--disabled-fill-color);\n",
              "    box-shadow: none;\n",
              "  }\n",
              "\n",
              "  .colab-df-spinner {\n",
              "    border: 2px solid var(--fill-color);\n",
              "    border-color: transparent;\n",
              "    border-bottom-color: var(--fill-color);\n",
              "    animation:\n",
              "      spin 1s steps(1) infinite;\n",
              "  }\n",
              "\n",
              "  @keyframes spin {\n",
              "    0% {\n",
              "      border-color: transparent;\n",
              "      border-bottom-color: var(--fill-color);\n",
              "      border-left-color: var(--fill-color);\n",
              "    }\n",
              "    20% {\n",
              "      border-color: transparent;\n",
              "      border-left-color: var(--fill-color);\n",
              "      border-top-color: var(--fill-color);\n",
              "    }\n",
              "    30% {\n",
              "      border-color: transparent;\n",
              "      border-left-color: var(--fill-color);\n",
              "      border-top-color: var(--fill-color);\n",
              "      border-right-color: var(--fill-color);\n",
              "    }\n",
              "    40% {\n",
              "      border-color: transparent;\n",
              "      border-right-color: var(--fill-color);\n",
              "      border-top-color: var(--fill-color);\n",
              "    }\n",
              "    60% {\n",
              "      border-color: transparent;\n",
              "      border-right-color: var(--fill-color);\n",
              "    }\n",
              "    80% {\n",
              "      border-color: transparent;\n",
              "      border-right-color: var(--fill-color);\n",
              "      border-bottom-color: var(--fill-color);\n",
              "    }\n",
              "    90% {\n",
              "      border-color: transparent;\n",
              "      border-bottom-color: var(--fill-color);\n",
              "    }\n",
              "  }\n",
              "</style>\n",
              "\n",
              "  <script>\n",
              "    async function quickchart(key) {\n",
              "      const quickchartButtonEl =\n",
              "        document.querySelector('#' + key + ' button');\n",
              "      quickchartButtonEl.disabled = true;  // To prevent multiple clicks.\n",
              "      quickchartButtonEl.classList.add('colab-df-spinner');\n",
              "      try {\n",
              "        const charts = await google.colab.kernel.invokeFunction(\n",
              "            'suggestCharts', [key], {});\n",
              "      } catch (error) {\n",
              "        console.error('Error during call to suggestCharts:', error);\n",
              "      }\n",
              "      quickchartButtonEl.classList.remove('colab-df-spinner');\n",
              "      quickchartButtonEl.classList.add('colab-df-quickchart-complete');\n",
              "    }\n",
              "    (() => {\n",
              "      let quickchartButtonEl =\n",
              "        document.querySelector('#df-56980a56-42f6-41d7-a475-71f30de9e5c2 button');\n",
              "      quickchartButtonEl.style.display =\n",
              "        google.colab.kernel.accessAllowed ? 'block' : 'none';\n",
              "    })();\n",
              "  </script>\n",
              "</div>\n",
              "\n",
              "    </div>\n",
              "  </div>\n"
            ],
            "application/vnd.google.colaboratory.intrinsic+json": {
              "type": "dataframe",
              "summary": "{\n  \"name\": \"display(pd\",\n  \"rows\": 2980,\n  \"fields\": [\n    {\n      \"column\": \"timestamp\",\n      \"properties\": {\n        \"dtype\": \"string\",\n        \"num_unique_values\": 2898,\n        \"samples\": [\n          \"4/04/24, 13:10:58\",\n          \"4/03/24, 13:04:34\",\n          \"31/03/24, 14:38:28\"\n        ],\n        \"semantic_type\": \"\",\n        \"description\": \"\"\n      }\n    },\n    {\n      \"column\": \"user\",\n      \"properties\": {\n        \"dtype\": \"number\",\n        \"std\": 4173,\n        \"min\": 20004,\n        \"max\": 29723,\n        \"num_unique_values\": 18,\n        \"samples\": [\n          26861,\n          20004,\n          29723\n        ],\n        \"semantic_type\": \"\",\n        \"description\": \"\"\n      }\n    },\n    {\n      \"column\": \"tool\",\n      \"properties\": {\n        \"dtype\": \"number\",\n        \"std\": 114111,\n        \"min\": 2949,\n        \"max\": 257734,\n        \"num_unique_values\": 30,\n        \"samples\": [\n          233224,\n          233238,\n          233214\n        ],\n        \"semantic_type\": \"\",\n        \"description\": \"\"\n      }\n    },\n    {\n      \"column\": \"logs\",\n      \"properties\": {\n        \"dtype\": \"number\",\n        \"std\": 2.036033053591686,\n        \"min\": 1.0,\n        \"max\": 27.0,\n        \"num_unique_values\": 17,\n        \"samples\": [\n          3.0,\n          1.0,\n          5.0\n        ],\n        \"semantic_type\": \"\",\n        \"description\": \"\"\n      }\n    },\n    {\n      \"column\": \"lesson\",\n      \"properties\": {\n        \"dtype\": \"number\",\n        \"std\": 0,\n        \"min\": 0,\n        \"max\": 1,\n        \"num_unique_values\": 2,\n        \"samples\": [\n          1,\n          0\n        ],\n        \"semantic_type\": \"\",\n        \"description\": \"\"\n      }\n    },\n    {\n      \"column\": \"daypart\",\n      \"properties\": {\n        \"dtype\": \"number\",\n        \"std\": 1,\n        \"min\": 0,\n        \"max\": 5,\n        \"num_unique_values\": 6,\n        \"samples\": [\n          1,\n          4\n        ],\n        \"semantic_type\": \"\",\n        \"description\": \"\"\n      }\n    }\n  ]\n}"
            }
          },
          "metadata": {}
        }
      ]
    },
    {
      "cell_type": "code",
      "source": [
        "X = data.drop(['timestamp'], axis=1).values\n",
        "y = data[['timestamp']].values"
      ],
      "metadata": {
        "id": "-qqbUzPVnnMk"
      },
      "execution_count": 124,
      "outputs": []
    },
    {
      "cell_type": "code",
      "source": [
        "y = (y == 1).astype(float) # target values are 0 or 1"
      ],
      "metadata": {
        "id": "oLO9OkHqnwJr"
      },
      "execution_count": 125,
      "outputs": []
    },
    {
      "cell_type": "code",
      "source": [
        "#  Preprocess Data\n",
        "X_train, X_test, y_train, y_test = train_test_split(X, y, test_size=0.2, random_state=42)"
      ],
      "metadata": {
        "id": "knsvl82Pn2HQ"
      },
      "execution_count": 126,
      "outputs": []
    },
    {
      "cell_type": "code",
      "source": [
        "scaler = StandardScaler() # Standardize features\n",
        "X_train = scaler.fit_transform(X_train)\n",
        "X_test = scaler.transform(X_test)"
      ],
      "metadata": {
        "id": "uKxAdwu6n-sw"
      },
      "execution_count": 127,
      "outputs": []
    },
    {
      "cell_type": "code",
      "source": [
        "# PyTorch tensors\n",
        "X_train = torch.tensor(X_train, dtype=torch.float32)\n",
        "y_train = torch.tensor(y_train, dtype=torch.float32).unsqueeze(1)\n",
        "X_test = torch.tensor(X_test, dtype=torch.float32)\n",
        "y_test = torch.tensor(y_test, dtype=torch.float32).unsqueeze(1)"
      ],
      "metadata": {
        "id": "drlpUG6yoFUz"
      },
      "execution_count": 128,
      "outputs": []
    },
    {
      "cell_type": "code",
      "source": [
        "class SimpleNN(nn.Module): # define the Model\n",
        "    def __init__(self, input_dim):\n",
        "        super(SimpleNN, self).__init__()\n",
        "        self.layer1 = nn.Linear(input_dim, 64)\n",
        "        self.layer2 = nn.Linear(64, 32)\n",
        "        self.layer3 = nn.Linear(32, 1)\n",
        "\n",
        "    def forward(self, x):\n",
        "        x = torch.relu(self.layer1(x))\n",
        "        x = torch.relu(self.layer2(x))\n",
        "        x = torch.sigmoid(self.layer3(x))\n",
        "        return x\n"
      ],
      "metadata": {
        "id": "emDuud_8oMFM"
      },
      "execution_count": 129,
      "outputs": []
    },
    {
      "cell_type": "code",
      "source": [
        "input_dim = X_train.shape[1]\n",
        "model = SimpleNN(input_dim)"
      ],
      "metadata": {
        "id": "WphfGFh9oT5f"
      },
      "execution_count": 130,
      "outputs": []
    },
    {
      "cell_type": "code",
      "source": [
        "criterion = nn.BCELoss()  # Loss Function and Optimizer for binary classification\n",
        "optimizer = optim.Adam(model.parameters(), lr=0.0001)"
      ],
      "metadata": {
        "id": "7gqTqGsgoYp-"
      },
      "execution_count": 131,
      "outputs": []
    },
    {
      "cell_type": "code",
      "source": [
        "num_epochs = 100 # Train the Model\n",
        "training_losses = []\n",
        "validation_losses = []"
      ],
      "metadata": {
        "id": "Cek1yreXoixL"
      },
      "execution_count": 132,
      "outputs": []
    },
    {
      "cell_type": "code",
      "source": [
        "import torch.nn as nn\n",
        "import torch.nn.functional as F"
      ],
      "metadata": {
        "id": "tg-B1HbSP8eD"
      },
      "execution_count": 133,
      "outputs": []
    },
    {
      "cell_type": "code",
      "source": [
        "class SimpleModel(nn.Module):\n",
        "\n",
        "    def __init__(self, input_size, hidden_size, output_size):\n",
        "        super(SimpleModel, self).__init__()\n",
        "        self.fc1 = nn.Linear(input_size, hidden_size)\n",
        "        self.fc2 = nn.Linear(hidden_size, output_size)\n",
        "\n",
        "    def forward(self, x):\n",
        "        x = F.relu(self.fc1(x))\n",
        "        x = torch.sigmoid(self.fc2(x))  # Ensure the output is in the range [0, 1]\n",
        "        return x"
      ],
      "metadata": {
        "id": "0fq1LStTaAUi"
      },
      "execution_count": 134,
      "outputs": []
    },
    {
      "cell_type": "code",
      "source": [
        "import torch\n",
        "import torch.optim as optim\n",
        "import torch.nn as nn"
      ],
      "metadata": {
        "id": "aAnmdajIQDHf"
      },
      "execution_count": 135,
      "outputs": []
    },
    {
      "cell_type": "code",
      "source": [
        "# define the model\n",
        "input_size = 10\n",
        "hidden_size = 5\n",
        "output_size = 1  #  for binary classification\n",
        "\n",
        "model = SimpleModel(input_size, hidden_size, output_size)"
      ],
      "metadata": {
        "id": "kp8jhTHYaCUV"
      },
      "execution_count": 136,
      "outputs": []
    },
    {
      "cell_type": "code",
      "source": [
        "criterion = nn.BCELoss()  # Binary Cross Entropy Loss\n",
        "optimizer = optim.Adam(model.parameters(), lr=0.0001)"
      ],
      "metadata": {
        "id": "VYHtTiFBaHbg"
      },
      "execution_count": 137,
      "outputs": []
    },
    {
      "cell_type": "code",
      "source": [
        "# training data\n",
        "X_train = torch.randn(100, input_size)\n",
        "y_train = torch.randint(0, 2, (100, 1)).float()"
      ],
      "metadata": {
        "id": "IZdxxogtaMS2"
      },
      "execution_count": 138,
      "outputs": []
    },
    {
      "cell_type": "code",
      "source": [
        "X_test = torch.randn(30, input_size)  #  validation input\n",
        "y_test = torch.randint(0, 2, (30, 1)).float()  #  binary labels"
      ],
      "metadata": {
        "id": "7FL6_FSKaSTE"
      },
      "execution_count": 139,
      "outputs": []
    },
    {
      "cell_type": "code",
      "source": [
        "num_epochs = 100 # training loop\n",
        "training_losses = []\n",
        "validation_losses = []\n",
        "\n",
        "for epoch in range(num_epochs):\n",
        "    model.train()\n",
        "\n",
        "    outputs = model(X_train)   # Forward pass\n",
        "    loss = criterion(outputs, y_train)\n",
        "\n",
        "    optimizer.zero_grad()  # backward pass and optimization\n",
        "    loss.backward()\n",
        "    optimizer.step()\n",
        "\n",
        "    training_losses.append(loss.item())\n",
        "\n",
        "    model.eval()\n",
        "    with torch.no_grad():\n",
        "        val_outputs = model(X_test)\n",
        "        val_loss = criterion(val_outputs, y_test)\n",
        "        validation_losses.append(val_loss.item())\n",
        "\n",
        "    if (epoch + 1) % 10 == 0:\n",
        "        print(f'Epoch [{epoch + 1}/{num_epochs}], Loss: {loss.item():.4f}, Val Loss: {val_loss.item():.4f}')"
      ],
      "metadata": {
        "colab": {
          "base_uri": "https://localhost:8080/"
        },
        "id": "E7M7pfNZaaW_",
        "outputId": "d9de3f3b-0791-43f3-f297-d4f4493556e8"
      },
      "execution_count": 140,
      "outputs": [
        {
          "output_type": "stream",
          "name": "stdout",
          "text": [
            "Epoch [10/100], Loss: 0.6927, Val Loss: 0.6908\n",
            "Epoch [20/100], Loss: 0.6924, Val Loss: 0.6907\n",
            "Epoch [30/100], Loss: 0.6920, Val Loss: 0.6905\n",
            "Epoch [40/100], Loss: 0.6917, Val Loss: 0.6904\n",
            "Epoch [50/100], Loss: 0.6913, Val Loss: 0.6903\n",
            "Epoch [60/100], Loss: 0.6910, Val Loss: 0.6902\n",
            "Epoch [70/100], Loss: 0.6906, Val Loss: 0.6901\n",
            "Epoch [80/100], Loss: 0.6902, Val Loss: 0.6900\n",
            "Epoch [90/100], Loss: 0.6899, Val Loss: 0.6899\n",
            "Epoch [100/100], Loss: 0.6895, Val Loss: 0.6897\n"
          ]
        }
      ]
    },
    {
      "cell_type": "code",
      "source": [
        "plt.plot(training_losses, label='Training Loss') # plot the losses\n",
        "plt.plot(validation_losses, label='Validation Loss')\n",
        "plt.xlabel('Epoch')\n",
        "plt.ylabel('Loss')\n",
        "plt.title('Training and Validation Loss Over Epochs')\n",
        "plt.legend()\n",
        "plt.show()"
      ],
      "metadata": {
        "colab": {
          "base_uri": "https://localhost:8080/",
          "height": 472
        },
        "id": "7HgMh6wBoyae",
        "outputId": "e4b3efed-efc6-421d-ba98-944a5fa93e21"
      },
      "execution_count": 141,
      "outputs": [
        {
          "output_type": "display_data",
          "data": {
            "text/plain": [
              "<Figure size 640x480 with 1 Axes>"
            ],
            "image/png": "[encoded data removed]"
          },
          "metadata": {}
        }
      ]
    },
    {
      "cell_type": "code",
      "source": [
        "num_epochs = 200 # training loop\n",
        "training_losses = []\n",
        "validation_losses = []\n",
        "\n",
        "for epoch in range(num_epochs):\n",
        "    model.train()\n",
        "\n",
        "    outputs = model(X_train)   # Forward pass\n",
        "    loss = criterion(outputs, y_train)\n",
        "\n",
        "    optimizer.zero_grad()  # backward pass and optimization\n",
        "    loss.backward()\n",
        "    optimizer.step()\n",
        "\n",
        "    training_losses.append(loss.item())\n",
        "\n",
        "    model.eval()\n",
        "    with torch.no_grad():\n",
        "        val_outputs = model(X_test)\n",
        "        val_loss = criterion(val_outputs, y_test)\n",
        "        validation_losses.append(val_loss.item())\n",
        "\n",
        "    if (epoch + 1) % 10 == 0:\n",
        "        print(f'Epoch [{epoch + 1}/{num_epochs}], Loss: {loss.item():.4f}, Val Loss: {val_loss.item():.4f}')"
      ],
      "metadata": {
        "colab": {
          "base_uri": "https://localhost:8080/"
        },
        "id": "cQze6ZaFhw94",
        "outputId": "a7fc36b9-194e-4772-b7c6-dd22545c619e"
      },
      "execution_count": 142,
      "outputs": [
        {
          "output_type": "stream",
          "name": "stdout",
          "text": [
            "Epoch [10/200], Loss: 0.6892, Val Loss: 0.6896\n",
            "Epoch [20/200], Loss: 0.6888, Val Loss: 0.6895\n",
            "Epoch [30/200], Loss: 0.6885, Val Loss: 0.6894\n",
            "Epoch [40/200], Loss: 0.6881, Val Loss: 0.6892\n",
            "Epoch [50/200], Loss: 0.6877, Val Loss: 0.6891\n",
            "Epoch [60/200], Loss: 0.6874, Val Loss: 0.6890\n",
            "Epoch [70/200], Loss: 0.6870, Val Loss: 0.6889\n",
            "Epoch [80/200], Loss: 0.6867, Val Loss: 0.6888\n",
            "Epoch [90/200], Loss: 0.6864, Val Loss: 0.6887\n",
            "Epoch [100/200], Loss: 0.6860, Val Loss: 0.6887\n",
            "Epoch [110/200], Loss: 0.6857, Val Loss: 0.6887\n",
            "Epoch [120/200], Loss: 0.6854, Val Loss: 0.6887\n",
            "Epoch [130/200], Loss: 0.6850, Val Loss: 0.6887\n",
            "Epoch [140/200], Loss: 0.6847, Val Loss: 0.6887\n",
            "Epoch [150/200], Loss: 0.6843, Val Loss: 0.6887\n",
            "Epoch [160/200], Loss: 0.6840, Val Loss: 0.6887\n",
            "Epoch [170/200], Loss: 0.6836, Val Loss: 0.6886\n",
            "Epoch [180/200], Loss: 0.6833, Val Loss: 0.6887\n",
            "Epoch [190/200], Loss: 0.6829, Val Loss: 0.6887\n",
            "Epoch [200/200], Loss: 0.6825, Val Loss: 0.6888\n"
          ]
        }
      ]
    },
    {
      "cell_type": "code",
      "source": [
        "plt.plot(training_losses, label='Training Loss') # plot the losses\n",
        "plt.plot(validation_losses, label='Validation Loss')\n",
        "plt.xlabel('Epoch')\n",
        "plt.ylabel('Loss')\n",
        "plt.title('Training and Validation Loss Over Epochs')\n",
        "plt.legend()\n",
        "plt.show()"
      ],
      "metadata": {
        "colab": {
          "base_uri": "https://localhost:8080/",
          "height": 472
        },
        "id": "YnPcclX-h_60",
        "outputId": "11839534-2337-4e16-c59b-b0d2ab5ca634"
      },
      "execution_count": 143,
      "outputs": [
        {
          "output_type": "display_data",
          "data": {
            "text/plain": [
              "<Figure size 640x480 with 1 Axes>"
            ],
            "image/png": "[encoded data removed]"
          },
          "metadata": {}
        }
      ]
    },
    {
      "cell_type": "code",
      "source": [
        "model.eval() # evaluate the Model\n",
        "with torch.no_grad():\n",
        "    y_predicted = model(X_test).round()"
      ],
      "metadata": {
        "id": "WZS0Q4EYo3P_"
      },
      "execution_count": 144,
      "outputs": []
    },
    {
      "cell_type": "code",
      "source": [
        "unique_values = y_predicted.unique()\n",
        "print(f'Unique values in predictions: {unique_values}')"
      ],
      "metadata": {
        "colab": {
          "base_uri": "https://localhost:8080/"
        },
        "id": "U99GZ2ECr8j9",
        "outputId": "36264300-2134-4bf7-d139-0fd360744823"
      },
      "execution_count": 145,
      "outputs": [
        {
          "output_type": "stream",
          "name": "stdout",
          "text": [
            "Unique values in predictions: tensor([0., 1.])\n"
          ]
        }
      ]
    },
    {
      "cell_type": "markdown",
      "source": [
        "The unique values tensor([0., 1.]) in the model's predictions indicate that the model is making binary predictions and can predict both classes.\n",
        "\n"
      ],
      "metadata": {
        "id": "qMvh_4Aof3PZ"
      }
    },
    {
      "cell_type": "code",
      "source": [
        "# is y_test correctly shaped for sklearn's classification_report?\n",
        "y_test_flat = y_test.flatten()"
      ],
      "metadata": {
        "id": "CgHR0ZIcupnD"
      },
      "execution_count": 146,
      "outputs": []
    },
    {
      "cell_type": "code",
      "source": [
        "if len(unique_values) == 1:  # if only one class is predicted, avoid using classification_report\n",
        "    print(f'Only one class ({unique_values.item()}) predicted. Cannot generate classification report.')\n",
        "else:\n",
        "    print(classification_report(y_test_flat, y_predicted, target_names=['class 0', 'class 1']))"
      ],
      "metadata": {
        "colab": {
          "base_uri": "https://localhost:8080/"
        },
        "id": "EyhuRdWvuwLZ",
        "outputId": "1d179afe-85d0-45d0-a5e8-4bf740c4de02"
      },
      "execution_count": 147,
      "outputs": [
        {
          "output_type": "stream",
          "name": "stdout",
          "text": [
            "              precision    recall  f1-score   support\n",
            "\n",
            "     class 0       0.47      0.54      0.50        13\n",
            "     class 1       0.60      0.53      0.56        17\n",
            "\n",
            "    accuracy                           0.53        30\n",
            "   macro avg       0.53      0.53      0.53        30\n",
            "weighted avg       0.54      0.53      0.54        30\n",
            "\n"
          ]
        }
      ]
    },
    {
      "cell_type": "code",
      "source": [
        "print(pd.Series(y_train.numpy().flatten()).value_counts())  # check Data Distribution"
      ],
      "metadata": {
        "colab": {
          "base_uri": "https://localhost:8080/"
        },
        "id": "FEj7JCLsvdKH",
        "outputId": "17f68270-e741-46a8-839b-db3da2aafc42"
      },
      "execution_count": 148,
      "outputs": [
        {
          "output_type": "stream",
          "name": "stdout",
          "text": [
            "1.0    51\n",
            "0.0    49\n",
            "Name: count, dtype: int64\n"
          ]
        }
      ]
    },
    {
      "cell_type": "code",
      "source": [
        "with torch.no_grad(): # inspect Model Predictions\n",
        "    raw_outputs = model(X_test)\n",
        "    print(raw_outputs[:10])"
      ],
      "metadata": {
        "colab": {
          "base_uri": "https://localhost:8080/"
        },
        "id": "2qhKsFMbve3m",
        "outputId": "b0803aff-e6cf-4f74-8716-0310b7c0116d"
      },
      "execution_count": 149,
      "outputs": [
        {
          "output_type": "stream",
          "name": "stdout",
          "text": [
            "tensor([[0.4863],\n",
            "        [0.5165],\n",
            "        [0.5578],\n",
            "        [0.5086],\n",
            "        [0.4999],\n",
            "        [0.5560],\n",
            "        [0.5281],\n",
            "        [0.5227],\n",
            "        [0.5593],\n",
            "        [0.4953]])\n"
          ]
        }
      ]
    },
    {
      "cell_type": "markdown",
      "source": [
        "The given tensor represents predicted probabilities for the positive class, with values close to 0.5644 indicating certainty in the predictions."
      ],
      "metadata": {
        "id": "KsXOjUw4fqG2"
      }
    },
    {
      "cell_type": "code",
      "source": [
        "threshold = 0.3  # adjust this value as needed\n",
        "with torch.no_grad():\n",
        "    y_predicted = (model(X_test) > threshold).float()\n",
        "    unique_values = y_predicted.unique()\n",
        "    print(f'Unique values in predictions with threshold {threshold}: {unique_values}')\n",
        "\n",
        "if len(unique_values) == 1:\n",
        "    print(f'Only one class ({unique_values.item()}) predicted with threshold {threshold}.')\n",
        "else:\n",
        "    print(classification_report(y_test.flatten(), y_predicted, target_names=['class 0', 'class 1']))"
      ],
      "metadata": {
        "colab": {
          "base_uri": "https://localhost:8080/"
        },
        "id": "rWf8qktlvw43",
        "outputId": "cdc76642-a6cd-42ff-e0af-7d53e2a75c7b"
      },
      "execution_count": 150,
      "outputs": [
        {
          "output_type": "stream",
          "name": "stdout",
          "text": [
            "Unique values in predictions with threshold 0.3: tensor([1.])\n",
            "Only one class (1.0) predicted with threshold 0.3.\n"
          ]
        }
      ]
    },
    {
      "cell_type": "code",
      "source": [
        "threshold = 0.5  # adjust this value as needed\n",
        "with torch.no_grad():\n",
        "    y_predicted = (model(X_test) > threshold).float()\n",
        "    unique_values = y_predicted.unique()\n",
        "    print(f'Unique values in predictions with threshold {threshold}: {unique_values}')\n",
        "\n",
        "if len(unique_values) == 1:\n",
        "    print(f'Only one class ({unique_values.item()}) predicted with threshold {threshold}.')\n",
        "else:\n",
        "    print(classification_report(y_test.flatten(), y_predicted, target_names=['class 0', 'class 1']))"
      ],
      "metadata": {
        "id": "t91Ap9s-uK2M",
        "colab": {
          "base_uri": "https://localhost:8080/"
        },
        "outputId": "6b1c2b7f-6ddd-4536-95d6-e7e4e72d58d7"
      },
      "execution_count": 151,
      "outputs": [
        {
          "output_type": "stream",
          "name": "stdout",
          "text": [
            "Unique values in predictions with threshold 0.5: tensor([0., 1.])\n",
            "              precision    recall  f1-score   support\n",
            "\n",
            "     class 0       0.47      0.54      0.50        13\n",
            "     class 1       0.60      0.53      0.56        17\n",
            "\n",
            "    accuracy                           0.53        30\n",
            "   macro avg       0.53      0.53      0.53        30\n",
            "weighted avg       0.54      0.53      0.54        30\n",
            "\n"
          ]
        }
      ]
    }
  ]
}