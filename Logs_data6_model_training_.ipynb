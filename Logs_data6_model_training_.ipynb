{
  "nbformat": 4,
  "nbformat_minor": 0,
  "metadata": {
    "colab": {
      "provenance": [],
      "authorship_tag": "ABX9TyPjdmglQKJU6kuqN/FBQSSr",
      "include_colab_link": true
    },
    "kernelspec": {
      "name": "python3",
      "display_name": "Python 3"
    },
    "language_info": {
      "name": "python"
    }
  },
  "cells": [
    {
      "cell_type": "markdown",
      "metadata": {
        "id": "view-in-github",
        "colab_type": "text"
      },
      "source": [
        "<a href=\"https://colab.research.google.com/github/eeolga/deep/blob/main/Logs_data6_model_training_.ipynb\" target=\"_parent\"><img src=\"https://colab.research.google.com/assets/colab-badge.svg\" alt=\"Open In Colab\"/></a>"
      ]
    },
    {
      "cell_type": "code",
      "execution_count": 1,
      "metadata": {
        "id": "4E4QCCGLduCq"
      },
      "outputs": [],
      "source": [
        "import pandas as pd\n",
        "import torch\n",
        "import torch.nn as nn\n",
        "import torch.optim as optim\n",
        "from sklearn.model_selection import train_test_split\n",
        "from sklearn.preprocessing import StandardScaler\n",
        "from sklearn.metrics import classification_report\n",
        "import matplotlib.pyplot as plt"
      ]
    },
    {
      "cell_type": "code",
      "source": [
        "# Data from Excel\n",
        "file_path = '/content/logs_5_xls.xlsx'\n",
        "data = pd.read_excel(file_path)"
      ],
      "metadata": {
        "id": "xvfWwDMVnfTK"
      },
      "execution_count": 2,
      "outputs": []
    },
    {
      "cell_type": "code",
      "source": [
        "X = data.drop('Grade', axis=1).values\n",
        "y = data['Grade'].values"
      ],
      "metadata": {
        "id": "-qqbUzPVnnMk"
      },
      "execution_count": 3,
      "outputs": []
    },
    {
      "cell_type": "code",
      "source": [
        "# Ensure target values are 0 or 1\n",
        "y = (y == 1).astype(float)"
      ],
      "metadata": {
        "id": "oLO9OkHqnwJr"
      },
      "execution_count": 4,
      "outputs": []
    },
    {
      "cell_type": "code",
      "source": [
        "#  Preprocess Data\n",
        "# Split the data into training and testing sets\n",
        "X_train, X_test, y_train, y_test = train_test_split(X, y, test_size=0.2, random_state=42)"
      ],
      "metadata": {
        "id": "knsvl82Pn2HQ"
      },
      "execution_count": 5,
      "outputs": []
    },
    {
      "cell_type": "code",
      "source": [
        "# Standardize features by removing the mean and scaling to unit variance\n",
        "scaler = StandardScaler()\n",
        "X_train = scaler.fit_transform(X_train)\n",
        "X_test = scaler.transform(X_test)"
      ],
      "metadata": {
        "id": "uKxAdwu6n-sw"
      },
      "execution_count": 6,
      "outputs": []
    },
    {
      "cell_type": "code",
      "source": [
        "# Convert to PyTorch tensors\n",
        "X_train = torch.tensor(X_train, dtype=torch.float32)\n",
        "y_train = torch.tensor(y_train, dtype=torch.float32).unsqueeze(1)\n",
        "X_test = torch.tensor(X_test, dtype=torch.float32)\n",
        "y_test = torch.tensor(y_test, dtype=torch.float32).unsqueeze(1)"
      ],
      "metadata": {
        "id": "drlpUG6yoFUz"
      },
      "execution_count": 7,
      "outputs": []
    },
    {
      "cell_type": "code",
      "source": [
        "# Define the Model\n",
        "class SimpleNN(nn.Module):\n",
        "    def __init__(self, input_dim):\n",
        "        super(SimpleNN, self).__init__()\n",
        "        self.layer1 = nn.Linear(input_dim, 64)\n",
        "        self.layer2 = nn.Linear(64, 32)\n",
        "        self.layer3 = nn.Linear(32, 1)\n",
        "\n",
        "    def forward(self, x):\n",
        "        x = torch.relu(self.layer1(x))\n",
        "        x = torch.relu(self.layer2(x))\n",
        "        x = torch.sigmoid(self.layer3(x))\n",
        "        return x\n"
      ],
      "metadata": {
        "id": "emDuud_8oMFM"
      },
      "execution_count": 8,
      "outputs": []
    },
    {
      "cell_type": "code",
      "source": [
        "input_dim = X_train.shape[1]\n",
        "model = SimpleNN(input_dim)"
      ],
      "metadata": {
        "id": "WphfGFh9oT5f"
      },
      "execution_count": 9,
      "outputs": []
    },
    {
      "cell_type": "code",
      "source": [
        "#  Define Loss Function and Optimizer\n",
        "criterion = nn.BCELoss()  # Binary Cross-Entropy Loss for binary classification\n",
        "optimizer = optim.Adam(model.parameters(), lr=0.001)"
      ],
      "metadata": {
        "id": "7gqTqGsgoYp-"
      },
      "execution_count": 10,
      "outputs": []
    },
    {
      "cell_type": "code",
      "source": [
        "# Train the Model\n",
        "num_epochs = 100\n",
        "training_losses = []\n",
        "validation_losses = []"
      ],
      "metadata": {
        "id": "Cek1yreXoixL"
      },
      "execution_count": 11,
      "outputs": []
    },
    {
      "cell_type": "code",
      "source": [
        "for epoch in range(num_epochs):\n",
        "    model.train()\n",
        "\n",
        "    # Forward pass\n",
        "    outputs = model(X_train)\n",
        "    loss = criterion(outputs, y_train)\n",
        "\n",
        "    # Backward pass and optimization\n",
        "    optimizer.zero_grad()\n",
        "    loss.backward()\n",
        "    optimizer.step()\n",
        "\n",
        "    training_losses.append(loss.item())\n",
        "\n",
        "    model.eval()\n",
        "    with torch.no_grad():\n",
        "        val_outputs = model(X_test)\n",
        "        val_loss = criterion(val_outputs, y_test)\n",
        "        validation_losses.append(val_loss.item())\n",
        "\n",
        "    if (epoch+1) % 10 == 0:\n",
        "        print(f'Epoch [{epoch+1}/{num_epochs}], Loss: {loss.item():.4f}, Val Loss: {val_loss.item():.4f}')"
      ],
      "metadata": {
        "colab": {
          "base_uri": "https://localhost:8080/"
        },
        "id": "LJFVlQfPouEX",
        "outputId": "9065cae0-a0cb-4bb9-ae8a-80d864fecd59"
      },
      "execution_count": 12,
      "outputs": [
        {
          "output_type": "stream",
          "name": "stdout",
          "text": [
            "Epoch [10/100], Loss: 0.6228, Val Loss: 0.5697\n",
            "Epoch [20/100], Loss: 0.4805, Val Loss: 0.3980\n",
            "Epoch [30/100], Loss: 0.3403, Val Loss: 0.2463\n",
            "Epoch [40/100], Loss: 0.2168, Val Loss: 0.1392\n",
            "Epoch [50/100], Loss: 0.1271, Val Loss: 0.0748\n",
            "Epoch [60/100], Loss: 0.0726, Val Loss: 0.0407\n",
            "Epoch [70/100], Loss: 0.0431, Val Loss: 0.0237\n",
            "Epoch [80/100], Loss: 0.0276, Val Loss: 0.0151\n",
            "Epoch [90/100], Loss: 0.0191, Val Loss: 0.0105\n",
            "Epoch [100/100], Loss: 0.0140, Val Loss: 0.0078\n"
          ]
        }
      ]
    },
    {
      "cell_type": "code",
      "source": [
        "# Plot the losses\n",
        "plt.plot(training_losses, label='Training Loss')\n",
        "plt.plot(validation_losses, label='Validation Loss')\n",
        "plt.xlabel('Epoch')\n",
        "plt.ylabel('Loss')\n",
        "plt.title('Training and Validation Loss Over Epochs')\n",
        "plt.legend()\n",
        "plt.show()"
      ],
      "metadata": {
        "colab": {
          "base_uri": "https://localhost:8080/",
          "height": 472
        },
        "id": "7HgMh6wBoyae",
        "outputId": "e98944c5-9c02-4a7f-cab6-9f40fafabf2c"
      },
      "execution_count": 13,
      "outputs": [
        {
          "output_type": "display_data",
          "data": {
            "text/plain": [
              "<Figure size 640x480 with 1 Axes>"
            ],
            "image/png": "[encoded data removed]"
          },
          "metadata": {}
        }
      ]
    },
    {
      "cell_type": "code",
      "source": [
        "# Evaluate the Model\n",
        "model.eval()\n",
        "with torch.no_grad():\n",
        "    y_predicted = model(X_test).round()"
      ],
      "metadata": {
        "id": "WZS0Q4EYo3P_"
      },
      "execution_count": 15,
      "outputs": []
    },
    {
      "cell_type": "code",
      "source": [
        "# Check unique values in y_predicted\n",
        "unique_values = y_predicted.unique()\n",
        "print(f'Unique values in predictions: {unique_values}')"
      ],
      "metadata": {
        "colab": {
          "base_uri": "https://localhost:8080/"
        },
        "id": "U99GZ2ECr8j9",
        "outputId": "cc6b6bce-427b-446d-def7-ca01a84b7b9c"
      },
      "execution_count": 16,
      "outputs": [
        {
          "output_type": "stream",
          "name": "stdout",
          "text": [
            "Unique values in predictions: tensor([0.])\n"
          ]
        }
      ]
    },
    {
      "cell_type": "code",
      "source": [
        "# Ensure y_test is correctly shaped for sklearn's classification_report\n",
        "y_test_flat = y_test.flatten()"
      ],
      "metadata": {
        "id": "CgHR0ZIcupnD"
      },
      "execution_count": 17,
      "outputs": []
    },
    {
      "cell_type": "code",
      "source": [
        "# If only one class is predicted, avoid using classification_report\n",
        "if len(unique_values) == 1:\n",
        "    print(f'Only one class ({unique_values.item()}) predicted. Cannot generate classification report.')\n",
        "else:\n",
        "    print(classification_report(y_test_flat, y_predicted, target_names=['class 0', 'class 1']))"
      ],
      "metadata": {
        "colab": {
          "base_uri": "https://localhost:8080/"
        },
        "id": "EyhuRdWvuwLZ",
        "outputId": "97f494e8-07b0-453c-ec71-5534d1987f74"
      },
      "execution_count": 18,
      "outputs": [
        {
          "output_type": "stream",
          "name": "stdout",
          "text": [
            "Only one class (0.0) predicted. Cannot generate classification report.\n"
          ]
        }
      ]
    },
    {
      "cell_type": "code",
      "source": [
        "# Check Data Distribution\n",
        "print(pd.Series(y_train.numpy().flatten()).value_counts())"
      ],
      "metadata": {
        "colab": {
          "base_uri": "https://localhost:8080/"
        },
        "id": "FEj7JCLsvdKH",
        "outputId": "2e741b83-7d33-40ef-8c63-ee5131d815ea"
      },
      "execution_count": 19,
      "outputs": [
        {
          "output_type": "stream",
          "name": "stdout",
          "text": [
            "0.0    13\n",
            "Name: count, dtype: int64\n"
          ]
        }
      ]
    },
    {
      "cell_type": "code",
      "source": [
        "# Inspect Model Predictions\n",
        "with torch.no_grad():\n",
        "    raw_outputs = model(X_test)\n",
        "    print(raw_outputs[:10])  # Print the first 10 outputs"
      ],
      "metadata": {
        "colab": {
          "base_uri": "https://localhost:8080/"
        },
        "id": "2qhKsFMbve3m",
        "outputId": "31b4237b-1249-4958-bb2f-b614676b4a0f"
      },
      "execution_count": 20,
      "outputs": [
        {
          "output_type": "stream",
          "name": "stdout",
          "text": [
            "tensor([[4.3918e-03],\n",
            "        [1.1135e-02],\n",
            "        [4.5070e-05],\n",
            "        [1.5400e-02]])\n"
          ]
        }
      ]
    },
    {
      "cell_type": "code",
      "source": [
        "# djust Classification Threshold\n",
        "threshold = 0.3  # Adjust this value as needed\n",
        "with torch.no_grad():\n",
        "    y_predicted = (model(X_test) > threshold).float()\n",
        "    unique_values = y_predicted.unique()\n",
        "    print(f'Unique values in predictions with threshold {threshold}: {unique_values}')\n",
        "\n",
        "if len(unique_values) == 1:\n",
        "    print(f'Only one class ({unique_values.item()}) predicted with threshold {threshold}.')\n",
        "else:\n",
        "    print(classification_report(y_test.flatten(), y_predicted, target_names=['class 0', 'class 1']))"
      ],
      "metadata": {
        "colab": {
          "base_uri": "https://localhost:8080/"
        },
        "id": "rWf8qktlvw43",
        "outputId": "0b67e978-5b0d-443b-8f15-7d15df09911b"
      },
      "execution_count": 21,
      "outputs": [
        {
          "output_type": "stream",
          "name": "stdout",
          "text": [
            "Unique values in predictions with threshold 0.3: tensor([0.])\n",
            "Only one class (0.0) predicted with threshold 0.3.\n"
          ]
        }
      ]
    },
    {
      "cell_type": "code",
      "source": [
        "# Review and Improve Model Architecture\n",
        "class ImprovedNN(nn.Module):\n",
        "    def __init__(self, input_dim):\n",
        "        super(ImprovedNN, self).__init__()\n",
        "        self.layer1 = nn.Linear(input_dim, 128)\n",
        "        self.layer2 = nn.Linear(128, 64)\n",
        "        self.layer3 = nn.Linear(64, 32)\n",
        "        self.layer4 = nn.Linear(32, 1)\n",
        "\n",
        "    def forward(self, x):\n",
        "        x = torch.relu(self.layer1(x))\n",
        "        x = torch.relu(self.layer2(x))\n",
        "        x = torch.relu(self.layer3(x))\n",
        "        x = torch.sigmoid(self.layer4(x))\n",
        "        return x\n",
        "\n",
        "model = ImprovedNN(input_dim)"
      ],
      "metadata": {
        "id": "POfjkrk_v5eW"
      },
      "execution_count": 22,
      "outputs": []
    },
    {
      "cell_type": "code",
      "source": [
        "import pandas as pd\n",
        "import torch\n",
        "import torch.nn as nn\n",
        "import torch.optim as optim\n",
        "from sklearn.model_selection import train_test_split\n",
        "from sklearn.preprocessing import StandardScaler\n",
        "from sklearn.metrics import classification_report\n",
        "import matplotlib.pyplot as plt\n",
        "\n",
        "# Step 1: Load Data from Excel\n",
        "file_path = '/content/logs_5_xls.xlsx'\n",
        "data = pd.read_excel(file_path)\n",
        "\n",
        "# Assuming your Excel file has columns 'features' and 'target'\n",
        "X = data.drop('Grade', axis=1).values\n",
        "y = data['Grade'].values\n",
        "\n",
        "# Ensure target values are 0 or 1\n",
        "y = (y == 1).astype(float)\n",
        "\n",
        "# Step 2: Preprocess Data\n",
        "X_train, X_test, y_train, y_test = train_test_split(X, y, test_size=0.2, random_state=42)\n",
        "scaler = StandardScaler()\n",
        "X_train = scaler.fit_transform(X_train)\n",
        "X_test = scaler.transform(X_test)\n",
        "X_train = torch.tensor(X_train, dtype=torch.float32)\n",
        "y_train = torch.tensor(y_train, dtype=torch.float32).unsqueeze(1)\n",
        "X_test = torch.tensor(X_test, dtype=torch.float32)\n",
        "y_test = torch.tensor(y_test, dtype=torch.float32).unsqueeze(1)\n",
        "\n",
        "# Step 3: Define the Model\n",
        "class ImprovedNN(nn.Module):\n",
        "    def __init__(self, input_dim):\n",
        "        super(ImprovedNN, self).__init__()\n",
        "        self.layer1 = nn.Linear(input_dim, 128)\n",
        "        self.layer2 = nn.Linear(128, 64)\n",
        "        self.layer3 = nn.Linear(64, 32)\n",
        "        self.layer4 = nn.Linear(32, 1)\n",
        "\n",
        "    def forward(self, x):\n",
        "        x = torch.relu(self.layer1(x))\n",
        "        x = torch.relu(self.layer2(x))\n",
        "        x = torch.relu(self.layer3(x))\n",
        "        x = torch.sigmoid(self.layer4(x))\n",
        "        return x\n",
        "\n",
        "input_dim = X_train.shape[1]\n",
        "model = ImprovedNN(input_dim)\n",
        "\n",
        "# Step 4: Define Loss Function and Optimizer\n",
        "criterion = nn.BCELoss()  # Binary Cross-Entropy Loss\n",
        "optimizer = optim.Adam(model.parameters(), lr=0.001)\n",
        "\n",
        "# Step 5: Train the Model\n",
        "num_epochs = 100\n",
        "training_losses = []\n",
        "validation_losses = []\n",
        "\n",
        "for epoch in range(num_epochs):\n",
        "    model.train()\n",
        "    outputs = model(X_train)\n",
        "    loss = criterion(outputs, y_train)\n",
        "    optimizer.zero_grad()\n",
        "    loss.backward()\n",
        "    optimizer.step()\n",
        "    training_losses.append(loss.item())\n",
        "\n",
        "    model.eval()\n",
        "    with torch.no_grad():\n",
        "        val_outputs = model(X_test)\n",
        "        val_loss = criterion(val_outputs, y_test)\n",
        "        validation_losses.append(val_loss.item())\n",
        "\n",
        "    if (epoch+1) % 10 == 0:\n",
        "        print(f'Epoch [{epoch+1}/{num_epochs}], Loss: {loss.item():.4f}, Val Loss: {val_loss.item():.4f}')\n",
        "\n",
        "plt.plot(training_losses, label='Training Loss')\n",
        "plt.plot(validation_losses, label='Validation Loss')\n",
        "plt.xlabel('Epoch')\n",
        "plt.ylabel('Loss')\n",
        "plt.title('Training and Validation Loss Over Epochs')\n",
        "plt.legend()\n",
        "plt.show()\n",
        "\n",
        "# Step 6: Evaluate the Model\n",
        "model.eval()\n",
        "with torch.no_grad():\n",
        "    raw_outputs = model(X_test)\n",
        "    print(f'Raw outputs (first 10): {raw_outputs[:10].flatten()}')\n",
        "\n",
        "    # Adjust threshold if necessary\n",
        "    threshold = 0.3\n",
        "    y_predicted = (raw_outputs > threshold).float()\n",
        "    unique_values = y_predicted.unique()\n",
        "    print(f'Unique values in predictions with threshold {threshold}: {unique_values}')\n",
        "\n",
        "    y_test_flat = y_test.flatten()\n",
        "    if len(unique_values) == 1:\n",
        "        print(f'Only one class ({unique_values.item()}) predicted with threshold {threshold}.')\n",
        "    else:\n",
        "        print(classification_report(y_test_flat, y_predicted, target_names=['class 0', 'class 1']))"
      ],
      "metadata": {
        "colab": {
          "base_uri": "https://localhost:8080/",
          "height": 707
        },
        "id": "3QmUEIygwByZ",
        "outputId": "7170ab49-a3ea-4feb-e5c0-d15738b0ad35"
      },
      "execution_count": 25,
      "outputs": [
        {
          "output_type": "stream",
          "name": "stdout",
          "text": [
            "Epoch [10/100], Loss: 0.5021, Val Loss: 0.4016\n",
            "Epoch [20/100], Loss: 0.2315, Val Loss: 0.1371\n",
            "Epoch [30/100], Loss: 0.0488, Val Loss: 0.0243\n",
            "Epoch [40/100], Loss: 0.0080, Val Loss: 0.0042\n",
            "Epoch [50/100], Loss: 0.0022, Val Loss: 0.0013\n",
            "Epoch [60/100], Loss: 0.0011, Val Loss: 0.0007\n",
            "Epoch [70/100], Loss: 0.0008, Val Loss: 0.0005\n",
            "Epoch [80/100], Loss: 0.0006, Val Loss: 0.0004\n",
            "Epoch [90/100], Loss: 0.0005, Val Loss: 0.0003\n",
            "Epoch [100/100], Loss: 0.0005, Val Loss: 0.0003\n"
          ]
        },
        {
          "output_type": "display_data",
          "data": {
            "text/plain": [
              "<Figure size 640x480 with 1 Axes>"
            ],
            "image/png": "[encoded data removed]"
          },
          "metadata": {}
        },
        {
          "output_type": "stream",
          "name": "stdout",
          "text": [
            "Raw outputs (first 10): tensor([4.7647e-05, 3.8488e-04, 4.4916e-10, 8.1370e-04])\n",
            "Unique values in predictions with threshold 0.3: tensor([0.])\n",
            "Only one class (0.0) predicted with threshold 0.3.\n"
          ]
        }
      ]
    },
    {
      "cell_type": "markdown",
      "source": [
        "The results show that the initial model output values (probabilities) are shallow for the first 10 test samples. These low values are well below the default threshold of 0.5 (and even the adjusted threshold of 0.3), which results in all forecasts being classified as class 0."
      ],
      "metadata": {
        "id": "StdOoHvKuxXj"
      }
    }
  ]
}