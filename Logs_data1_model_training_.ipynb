{
  "nbformat": 4,
  "nbformat_minor": 0,
  "metadata": {
    "colab": {
      "provenance": [],
      "authorship_tag": "ABX9TyPGipKmtf2ei7jg1AeXQeaj",
      "include_colab_link": true
    },
    "kernelspec": {
      "name": "python3",
      "display_name": "Python 3"
    },
    "language_info": {
      "name": "python"
    }
  },
  "cells": [
    {
      "cell_type": "markdown",
      "metadata": {
        "id": "view-in-github",
        "colab_type": "text"
      },
      "source": [
        "<a href=\"https://colab.research.google.com/github/eeolga/deep/blob/main/Logs_data1_model_training_.ipynb\" target=\"_parent\"><img src=\"https://colab.research.google.com/assets/colab-badge.svg\" alt=\"Open In Colab\"/></a>"
      ]
    },
    {
      "cell_type": "code",
      "execution_count": null,
      "metadata": {
        "id": "4E4QCCGLduCq"
      },
      "outputs": [],
      "source": [
        "import pandas as pd"
      ]
    },
    {
      "cell_type": "code",
      "source": [
        "import torch\n",
        "import torch.nn as nn"
      ],
      "metadata": {
        "id": "nRGmnHqqOxaa"
      },
      "execution_count": null,
      "outputs": []
    },
    {
      "cell_type": "code",
      "source": [
        "import torch.optim as optim"
      ],
      "metadata": {
        "id": "AQBAhxIUO7A3"
      },
      "execution_count": null,
      "outputs": []
    },
    {
      "cell_type": "code",
      "source": [
        "from sklearn.model_selection import train_test_split\n",
        "from sklearn.preprocessing import StandardScaler\n",
        "from sklearn.metrics import classification_report"
      ],
      "metadata": {
        "id": "LYReQVWCO-Ux"
      },
      "execution_count": null,
      "outputs": []
    },
    {
      "cell_type": "code",
      "source": [
        "import matplotlib.pyplot as plt"
      ],
      "metadata": {
        "id": "g0wcU_0wPCxw"
      },
      "execution_count": null,
      "outputs": []
    },
    {
      "cell_type": "code",
      "source": [
        "file_path = '/content/logs_CAD_2024_1.xlsx' # Data from Excel\n",
        "data = pd.read_excel(file_path)"
      ],
      "metadata": {
        "id": "xvfWwDMVnfTK"
      },
      "execution_count": null,
      "outputs": []
    },
    {
      "cell_type": "code",
      "source": [
        "display(pd.DataFrame(data))"
      ],
      "metadata": {
        "colab": {
          "base_uri": "https://localhost:8080/",
          "height": 423
        },
        "id": "9s8qiBzZR0oj",
        "outputId": "4517a680-12ff-4965-ba19-662da1139ebd"
      },
      "execution_count": null,
      "outputs": [
        {
          "output_type": "display_data",
          "data": {
            "text/plain": [
              "               timestamp  user_id  tool_id  log_count  lesson  day_part\n",
              "0     15/04/24, 11:37:03    26861   233243        3.0       0         1\n",
              "1     15/04/24, 11:37:03    26861   233243        0.0       0         1\n",
              "2     15/04/24, 11:37:03    26861   233243        0.0       0         1\n",
              "3     15/04/24, 11:30:50    26861     2949        1.0       0         1\n",
              "4     15/04/24, 11:30:37    26861   244208        3.0       0         1\n",
              "...                  ...      ...      ...        ...     ...       ...\n",
              "6091   1/02/24, 20:00:42    29349     2949        0.0       0         3\n",
              "6092  29/01/24, 19:00:53    29349     2949        0.0       0         3\n",
              "6093  29/01/24, 19:00:52    29349     2949        0.0       0         3\n",
              "6094  29/01/24, 19:00:52    29349     2949        0.0       0         3\n",
              "6095  29/01/24, 19:00:52    29349     2949        0.0       0         3\n",
              "\n",
              "[6096 rows x 6 columns]"
            ],
            "text/html": [
              "\n",
              "  <div id=\"df-cb1c151f-1fc3-4eb5-b44f-29dbec091c3d\" class=\"colab-df-container\">\n",
              "    <div>\n",
              "<style scoped>\n",
              "    .dataframe tbody tr th:only-of-type {\n",
              "        vertical-align: middle;\n",
              "    }\n",
              "\n",
              "    .dataframe tbody tr th {\n",
              "        vertical-align: top;\n",
              "    }\n",
              "\n",
              "    .dataframe thead th {\n",
              "        text-align: right;\n",
              "    }\n",
              "</style>\n",
              "<table border=\"1\" class=\"dataframe\">\n",
              "  <thead>\n",
              "    <tr style=\"text-align: right;\">\n",
              "      <th></th>\n",
              "      <th>timestamp</th>\n",
              "      <th>user_id</th>\n",
              "      <th>tool_id</th>\n",
              "      <th>log_count</th>\n",
              "      <th>lesson</th>\n",
              "      <th>day_part</th>\n",
              "    </tr>\n",
              "  </thead>\n",
              "  <tbody>\n",
              "    <tr>\n",
              "      <th>0</th>\n",
              "      <td>15/04/24, 11:37:03</td>\n",
              "      <td>26861</td>\n",
              "      <td>233243</td>\n",
              "      <td>3.0</td>\n",
              "      <td>0</td>\n",
              "      <td>1</td>\n",
              "    </tr>\n",
              "    <tr>\n",
              "      <th>1</th>\n",
              "      <td>15/04/24, 11:37:03</td>\n",
              "      <td>26861</td>\n",
              "      <td>233243</td>\n",
              "      <td>0.0</td>\n",
              "      <td>0</td>\n",
              "      <td>1</td>\n",
              "    </tr>\n",
              "    <tr>\n",
              "      <th>2</th>\n",
              "      <td>15/04/24, 11:37:03</td>\n",
              "      <td>26861</td>\n",
              "      <td>233243</td>\n",
              "      <td>0.0</td>\n",
              "      <td>0</td>\n",
              "      <td>1</td>\n",
              "    </tr>\n",
              "    <tr>\n",
              "      <th>3</th>\n",
              "      <td>15/04/24, 11:30:50</td>\n",
              "      <td>26861</td>\n",
              "      <td>2949</td>\n",
              "      <td>1.0</td>\n",
              "      <td>0</td>\n",
              "      <td>1</td>\n",
              "    </tr>\n",
              "    <tr>\n",
              "      <th>4</th>\n",
              "      <td>15/04/24, 11:30:37</td>\n",
              "      <td>26861</td>\n",
              "      <td>244208</td>\n",
              "      <td>3.0</td>\n",
              "      <td>0</td>\n",
              "      <td>1</td>\n",
              "    </tr>\n",
              "    <tr>\n",
              "      <th>...</th>\n",
              "      <td>...</td>\n",
              "      <td>...</td>\n",
              "      <td>...</td>\n",
              "      <td>...</td>\n",
              "      <td>...</td>\n",
              "      <td>...</td>\n",
              "    </tr>\n",
              "    <tr>\n",
              "      <th>6091</th>\n",
              "      <td>1/02/24, 20:00:42</td>\n",
              "      <td>29349</td>\n",
              "      <td>2949</td>\n",
              "      <td>0.0</td>\n",
              "      <td>0</td>\n",
              "      <td>3</td>\n",
              "    </tr>\n",
              "    <tr>\n",
              "      <th>6092</th>\n",
              "      <td>29/01/24, 19:00:53</td>\n",
              "      <td>29349</td>\n",
              "      <td>2949</td>\n",
              "      <td>0.0</td>\n",
              "      <td>0</td>\n",
              "      <td>3</td>\n",
              "    </tr>\n",
              "    <tr>\n",
              "      <th>6093</th>\n",
              "      <td>29/01/24, 19:00:52</td>\n",
              "      <td>29349</td>\n",
              "      <td>2949</td>\n",
              "      <td>0.0</td>\n",
              "      <td>0</td>\n",
              "      <td>3</td>\n",
              "    </tr>\n",
              "    <tr>\n",
              "      <th>6094</th>\n",
              "      <td>29/01/24, 19:00:52</td>\n",
              "      <td>29349</td>\n",
              "      <td>2949</td>\n",
              "      <td>0.0</td>\n",
              "      <td>0</td>\n",
              "      <td>3</td>\n",
              "    </tr>\n",
              "    <tr>\n",
              "      <th>6095</th>\n",
              "      <td>29/01/24, 19:00:52</td>\n",
              "      <td>29349</td>\n",
              "      <td>2949</td>\n",
              "      <td>0.0</td>\n",
              "      <td>0</td>\n",
              "      <td>3</td>\n",
              "    </tr>\n",
              "  </tbody>\n",
              "</table>\n",
              "<p>6096 rows × 6 columns</p>\n",
              "</div>\n",
              "    <div class=\"colab-df-buttons\">\n",
              "\n",
              "  <div class=\"colab-df-container\">\n",
              "    <button class=\"colab-df-convert\" onclick=\"convertToInteractive('df-cb1c151f-1fc3-4eb5-b44f-29dbec091c3d')\"\n",
              "            title=\"Convert this dataframe to an interactive table.\"\n",
              "            style=\"display:none;\">\n",
              "\n",
              "  <svg xmlns=\"http://www.w3.org/2000/svg\" height=\"24px\" viewBox=\"0 -960 960 960\">\n",
              "    <path d=\"M120-120v-720h720v720H120Zm60-500h600v-160H180v160Zm220 220h160v-160H400v160Zm0 220h160v-160H400v160ZM180-400h160v-160H180v160Zm440 0h160v-160H620v160ZM180-180h160v-160H180v160Zm440 0h160v-160H620v160Z\"/>\n",
              "  </svg>\n",
              "    </button>\n",
              "\n",
              "  <style>\n",
              "    .colab-df-container {\n",
              "      display:flex;\n",
              "      gap: 12px;\n",
              "    }\n",
              "\n",
              "    .colab-df-convert {\n",
              "      background-color: #E8F0FE;\n",
              "      border: none;\n",
              "      border-radius: 50%;\n",
              "      cursor: pointer;\n",
              "      display: none;\n",
              "      fill: #1967D2;\n",
              "      height: 32px;\n",
              "      padding: 0 0 0 0;\n",
              "      width: 32px;\n",
              "    }\n",
              "\n",
              "    .colab-df-convert:hover {\n",
              "      background-color: #E2EBFA;\n",
              "      box-shadow: 0px 1px 2px rgba(60, 64, 67, 0.3), 0px 1px 3px 1px rgba(60, 64, 67, 0.15);\n",
              "      fill: #174EA6;\n",
              "    }\n",
              "\n",
              "    .colab-df-buttons div {\n",
              "      margin-bottom: 4px;\n",
              "    }\n",
              "\n",
              "    [theme=dark] .colab-df-convert {\n",
              "      background-color: #3B4455;\n",
              "      fill: #D2E3FC;\n",
              "    }\n",
              "\n",
              "    [theme=dark] .colab-df-convert:hover {\n",
              "      background-color: #434B5C;\n",
              "      box-shadow: 0px 1px 3px 1px rgba(0, 0, 0, 0.15);\n",
              "      filter: drop-shadow(0px 1px 2px rgba(0, 0, 0, 0.3));\n",
              "      fill: #FFFFFF;\n",
              "    }\n",
              "  </style>\n",
              "\n",
              "    <script>\n",
              "      const buttonEl =\n",
              "        document.querySelector('#df-cb1c151f-1fc3-4eb5-b44f-29dbec091c3d button.colab-df-convert');\n",
              "      buttonEl.style.display =\n",
              "        google.colab.kernel.accessAllowed ? 'block' : 'none';\n",
              "\n",
              "      async function convertToInteractive(key) {\n",
              "        const element = document.querySelector('#df-cb1c151f-1fc3-4eb5-b44f-29dbec091c3d');\n",
              "        const dataTable =\n",
              "          await google.colab.kernel.invokeFunction('convertToInteractive',\n",
              "                                                    [key], {});\n",
              "        if (!dataTable) return;\n",
              "\n",
              "        const docLinkHtml = 'Like what you see? Visit the ' +\n",
              "          '<a target=\"_blank\" href=https://colab.research.google.com/notebooks/data_table.ipynb>data table notebook</a>'\n",
              "          + ' to learn more about interactive tables.';\n",
              "        element.innerHTML = '';\n",
              "        dataTable['output_type'] = 'display_data';\n",
              "        await google.colab.output.renderOutput(dataTable, element);\n",
              "        const docLink = document.createElement('div');\n",
              "        docLink.innerHTML = docLinkHtml;\n",
              "        element.appendChild(docLink);\n",
              "      }\n",
              "    </script>\n",
              "  </div>\n",
              "\n",
              "\n",
              "<div id=\"df-86a0a11c-13b1-409d-890b-c7291cb9d9ae\">\n",
              "  <button class=\"colab-df-quickchart\" onclick=\"quickchart('df-86a0a11c-13b1-409d-890b-c7291cb9d9ae')\"\n",
              "            title=\"Suggest charts\"\n",
              "            style=\"display:none;\">\n",
              "\n",
              "<svg xmlns=\"http://www.w3.org/2000/svg\" height=\"24px\"viewBox=\"0 0 24 24\"\n",
              "     width=\"24px\">\n",
              "    <g>\n",
              "        <path d=\"M19 3H5c-1.1 0-2 .9-2 2v14c0 1.1.9 2 2 2h14c1.1 0 2-.9 2-2V5c0-1.1-.9-2-2-2zM9 17H7v-7h2v7zm4 0h-2V7h2v10zm4 0h-2v-4h2v4z\"/>\n",
              "    </g>\n",
              "</svg>\n",
              "  </button>\n",
              "\n",
              "<style>\n",
              "  .colab-df-quickchart {\n",
              "      --bg-color: #E8F0FE;\n",
              "      --fill-color: #1967D2;\n",
              "      --hover-bg-color: #E2EBFA;\n",
              "      --hover-fill-color: #174EA6;\n",
              "      --disabled-fill-color: #AAA;\n",
              "      --disabled-bg-color: #DDD;\n",
              "  }\n",
              "\n",
              "  [theme=dark] .colab-df-quickchart {\n",
              "      --bg-color: #3B4455;\n",
              "      --fill-color: #D2E3FC;\n",
              "      --hover-bg-color: #434B5C;\n",
              "      --hover-fill-color: #FFFFFF;\n",
              "      --disabled-bg-color: #3B4455;\n",
              "      --disabled-fill-color: #666;\n",
              "  }\n",
              "\n",
              "  .colab-df-quickchart {\n",
              "    background-color: var(--bg-color);\n",
              "    border: none;\n",
              "    border-radius: 50%;\n",
              "    cursor: pointer;\n",
              "    display: none;\n",
              "    fill: var(--fill-color);\n",
              "    height: 32px;\n",
              "    padding: 0;\n",
              "    width: 32px;\n",
              "  }\n",
              "\n",
              "  .colab-df-quickchart:hover {\n",
              "    background-color: var(--hover-bg-color);\n",
              "    box-shadow: 0 1px 2px rgba(60, 64, 67, 0.3), 0 1px 3px 1px rgba(60, 64, 67, 0.15);\n",
              "    fill: var(--button-hover-fill-color);\n",
              "  }\n",
              "\n",
              "  .colab-df-quickchart-complete:disabled,\n",
              "  .colab-df-quickchart-complete:disabled:hover {\n",
              "    background-color: var(--disabled-bg-color);\n",
              "    fill: var(--disabled-fill-color);\n",
              "    box-shadow: none;\n",
              "  }\n",
              "\n",
              "  .colab-df-spinner {\n",
              "    border: 2px solid var(--fill-color);\n",
              "    border-color: transparent;\n",
              "    border-bottom-color: var(--fill-color);\n",
              "    animation:\n",
              "      spin 1s steps(1) infinite;\n",
              "  }\n",
              "\n",
              "  @keyframes spin {\n",
              "    0% {\n",
              "      border-color: transparent;\n",
              "      border-bottom-color: var(--fill-color);\n",
              "      border-left-color: var(--fill-color);\n",
              "    }\n",
              "    20% {\n",
              "      border-color: transparent;\n",
              "      border-left-color: var(--fill-color);\n",
              "      border-top-color: var(--fill-color);\n",
              "    }\n",
              "    30% {\n",
              "      border-color: transparent;\n",
              "      border-left-color: var(--fill-color);\n",
              "      border-top-color: var(--fill-color);\n",
              "      border-right-color: var(--fill-color);\n",
              "    }\n",
              "    40% {\n",
              "      border-color: transparent;\n",
              "      border-right-color: var(--fill-color);\n",
              "      border-top-color: var(--fill-color);\n",
              "    }\n",
              "    60% {\n",
              "      border-color: transparent;\n",
              "      border-right-color: var(--fill-color);\n",
              "    }\n",
              "    80% {\n",
              "      border-color: transparent;\n",
              "      border-right-color: var(--fill-color);\n",
              "      border-bottom-color: var(--fill-color);\n",
              "    }\n",
              "    90% {\n",
              "      border-color: transparent;\n",
              "      border-bottom-color: var(--fill-color);\n",
              "    }\n",
              "  }\n",
              "</style>\n",
              "\n",
              "  <script>\n",
              "    async function quickchart(key) {\n",
              "      const quickchartButtonEl =\n",
              "        document.querySelector('#' + key + ' button');\n",
              "      quickchartButtonEl.disabled = true;  // To prevent multiple clicks.\n",
              "      quickchartButtonEl.classList.add('colab-df-spinner');\n",
              "      try {\n",
              "        const charts = await google.colab.kernel.invokeFunction(\n",
              "            'suggestCharts', [key], {});\n",
              "      } catch (error) {\n",
              "        console.error('Error during call to suggestCharts:', error);\n",
              "      }\n",
              "      quickchartButtonEl.classList.remove('colab-df-spinner');\n",
              "      quickchartButtonEl.classList.add('colab-df-quickchart-complete');\n",
              "    }\n",
              "    (() => {\n",
              "      let quickchartButtonEl =\n",
              "        document.querySelector('#df-86a0a11c-13b1-409d-890b-c7291cb9d9ae button');\n",
              "      quickchartButtonEl.style.display =\n",
              "        google.colab.kernel.accessAllowed ? 'block' : 'none';\n",
              "    })();\n",
              "  </script>\n",
              "</div>\n",
              "    </div>\n",
              "  </div>\n"
            ],
            "application/vnd.google.colaboratory.intrinsic+json": {
              "type": "dataframe",
              "summary": "{\n  \"name\": \"display(pd\",\n  \"rows\": 6096,\n  \"fields\": [\n    {\n      \"column\": \"timestamp\",\n      \"properties\": {\n        \"dtype\": \"string\",\n        \"num_unique_values\": 3966,\n        \"samples\": [\n          \"8/04/24, 18:12:10\",\n          \"12/03/24, 13:44:44\",\n          \"5/02/24, 18:11:11\"\n        ],\n        \"semantic_type\": \"\",\n        \"description\": \"\"\n      }\n    },\n    {\n      \"column\": \"user_id\",\n      \"properties\": {\n        \"dtype\": \"number\",\n        \"std\": 4141,\n        \"min\": 20004,\n        \"max\": 29723,\n        \"num_unique_values\": 18,\n        \"samples\": [\n          26861,\n          20004,\n          29723\n        ],\n        \"semantic_type\": \"\",\n        \"description\": \"\"\n      }\n    },\n    {\n      \"column\": \"tool_id\",\n      \"properties\": {\n        \"dtype\": \"number\",\n        \"std\": 98498,\n        \"min\": 2949,\n        \"max\": 257734,\n        \"num_unique_values\": 30,\n        \"samples\": [\n          233224,\n          233238,\n          233214\n        ],\n        \"semantic_type\": \"\",\n        \"description\": \"\"\n      }\n    },\n    {\n      \"column\": \"log_count\",\n      \"properties\": {\n        \"dtype\": \"number\",\n        \"std\": 1.734376992874905,\n        \"min\": 0.0,\n        \"max\": 27.0,\n        \"num_unique_values\": 18,\n        \"samples\": [\n          3.0,\n          0.0,\n          7.0\n        ],\n        \"semantic_type\": \"\",\n        \"description\": \"\"\n      }\n    },\n    {\n      \"column\": \"lesson\",\n      \"properties\": {\n        \"dtype\": \"number\",\n        \"std\": 0,\n        \"min\": 0,\n        \"max\": 1,\n        \"num_unique_values\": 2,\n        \"samples\": [\n          1,\n          0\n        ],\n        \"semantic_type\": \"\",\n        \"description\": \"\"\n      }\n    },\n    {\n      \"column\": \"day_part\",\n      \"properties\": {\n        \"dtype\": \"number\",\n        \"std\": 1,\n        \"min\": 0,\n        \"max\": 5,\n        \"num_unique_values\": 6,\n        \"samples\": [\n          1,\n          4\n        ],\n        \"semantic_type\": \"\",\n        \"description\": \"\"\n      }\n    }\n  ]\n}"
            }
          },
          "metadata": {}
        }
      ]
    },
    {
      "cell_type": "code",
      "source": [
        "X = data.drop('timestamp', axis=1).values\n",
        "y = data['timestamp'].values"
      ],
      "metadata": {
        "id": "-qqbUzPVnnMk"
      },
      "execution_count": null,
      "outputs": []
    },
    {
      "cell_type": "code",
      "source": [
        "y = (y == 1).astype(float) # target values are 0 or 1"
      ],
      "metadata": {
        "id": "oLO9OkHqnwJr"
      },
      "execution_count": null,
      "outputs": []
    },
    {
      "cell_type": "code",
      "source": [
        "#  Preprocess Data\n",
        "X_train, X_test, y_train, y_test = train_test_split(X, y, test_size=0.2, random_state=42)"
      ],
      "metadata": {
        "id": "knsvl82Pn2HQ"
      },
      "execution_count": null,
      "outputs": []
    },
    {
      "cell_type": "code",
      "source": [
        "scaler = StandardScaler() # Standardize features\n",
        "X_train = scaler.fit_transform(X_train)\n",
        "X_test = scaler.transform(X_test)"
      ],
      "metadata": {
        "id": "uKxAdwu6n-sw"
      },
      "execution_count": null,
      "outputs": []
    },
    {
      "cell_type": "code",
      "source": [
        "# PyTorch tensors\n",
        "X_train = torch.tensor(X_train, dtype=torch.float32)\n",
        "y_train = torch.tensor(y_train, dtype=torch.float32).unsqueeze(1)\n",
        "X_test = torch.tensor(X_test, dtype=torch.float32)\n",
        "y_test = torch.tensor(y_test, dtype=torch.float32).unsqueeze(1)"
      ],
      "metadata": {
        "id": "drlpUG6yoFUz"
      },
      "execution_count": null,
      "outputs": []
    },
    {
      "cell_type": "code",
      "source": [
        "class SimpleNN(nn.Module): # define the Model\n",
        "    def __init__(self, input_dim):\n",
        "        super(SimpleNN, self).__init__()\n",
        "        self.layer1 = nn.Linear(input_dim, 64)\n",
        "        self.layer2 = nn.Linear(64, 32)\n",
        "        self.layer3 = nn.Linear(32, 1)\n",
        "\n",
        "    def forward(self, x):\n",
        "        x = torch.relu(self.layer1(x))\n",
        "        x = torch.relu(self.layer2(x))\n",
        "        x = torch.sigmoid(self.layer3(x))\n",
        "        return x\n"
      ],
      "metadata": {
        "id": "emDuud_8oMFM"
      },
      "execution_count": null,
      "outputs": []
    },
    {
      "cell_type": "code",
      "source": [
        "input_dim = X_train.shape[1]\n",
        "model = SimpleNN(input_dim)"
      ],
      "metadata": {
        "id": "WphfGFh9oT5f"
      },
      "execution_count": null,
      "outputs": []
    },
    {
      "cell_type": "code",
      "source": [
        "criterion = nn.BCELoss()  # Loss Function and Optimizer for binary classification\n",
        "optimizer = optim.Adam(model.parameters(), lr=0.001)"
      ],
      "metadata": {
        "id": "7gqTqGsgoYp-"
      },
      "execution_count": null,
      "outputs": []
    },
    {
      "cell_type": "code",
      "source": [
        "num_epochs = 100 # Train the Model\n",
        "training_losses = []\n",
        "validation_losses = []"
      ],
      "metadata": {
        "id": "Cek1yreXoixL"
      },
      "execution_count": null,
      "outputs": []
    },
    {
      "cell_type": "code",
      "source": [
        "import torch.nn as nn\n",
        "import torch.nn.functional as F"
      ],
      "metadata": {
        "id": "tg-B1HbSP8eD"
      },
      "execution_count": null,
      "outputs": []
    },
    {
      "cell_type": "code",
      "source": [
        "class SimpleModel(nn.Module):\n",
        "\n",
        "    def __init__(self, input_size, hidden_size, output_size):\n",
        "        super(SimpleModel, self).__init__()\n",
        "        self.fc1 = nn.Linear(input_size, hidden_size)\n",
        "        self.fc2 = nn.Linear(hidden_size, output_size)\n",
        "\n",
        "    def forward(self, x):\n",
        "        x = F.relu(self.fc1(x))\n",
        "        x = torch.sigmoid(self.fc2(x))  # Ensure the output is in the range [0, 1]\n",
        "        return x"
      ],
      "metadata": {
        "id": "0fq1LStTaAUi"
      },
      "execution_count": null,
      "outputs": []
    },
    {
      "cell_type": "code",
      "source": [
        "import torch\n",
        "import torch.optim as optim\n",
        "import torch.nn as nn"
      ],
      "metadata": {
        "id": "aAnmdajIQDHf"
      },
      "execution_count": null,
      "outputs": []
    },
    {
      "cell_type": "code",
      "source": [
        "# define the model\n",
        "input_size = 10\n",
        "hidden_size = 5\n",
        "output_size = 1  #  for binary classification\n",
        "\n",
        "model = SimpleModel(input_size, hidden_size, output_size)"
      ],
      "metadata": {
        "id": "kp8jhTHYaCUV"
      },
      "execution_count": null,
      "outputs": []
    },
    {
      "cell_type": "code",
      "source": [
        "criterion = nn.BCELoss()  # Binary Cross Entropy Loss\n",
        "optimizer = optim.Adam(model.parameters(), lr=0.001)"
      ],
      "metadata": {
        "id": "VYHtTiFBaHbg"
      },
      "execution_count": null,
      "outputs": []
    },
    {
      "cell_type": "code",
      "source": [
        "# training data\n",
        "X_train = torch.randn(100, input_size)\n",
        "y_train = torch.randint(0, 2, (100, 1)).float()"
      ],
      "metadata": {
        "id": "IZdxxogtaMS2"
      },
      "execution_count": null,
      "outputs": []
    },
    {
      "cell_type": "code",
      "source": [
        "X_test = torch.randn(30, input_size)  #  validation input\n",
        "y_test = torch.randint(0, 2, (30, 1)).float()  #  binary labels"
      ],
      "metadata": {
        "id": "7FL6_FSKaSTE"
      },
      "execution_count": null,
      "outputs": []
    },
    {
      "cell_type": "code",
      "source": [
        "num_epochs = 100 # training loop\n",
        "training_losses = []\n",
        "validation_losses = []\n",
        "\n",
        "for epoch in range(num_epochs):\n",
        "    model.train()\n",
        "\n",
        "    outputs = model(X_train)   # Forward pass\n",
        "    loss = criterion(outputs, y_train)\n",
        "\n",
        "    optimizer.zero_grad()  # backward pass and optimization\n",
        "    loss.backward()\n",
        "    optimizer.step()\n",
        "\n",
        "    training_losses.append(loss.item())\n",
        "\n",
        "    model.eval()\n",
        "    with torch.no_grad():\n",
        "        val_outputs = model(X_test)\n",
        "        val_loss = criterion(val_outputs, y_test)\n",
        "        validation_losses.append(val_loss.item())\n",
        "\n",
        "    if (epoch + 1) % 10 == 0:\n",
        "        print(f'Epoch [{epoch + 1}/{num_epochs}], Loss: {loss.item():.4f}, Val Loss: {val_loss.item():.4f}')"
      ],
      "metadata": {
        "colab": {
          "base_uri": "https://localhost:8080/"
        },
        "id": "E7M7pfNZaaW_",
        "outputId": "ae95341d-0bb7-4e27-9c11-fa33cf3e4a6d"
      },
      "execution_count": null,
      "outputs": [
        {
          "output_type": "stream",
          "name": "stdout",
          "text": [
            "Epoch [10/100], Loss: 0.6973, Val Loss: 0.6804\n",
            "Epoch [20/100], Loss: 0.6917, Val Loss: 0.6770\n",
            "Epoch [30/100], Loss: 0.6866, Val Loss: 0.6742\n",
            "Epoch [40/100], Loss: 0.6820, Val Loss: 0.6717\n",
            "Epoch [50/100], Loss: 0.6777, Val Loss: 0.6693\n",
            "Epoch [60/100], Loss: 0.6735, Val Loss: 0.6672\n",
            "Epoch [70/100], Loss: 0.6693, Val Loss: 0.6659\n",
            "Epoch [80/100], Loss: 0.6649, Val Loss: 0.6643\n",
            "Epoch [90/100], Loss: 0.6603, Val Loss: 0.6632\n",
            "Epoch [100/100], Loss: 0.6555, Val Loss: 0.6616\n"
          ]
        }
      ]
    },
    {
      "cell_type": "code",
      "source": [
        "plt.plot(training_losses, label='Training Loss') # plot the losses\n",
        "plt.plot(validation_losses, label='Validation Loss')\n",
        "plt.xlabel('Epoch')\n",
        "plt.ylabel('Loss')\n",
        "plt.title('Training and Validation Loss Over Epochs')\n",
        "plt.legend()\n",
        "plt.show()"
      ],
      "metadata": {
        "colab": {
          "base_uri": "https://localhost:8080/",
          "height": 472
        },
        "id": "7HgMh6wBoyae",
        "outputId": "da57abce-ff97-4b3e-9eaf-0e21b6e1b8f7"
      },
      "execution_count": null,
      "outputs": [
        {
          "output_type": "display_data",
          "data": {
            "text/plain": [
              "<Figure size 640x480 with 1 Axes>"
            ],
            "image/png": "[encoded data removed]"
          },
          "metadata": {}
        }
      ]
    },
    {
      "cell_type": "markdown",
      "source": [
        "Training Loss: The loss value during the training process is decreasing over the epochs, starting from 0.6973 at epoch 10 and ending at 0.6555 at epoch 100.\n",
        "\n",
        "\n",
        "Validation Loss: Similarly, the validation loss is also decreasing, starting from 0.6804 at epoch 10 and ending at 0.6616 at epoch 100.\n",
        "\n",
        "Both training and validation losses steadily decrease over time, indicating that the model is learning and improving its predictions as the training progresses."
      ],
      "metadata": {
        "id": "gdToRCb6bK-E"
      }
    },
    {
      "cell_type": "code",
      "source": [
        "num_epochs = 200 # training loop\n",
        "training_losses = []\n",
        "validation_losses = []\n",
        "\n",
        "for epoch in range(num_epochs):\n",
        "    model.train()\n",
        "\n",
        "    outputs = model(X_train)   # Forward pass\n",
        "    loss = criterion(outputs, y_train)\n",
        "\n",
        "    optimizer.zero_grad()  # backward pass and optimization\n",
        "    loss.backward()\n",
        "    optimizer.step()\n",
        "\n",
        "    training_losses.append(loss.item())\n",
        "\n",
        "    model.eval()\n",
        "    with torch.no_grad():\n",
        "        val_outputs = model(X_test)\n",
        "        val_loss = criterion(val_outputs, y_test)\n",
        "        validation_losses.append(val_loss.item())\n",
        "\n",
        "    if (epoch + 1) % 10 == 0:\n",
        "        print(f'Epoch [{epoch + 1}/{num_epochs}], Loss: {loss.item():.4f}, Val Loss: {val_loss.item():.4f}')"
      ],
      "metadata": {
        "colab": {
          "base_uri": "https://localhost:8080/"
        },
        "id": "cQze6ZaFhw94",
        "outputId": "a339a20f-326c-41ca-c501-59ed1b979b16"
      },
      "execution_count": null,
      "outputs": [
        {
          "output_type": "stream",
          "name": "stdout",
          "text": [
            "Epoch [10/200], Loss: 0.6509, Val Loss: 0.6598\n",
            "Epoch [20/200], Loss: 0.6457, Val Loss: 0.6580\n",
            "Epoch [30/200], Loss: 0.6403, Val Loss: 0.6559\n",
            "Epoch [40/200], Loss: 0.6349, Val Loss: 0.6541\n",
            "Epoch [50/200], Loss: 0.6293, Val Loss: 0.6532\n",
            "Epoch [60/200], Loss: 0.6236, Val Loss: 0.6521\n",
            "Epoch [70/200], Loss: 0.6176, Val Loss: 0.6516\n",
            "Epoch [80/200], Loss: 0.6114, Val Loss: 0.6523\n",
            "Epoch [90/200], Loss: 0.6053, Val Loss: 0.6536\n",
            "Epoch [100/200], Loss: 0.5990, Val Loss: 0.6560\n",
            "Epoch [110/200], Loss: 0.5927, Val Loss: 0.6587\n",
            "Epoch [120/200], Loss: 0.5865, Val Loss: 0.6609\n",
            "Epoch [130/200], Loss: 0.5806, Val Loss: 0.6641\n",
            "Epoch [140/200], Loss: 0.5752, Val Loss: 0.6672\n",
            "Epoch [150/200], Loss: 0.5704, Val Loss: 0.6695\n",
            "Epoch [160/200], Loss: 0.5658, Val Loss: 0.6718\n",
            "Epoch [170/200], Loss: 0.5615, Val Loss: 0.6736\n",
            "Epoch [180/200], Loss: 0.5576, Val Loss: 0.6753\n",
            "Epoch [190/200], Loss: 0.5537, Val Loss: 0.6765\n",
            "Epoch [200/200], Loss: 0.5498, Val Loss: 0.6774\n"
          ]
        }
      ]
    },
    {
      "cell_type": "code",
      "source": [
        "plt.plot(training_losses, label='Training Loss') # plot the losses\n",
        "plt.plot(validation_losses, label='Validation Loss')\n",
        "plt.xlabel('Epoch')\n",
        "plt.ylabel('Loss')\n",
        "plt.title('Training and Validation Loss Over Epochs')\n",
        "plt.legend()\n",
        "plt.show()"
      ],
      "metadata": {
        "colab": {
          "base_uri": "https://localhost:8080/",
          "height": 472
        },
        "id": "YnPcclX-h_60",
        "outputId": "002e7d4f-5222-4969-9075-816628de5f11"
      },
      "execution_count": null,
      "outputs": [
        {
          "output_type": "display_data",
          "data": {
            "text/plain": [
              "<Figure size 640x480 with 1 Axes>"
            ],
            "image/png": "[encoded data removed]"
          },
          "metadata": {}
        }
      ]
    },
    {
      "cell_type": "code",
      "source": [
        "num_epochs = 500 # training loop\n",
        "training_losses = []\n",
        "validation_losses = []\n",
        "\n",
        "for epoch in range(num_epochs):\n",
        "    model.train()\n",
        "\n",
        "    outputs = model(X_train)   # Forward pass\n",
        "    loss = criterion(outputs, y_train)\n",
        "\n",
        "    optimizer.zero_grad()  # backward pass and optimization\n",
        "    loss.backward()\n",
        "    optimizer.step()\n",
        "\n",
        "    training_losses.append(loss.item())\n",
        "\n",
        "    model.eval()\n",
        "    with torch.no_grad():\n",
        "        val_outputs = model(X_test)\n",
        "        val_loss = criterion(val_outputs, y_test)\n",
        "        validation_losses.append(val_loss.item())\n",
        "\n",
        "    if (epoch + 1) % 10 == 0:\n",
        "        print(f'Epoch [{epoch + 1}/{num_epochs}], Loss: {loss.item():.4f}, Val Loss: {val_loss.item():.4f}')"
      ],
      "metadata": {
        "colab": {
          "base_uri": "https://localhost:8080/"
        },
        "id": "7r8soBnqklK7",
        "outputId": "bcb6f3b8-ba99-4d7d-9014-c29f008d8397"
      },
      "execution_count": null,
      "outputs": [
        {
          "output_type": "stream",
          "name": "stdout",
          "text": [
            "Epoch [10/500], Loss: 0.5462, Val Loss: 0.6787\n",
            "Epoch [20/500], Loss: 0.5429, Val Loss: 0.6806\n",
            "Epoch [30/500], Loss: 0.5397, Val Loss: 0.6828\n",
            "Epoch [40/500], Loss: 0.5365, Val Loss: 0.6857\n",
            "Epoch [50/500], Loss: 0.5331, Val Loss: 0.6888\n",
            "Epoch [60/500], Loss: 0.5299, Val Loss: 0.6923\n",
            "Epoch [70/500], Loss: 0.5268, Val Loss: 0.6961\n",
            "Epoch [80/500], Loss: 0.5238, Val Loss: 0.6997\n",
            "Epoch [90/500], Loss: 0.5209, Val Loss: 0.7035\n",
            "Epoch [100/500], Loss: 0.5178, Val Loss: 0.7074\n",
            "Epoch [110/500], Loss: 0.5147, Val Loss: 0.7116\n",
            "Epoch [120/500], Loss: 0.5117, Val Loss: 0.7160\n",
            "Epoch [130/500], Loss: 0.5087, Val Loss: 0.7206\n",
            "Epoch [140/500], Loss: 0.5056, Val Loss: 0.7274\n",
            "Epoch [150/500], Loss: 0.5025, Val Loss: 0.7361\n",
            "Epoch [160/500], Loss: 0.4994, Val Loss: 0.7452\n",
            "Epoch [170/500], Loss: 0.4967, Val Loss: 0.7528\n",
            "Epoch [180/500], Loss: 0.4940, Val Loss: 0.7575\n",
            "Epoch [190/500], Loss: 0.4916, Val Loss: 0.7615\n",
            "Epoch [200/500], Loss: 0.4892, Val Loss: 0.7655\n",
            "Epoch [210/500], Loss: 0.4869, Val Loss: 0.7694\n",
            "Epoch [220/500], Loss: 0.4847, Val Loss: 0.7733\n",
            "Epoch [230/500], Loss: 0.4825, Val Loss: 0.7772\n",
            "Epoch [240/500], Loss: 0.4804, Val Loss: 0.7810\n",
            "Epoch [250/500], Loss: 0.4783, Val Loss: 0.7850\n",
            "Epoch [260/500], Loss: 0.4763, Val Loss: 0.7892\n",
            "Epoch [270/500], Loss: 0.4743, Val Loss: 0.7940\n",
            "Epoch [280/500], Loss: 0.4724, Val Loss: 0.7997\n",
            "Epoch [290/500], Loss: 0.4705, Val Loss: 0.8044\n",
            "Epoch [300/500], Loss: 0.4687, Val Loss: 0.8090\n",
            "Epoch [310/500], Loss: 0.4667, Val Loss: 0.8145\n",
            "Epoch [320/500], Loss: 0.4645, Val Loss: 0.8206\n",
            "Epoch [330/500], Loss: 0.4624, Val Loss: 0.8275\n",
            "Epoch [340/500], Loss: 0.4603, Val Loss: 0.8338\n",
            "Epoch [350/500], Loss: 0.4584, Val Loss: 0.8395\n",
            "Epoch [360/500], Loss: 0.4565, Val Loss: 0.8444\n",
            "Epoch [370/500], Loss: 0.4546, Val Loss: 0.8494\n",
            "Epoch [380/500], Loss: 0.4526, Val Loss: 0.8537\n",
            "Epoch [390/500], Loss: 0.4505, Val Loss: 0.8570\n",
            "Epoch [400/500], Loss: 0.4485, Val Loss: 0.8609\n",
            "Epoch [410/500], Loss: 0.4465, Val Loss: 0.8656\n",
            "Epoch [420/500], Loss: 0.4443, Val Loss: 0.8674\n",
            "Epoch [430/500], Loss: 0.4422, Val Loss: 0.8695\n",
            "Epoch [440/500], Loss: 0.4402, Val Loss: 0.8739\n",
            "Epoch [450/500], Loss: 0.4381, Val Loss: 0.8795\n",
            "Epoch [460/500], Loss: 0.4361, Val Loss: 0.8846\n",
            "Epoch [470/500], Loss: 0.4342, Val Loss: 0.8906\n",
            "Epoch [480/500], Loss: 0.4323, Val Loss: 0.8964\n",
            "Epoch [490/500], Loss: 0.4305, Val Loss: 0.9018\n",
            "Epoch [500/500], Loss: 0.4287, Val Loss: 0.9064\n"
          ]
        }
      ]
    },
    {
      "cell_type": "code",
      "source": [
        "plt.plot(training_losses, label='Training Loss') # plot the losses\n",
        "plt.plot(validation_losses, label='Validation Loss')\n",
        "plt.xlabel('Epoch')\n",
        "plt.ylabel('Loss')\n",
        "plt.title('Training and Validation Loss Over Epochs')\n",
        "plt.legend()\n",
        "plt.show()"
      ],
      "metadata": {
        "colab": {
          "base_uri": "https://localhost:8080/",
          "height": 472
        },
        "id": "7CFeebBckuIm",
        "outputId": "ddcf40f5-a6cb-4987-d832-5c0f7daf7abc"
      },
      "execution_count": null,
      "outputs": [
        {
          "output_type": "display_data",
          "data": {
            "text/plain": [
              "<Figure size 640x480 with 1 Axes>"
            ],
            "image/png": "[encoded data removed]"
          },
          "metadata": {}
        }
      ]
    },
    {
      "cell_type": "markdown",
      "source": [
        "The training loss decreased from 0.5462 to 0.4287 over the course of 500 epochs.\n",
        "This suggests that the model is learning and improving its performance on the training data.\n",
        "\n",
        "The validation loss increased from 0.6787 to 0.9064.\n",
        "This indicates that while the model is performing better on the training data, its performance on the validation data has deteriorated.\n",
        "\n",
        "The increasing divergence between training and validation losses as epochs progress indicates overfitting. The model learns to perform well on the training data, but fails to generalize to the unseen data.\n",
        "\n",
        "Early stopping involves monitoring validation losses during training and stopping the training process when they stop decreasing. This prevents the model from continuing to learn the noise in the training data."
      ],
      "metadata": {
        "id": "D42Ov6wLjdfX"
      }
    },
    {
      "cell_type": "code",
      "source": [
        "model.eval() # evaluate the Model\n",
        "with torch.no_grad():\n",
        "    y_predicted = model(X_test).round()"
      ],
      "metadata": {
        "id": "WZS0Q4EYo3P_"
      },
      "execution_count": null,
      "outputs": []
    },
    {
      "cell_type": "code",
      "source": [
        "unique_values = y_predicted.unique()\n",
        "print(f'Unique values in predictions: {unique_values}')"
      ],
      "metadata": {
        "colab": {
          "base_uri": "https://localhost:8080/"
        },
        "id": "U99GZ2ECr8j9",
        "outputId": "59b01b74-e7ec-4141-a8d1-2915f204ad1c"
      },
      "execution_count": null,
      "outputs": [
        {
          "output_type": "stream",
          "name": "stdout",
          "text": [
            "Unique values in predictions: tensor([0., 1.])\n"
          ]
        }
      ]
    },
    {
      "cell_type": "markdown",
      "source": [
        "The unique values tensor([0., 1.]) in the model's predictions indicate that the model is making binary predictions and can predict both classes.\n",
        "\n"
      ],
      "metadata": {
        "id": "qMvh_4Aof3PZ"
      }
    },
    {
      "cell_type": "code",
      "source": [
        "# is y_test correctly shaped for sklearn's classification_report?\n",
        "y_test_flat = y_test.flatten()"
      ],
      "metadata": {
        "id": "CgHR0ZIcupnD"
      },
      "execution_count": null,
      "outputs": []
    },
    {
      "cell_type": "code",
      "source": [
        "if len(unique_values) == 1:  # if only one class is predicted, avoid using classification_report\n",
        "    print(f'Only one class ({unique_values.item()}) predicted. Cannot generate classification report.')\n",
        "else:\n",
        "    print(classification_report(y_test_flat, y_predicted, target_names=['class 0', 'class 1']))"
      ],
      "metadata": {
        "colab": {
          "base_uri": "https://localhost:8080/"
        },
        "id": "EyhuRdWvuwLZ",
        "outputId": "fe9f4a6c-8998-4fbd-b053-7469d2b9c21b"
      },
      "execution_count": null,
      "outputs": [
        {
          "output_type": "stream",
          "name": "stdout",
          "text": [
            "              precision    recall  f1-score   support\n",
            "\n",
            "     class 0       0.57      0.53      0.55        15\n",
            "     class 1       0.56      0.60      0.58        15\n",
            "\n",
            "    accuracy                           0.57        30\n",
            "   macro avg       0.57      0.57      0.57        30\n",
            "weighted avg       0.57      0.57      0.57        30\n",
            "\n"
          ]
        }
      ]
    },
    {
      "cell_type": "code",
      "source": [
        "print(pd.Series(y_train.numpy().flatten()).value_counts())  # check Data Distribution"
      ],
      "metadata": {
        "colab": {
          "base_uri": "https://localhost:8080/"
        },
        "id": "FEj7JCLsvdKH",
        "outputId": "cc19a4a6-adcf-4a96-cb86-67fa8bf01cad"
      },
      "execution_count": null,
      "outputs": [
        {
          "output_type": "stream",
          "name": "stdout",
          "text": [
            "1.0    52\n",
            "0.0    48\n",
            "Name: count, dtype: int64\n"
          ]
        }
      ]
    },
    {
      "cell_type": "code",
      "source": [
        "with torch.no_grad(): # inspect Model Predictions\n",
        "    raw_outputs = model(X_test)\n",
        "    print(raw_outputs[:10])"
      ],
      "metadata": {
        "colab": {
          "base_uri": "https://localhost:8080/"
        },
        "id": "2qhKsFMbve3m",
        "outputId": "ec97af9e-4005-4272-f9d9-b5c05ec44a1b"
      },
      "execution_count": null,
      "outputs": [
        {
          "output_type": "stream",
          "name": "stdout",
          "text": [
            "tensor([[0.4226],\n",
            "        [0.9716],\n",
            "        [0.4904],\n",
            "        [0.2456],\n",
            "        [0.0714],\n",
            "        [0.6025],\n",
            "        [0.6610],\n",
            "        [0.1310],\n",
            "        [0.2963],\n",
            "        [0.4458]])\n"
          ]
        }
      ]
    },
    {
      "cell_type": "markdown",
      "source": [
        "The given tensor represents predicted probabilities for the positive class, with values close to 0.97 indicating certainty in the predictions."
      ],
      "metadata": {
        "id": "KsXOjUw4fqG2"
      }
    },
    {
      "cell_type": "code",
      "source": [
        "threshold = 0.3  # adjust this value as needed\n",
        "with torch.no_grad():\n",
        "    y_predicted = (model(X_test) > threshold).float()\n",
        "    unique_values = y_predicted.unique()\n",
        "    print(f'Unique values in predictions with threshold {threshold}: {unique_values}')\n",
        "\n",
        "if len(unique_values) == 1:\n",
        "    print(f'Only one class ({unique_values.item()}) predicted with threshold {threshold}.')\n",
        "else:\n",
        "    print(classification_report(y_test.flatten(), y_predicted, target_names=['class 0', 'class 1']))"
      ],
      "metadata": {
        "colab": {
          "base_uri": "https://localhost:8080/"
        },
        "id": "rWf8qktlvw43",
        "outputId": "1469920e-4267-4468-d87d-1e1b0c1b61f5"
      },
      "execution_count": null,
      "outputs": [
        {
          "output_type": "stream",
          "name": "stdout",
          "text": [
            "Unique values in predictions with threshold 0.3: tensor([0., 1.])\n",
            "              precision    recall  f1-score   support\n",
            "\n",
            "     class 0       0.44      0.27      0.33        15\n",
            "     class 1       0.48      0.67      0.56        15\n",
            "\n",
            "    accuracy                           0.47        30\n",
            "   macro avg       0.46      0.47      0.44        30\n",
            "weighted avg       0.46      0.47      0.44        30\n",
            "\n"
          ]
        }
      ]
    },
    {
      "cell_type": "code",
      "source": [
        "threshold = 0.5  # adjust this value as needed\n",
        "with torch.no_grad():\n",
        "    y_predicted = (model(X_test) > threshold).float()\n",
        "    unique_values = y_predicted.unique()\n",
        "    print(f'Unique values in predictions with threshold {threshold}: {unique_values}')\n",
        "\n",
        "if len(unique_values) == 1:\n",
        "    print(f'Only one class ({unique_values.item()}) predicted with threshold {threshold}.')\n",
        "else:\n",
        "    print(classification_report(y_test.flatten(), y_predicted, target_names=['class 0', 'class 1']))"
      ],
      "metadata": {
        "id": "t91Ap9s-uK2M",
        "colab": {
          "base_uri": "https://localhost:8080/"
        },
        "outputId": "48c58ad7-dbcc-424d-90d0-df469d15e728"
      },
      "execution_count": null,
      "outputs": [
        {
          "output_type": "stream",
          "name": "stdout",
          "text": [
            "Unique values in predictions with threshold 0.5: tensor([0., 1.])\n",
            "              precision    recall  f1-score   support\n",
            "\n",
            "     class 0       0.57      0.53      0.55        15\n",
            "     class 1       0.56      0.60      0.58        15\n",
            "\n",
            "    accuracy                           0.57        30\n",
            "   macro avg       0.57      0.57      0.57        30\n",
            "weighted avg       0.57      0.57      0.57        30\n",
            "\n"
          ]
        }
      ]
    },
    {
      "cell_type": "markdown",
      "source": [
        "The results show that the initial model output values (probabilities) are shallow for the first 10 test samples. These low values are well below the default threshold of 0.5 (and even the adjusted threshold of 0.3), which results in all forecasts being classified as class 0."
      ],
      "metadata": {
        "id": "StdOoHvKuxXj"
      }
    },
    {
      "cell_type": "markdown",
      "source": [],
      "metadata": {
        "id": "H8NywXmlohgs"
      }
    }
  ]
}