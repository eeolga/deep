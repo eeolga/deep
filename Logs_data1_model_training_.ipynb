{
  "nbformat": 4,
  "nbformat_minor": 0,
  "metadata": {
    "colab": {
      "provenance": [],
      "authorship_tag": "ABX9TyOsE3BnNl762HYQT259/i28",
      "include_colab_link": true
    },
    "kernelspec": {
      "name": "python3",
      "display_name": "Python 3"
    },
    "language_info": {
      "name": "python"
    }
  },
  "cells": [
    {
      "cell_type": "markdown",
      "metadata": {
        "id": "view-in-github",
        "colab_type": "text"
      },
      "source": [
        "<a href=\"https://colab.research.google.com/github/eeolga/deep/blob/main/Logs_data1_model_training_.ipynb\" target=\"_parent\"><img src=\"https://colab.research.google.com/assets/colab-badge.svg\" alt=\"Open In Colab\"/></a>"
      ]
    },
    {
      "cell_type": "code",
      "execution_count": 1,
      "metadata": {
        "id": "4E4QCCGLduCq"
      },
      "outputs": [],
      "source": [
        "import pandas as pd\n",
        "import torch\n",
        "import torch.nn as nn\n",
        "import torch.optim as optim\n",
        "from sklearn.model_selection import train_test_split\n",
        "from sklearn.preprocessing import StandardScaler\n",
        "from sklearn.metrics import classification_report\n",
        "import matplotlib.pyplot as plt"
      ]
    },
    {
      "cell_type": "code",
      "source": [
        "# Data from Excel\n",
        "file_path = '/content/logs_CAD_2024_1.xlsx'\n",
        "data = pd.read_excel(file_path)"
      ],
      "metadata": {
        "id": "xvfWwDMVnfTK"
      },
      "execution_count": 2,
      "outputs": []
    },
    {
      "cell_type": "code",
      "source": [
        "X = data.drop('timestamp', axis=1).values\n",
        "y = data['timestamp'].values"
      ],
      "metadata": {
        "id": "-qqbUzPVnnMk"
      },
      "execution_count": 3,
      "outputs": []
    },
    {
      "cell_type": "code",
      "source": [
        "# Ensure target values are 0 or 1\n",
        "y = (y == 1).astype(float)"
      ],
      "metadata": {
        "id": "oLO9OkHqnwJr"
      },
      "execution_count": 4,
      "outputs": []
    },
    {
      "cell_type": "code",
      "source": [
        "#  Preprocess Data\n",
        "# Split the data into training and testing sets\n",
        "X_train, X_test, y_train, y_test = train_test_split(X, y, test_size=0.2, random_state=42)"
      ],
      "metadata": {
        "id": "knsvl82Pn2HQ"
      },
      "execution_count": 5,
      "outputs": []
    },
    {
      "cell_type": "code",
      "source": [
        "# Standardize features by removing the mean and scaling to unit variance\n",
        "scaler = StandardScaler()\n",
        "X_train = scaler.fit_transform(X_train)\n",
        "X_test = scaler.transform(X_test)"
      ],
      "metadata": {
        "id": "uKxAdwu6n-sw"
      },
      "execution_count": 6,
      "outputs": []
    },
    {
      "cell_type": "code",
      "source": [
        "# Convert to PyTorch tensors\n",
        "X_train = torch.tensor(X_train, dtype=torch.float32)\n",
        "y_train = torch.tensor(y_train, dtype=torch.float32).unsqueeze(1)\n",
        "X_test = torch.tensor(X_test, dtype=torch.float32)\n",
        "y_test = torch.tensor(y_test, dtype=torch.float32).unsqueeze(1)"
      ],
      "metadata": {
        "id": "drlpUG6yoFUz"
      },
      "execution_count": 7,
      "outputs": []
    },
    {
      "cell_type": "code",
      "source": [
        "# Define the Model\n",
        "class SimpleNN(nn.Module):\n",
        "    def __init__(self, input_dim):\n",
        "        super(SimpleNN, self).__init__()\n",
        "        self.layer1 = nn.Linear(input_dim, 64)\n",
        "        self.layer2 = nn.Linear(64, 32)\n",
        "        self.layer3 = nn.Linear(32, 1)\n",
        "\n",
        "    def forward(self, x):\n",
        "        x = torch.relu(self.layer1(x))\n",
        "        x = torch.relu(self.layer2(x))\n",
        "        x = torch.sigmoid(self.layer3(x))\n",
        "        return x\n"
      ],
      "metadata": {
        "id": "emDuud_8oMFM"
      },
      "execution_count": 8,
      "outputs": []
    },
    {
      "cell_type": "code",
      "source": [
        "input_dim = X_train.shape[1]\n",
        "model = SimpleNN(input_dim)"
      ],
      "metadata": {
        "id": "WphfGFh9oT5f"
      },
      "execution_count": 9,
      "outputs": []
    },
    {
      "cell_type": "code",
      "source": [
        "#  Define Loss Function and Optimizer\n",
        "criterion = nn.BCELoss()  # Binary Cross-Entropy Loss for binary classification\n",
        "optimizer = optim.Adam(model.parameters(), lr=0.001)"
      ],
      "metadata": {
        "id": "7gqTqGsgoYp-"
      },
      "execution_count": 10,
      "outputs": []
    },
    {
      "cell_type": "code",
      "source": [
        "# Train the Model\n",
        "num_epochs = 100\n",
        "training_losses = []\n",
        "validation_losses = []"
      ],
      "metadata": {
        "id": "Cek1yreXoixL"
      },
      "execution_count": 46,
      "outputs": []
    },
    {
      "cell_type": "code",
      "source": [
        "import torch.nn as nn\n",
        "import torch.nn.functional as F\n",
        "\n",
        "class SimpleModel(nn.Module):\n",
        "    def __init__(self, input_size, hidden_size, output_size):\n",
        "        super(SimpleModel, self).__init__()\n",
        "        self.fc1 = nn.Linear(input_size, hidden_size)\n",
        "        self.fc2 = nn.Linear(hidden_size, output_size)\n",
        "\n",
        "    def forward(self, x):\n",
        "        x = F.relu(self.fc1(x))\n",
        "        x = torch.sigmoid(self.fc2(x))  # Ensure the output is in the range [0, 1]\n",
        "        return x"
      ],
      "metadata": {
        "id": "0fq1LStTaAUi"
      },
      "execution_count": 47,
      "outputs": []
    },
    {
      "cell_type": "code",
      "source": [
        "import torch\n",
        "import torch.optim as optim\n",
        "import torch.nn as nn\n",
        "\n",
        "# Define the model\n",
        "input_size = 10  # Example input size\n",
        "hidden_size = 5  # Example hidden size\n",
        "output_size = 1  # Example output size for binary classification\n",
        "\n",
        "model = SimpleModel(input_size, hidden_size, output_size)"
      ],
      "metadata": {
        "id": "kp8jhTHYaCUV"
      },
      "execution_count": 48,
      "outputs": []
    },
    {
      "cell_type": "code",
      "source": [
        "# Define the loss function and optimizer\n",
        "criterion = nn.BCELoss()  # Binary Cross Entropy Loss\n",
        "optimizer = optim.Adam(model.parameters(), lr=0.001)"
      ],
      "metadata": {
        "id": "VYHtTiFBaHbg"
      },
      "execution_count": 49,
      "outputs": []
    },
    {
      "cell_type": "code",
      "source": [
        "# Training data\n",
        "X_train = torch.randn(100, input_size)  # Example training input\n",
        "y_train = torch.randint(0, 2, (100, 1)).float()  # Example binary labels"
      ],
      "metadata": {
        "id": "IZdxxogtaMS2"
      },
      "execution_count": 50,
      "outputs": []
    },
    {
      "cell_type": "code",
      "source": [
        "# Validation data\n",
        "X_test = torch.randn(30, input_size)  # Example validation input\n",
        "y_test = torch.randint(0, 2, (30, 1)).float()  # Example binary labels"
      ],
      "metadata": {
        "id": "7FL6_FSKaSTE"
      },
      "execution_count": 51,
      "outputs": []
    },
    {
      "cell_type": "code",
      "source": [
        "# Training loop\n",
        "num_epochs = 100\n",
        "training_losses = []\n",
        "validation_losses = []\n",
        "\n",
        "for epoch in range(num_epochs):\n",
        "    model.train()\n",
        "\n",
        "    # Forward pass\n",
        "    outputs = model(X_train)\n",
        "    loss = criterion(outputs, y_train)\n",
        "\n",
        "    # Backward pass and optimization\n",
        "    optimizer.zero_grad()\n",
        "    loss.backward()\n",
        "    optimizer.step()\n",
        "\n",
        "    training_losses.append(loss.item())\n",
        "\n",
        "    model.eval()\n",
        "    with torch.no_grad():\n",
        "        val_outputs = model(X_test)\n",
        "        val_loss = criterion(val_outputs, y_test)\n",
        "        validation_losses.append(val_loss.item())\n",
        "\n",
        "    if (epoch + 1) % 10 == 0:\n",
        "        print(f'Epoch [{epoch + 1}/{num_epochs}], Loss: {loss.item():.4f}, Val Loss: {val_loss.item():.4f}')"
      ],
      "metadata": {
        "colab": {
          "base_uri": "https://localhost:8080/"
        },
        "id": "E7M7pfNZaaW_",
        "outputId": "d585b561-c3ec-44df-e937-6062ae1564b7"
      },
      "execution_count": 52,
      "outputs": [
        {
          "output_type": "stream",
          "name": "stdout",
          "text": [
            "Epoch [10/100], Loss: 0.6899, Val Loss: 0.7623\n",
            "Epoch [20/100], Loss: 0.6858, Val Loss: 0.7607\n",
            "Epoch [30/100], Loss: 0.6820, Val Loss: 0.7599\n",
            "Epoch [40/100], Loss: 0.6781, Val Loss: 0.7598\n",
            "Epoch [50/100], Loss: 0.6743, Val Loss: 0.7608\n",
            "Epoch [60/100], Loss: 0.6704, Val Loss: 0.7627\n",
            "Epoch [70/100], Loss: 0.6664, Val Loss: 0.7654\n",
            "Epoch [80/100], Loss: 0.6625, Val Loss: 0.7691\n",
            "Epoch [90/100], Loss: 0.6584, Val Loss: 0.7741\n",
            "Epoch [100/100], Loss: 0.6543, Val Loss: 0.7798\n"
          ]
        }
      ]
    },
    {
      "cell_type": "code",
      "source": [
        "# Plot the losses\n",
        "plt.plot(training_losses, label='Training Loss')\n",
        "plt.plot(validation_losses, label='Validation Loss')\n",
        "plt.xlabel('Epoch')\n",
        "plt.ylabel('Loss')\n",
        "plt.title('Training and Validation Loss Over Epochs')\n",
        "plt.legend()\n",
        "plt.show()"
      ],
      "metadata": {
        "colab": {
          "base_uri": "https://localhost:8080/",
          "height": 472
        },
        "id": "7HgMh6wBoyae",
        "outputId": "6772e056-2c6d-483e-86ac-a28bffc15244"
      },
      "execution_count": 53,
      "outputs": [
        {
          "output_type": "display_data",
          "data": {
            "text/plain": [
              "<Figure size 640x480 with 1 Axes>"
            ],
            "image/png": "[encoded data removed]"
          },
          "metadata": {}
        }
      ]
    },
    {
      "cell_type": "markdown",
      "source": [
        "Training Loss: The loss value during the training process is decreasing over the epochs, starting from 0.6940 at epoch 10 and ending at 0.6608 at epoch 100.\n",
        "\n",
        "\n",
        "Validation Loss: Similarly, the validation loss is also decreasing, starting from 0.7154 at epoch 10 and ending at 0.6955 at epoch 100.\n",
        "\n",
        "Both training and validation losses are steadily decreasing over time, indicating that the model is learning and improving its predictions as the training progresses."
      ],
      "metadata": {
        "id": "gdToRCb6bK-E"
      }
    },
    {
      "cell_type": "code",
      "source": [
        "# Evaluate the Model\n",
        "model.eval()\n",
        "with torch.no_grad():\n",
        "    y_predicted = model(X_test).round()"
      ],
      "metadata": {
        "id": "WZS0Q4EYo3P_"
      },
      "execution_count": 54,
      "outputs": []
    },
    {
      "cell_type": "code",
      "source": [
        "# Check unique values in y_predicted\n",
        "unique_values = y_predicted.unique()\n",
        "print(f'Unique values in predictions: {unique_values}')"
      ],
      "metadata": {
        "colab": {
          "base_uri": "https://localhost:8080/"
        },
        "id": "U99GZ2ECr8j9",
        "outputId": "a9e8dc0b-aa76-4a3e-d29d-32c68fc7e19e"
      },
      "execution_count": 55,
      "outputs": [
        {
          "output_type": "stream",
          "name": "stdout",
          "text": [
            "Unique values in predictions: tensor([0., 1.])\n"
          ]
        }
      ]
    },
    {
      "cell_type": "markdown",
      "source": [],
      "metadata": {
        "id": "qMvh_4Aof3PZ"
      }
    },
    {
      "cell_type": "code",
      "source": [
        "# Ensure y_test is correctly shaped for sklearn's classification_report\n",
        "y_test_flat = y_test.flatten()"
      ],
      "metadata": {
        "id": "CgHR0ZIcupnD"
      },
      "execution_count": 56,
      "outputs": []
    },
    {
      "cell_type": "code",
      "source": [
        "# If only one class is predicted, avoid using classification_report\n",
        "if len(unique_values) == 1:\n",
        "    print(f'Only one class ({unique_values.item()}) predicted. Cannot generate classification report.')\n",
        "else:\n",
        "    print(classification_report(y_test_flat, y_predicted, target_names=['class 0', 'class 1']))"
      ],
      "metadata": {
        "colab": {
          "base_uri": "https://localhost:8080/"
        },
        "id": "EyhuRdWvuwLZ",
        "outputId": "1c42957c-780e-4150-90f5-6a9d66ff8e7c"
      },
      "execution_count": 57,
      "outputs": [
        {
          "output_type": "stream",
          "name": "stdout",
          "text": [
            "              precision    recall  f1-score   support\n",
            "\n",
            "     class 0       0.36      0.67      0.47        12\n",
            "     class 1       0.50      0.22      0.31        18\n",
            "\n",
            "    accuracy                           0.40        30\n",
            "   macro avg       0.43      0.44      0.39        30\n",
            "weighted avg       0.45      0.40      0.37        30\n",
            "\n"
          ]
        }
      ]
    },
    {
      "cell_type": "code",
      "source": [
        "# Check Data Distribution\n",
        "print(pd.Series(y_train.numpy().flatten()).value_counts())"
      ],
      "metadata": {
        "colab": {
          "base_uri": "https://localhost:8080/"
        },
        "id": "FEj7JCLsvdKH",
        "outputId": "e65b7761-93b5-444b-f242-62afcba1ea72"
      },
      "execution_count": 58,
      "outputs": [
        {
          "output_type": "stream",
          "name": "stdout",
          "text": [
            "0.0    54\n",
            "1.0    46\n",
            "Name: count, dtype: int64\n"
          ]
        }
      ]
    },
    {
      "cell_type": "code",
      "source": [
        "# Inspect Model Predictions\n",
        "with torch.no_grad():\n",
        "    raw_outputs = model(X_test)\n",
        "    print(raw_outputs[:10])"
      ],
      "metadata": {
        "colab": {
          "base_uri": "https://localhost:8080/"
        },
        "id": "2qhKsFMbve3m",
        "outputId": "33e4e85e-ab09-47da-a41a-e216d1270643"
      },
      "execution_count": 59,
      "outputs": [
        {
          "output_type": "stream",
          "name": "stdout",
          "text": [
            "tensor([[0.4007],\n",
            "        [0.4586],\n",
            "        [0.6063],\n",
            "        [0.3036],\n",
            "        [0.6224],\n",
            "        [0.3958],\n",
            "        [0.3743],\n",
            "        [0.5028],\n",
            "        [0.5103],\n",
            "        [0.2421]])\n"
          ]
        }
      ]
    },
    {
      "cell_type": "markdown",
      "source": [
        "The given tensor represents predicted probabilities for the positive class, with values close to 0.5 indicating uncertainty in the predictions."
      ],
      "metadata": {
        "id": "KsXOjUw4fqG2"
      }
    },
    {
      "cell_type": "code",
      "source": [
        "threshold = 0.3  # Adjust this value as needed\n",
        "with torch.no_grad():\n",
        "    y_predicted = (model(X_test) > threshold).float()\n",
        "    unique_values = y_predicted.unique()\n",
        "    print(f'Unique values in predictions with threshold {threshold}: {unique_values}')\n",
        "\n",
        "if len(unique_values) == 1:\n",
        "    print(f'Only one class ({unique_values.item()}) predicted with threshold {threshold}.')\n",
        "else:\n",
        "    print(classification_report(y_test.flatten(), y_predicted, target_names=['class 0', 'class 1']))"
      ],
      "metadata": {
        "colab": {
          "base_uri": "https://localhost:8080/"
        },
        "id": "rWf8qktlvw43",
        "outputId": "50070711-97d7-4690-f987-51b6055d3db2"
      },
      "execution_count": 61,
      "outputs": [
        {
          "output_type": "stream",
          "name": "stdout",
          "text": [
            "Unique values in predictions with threshold 0.3: tensor([0., 1.])\n",
            "              precision    recall  f1-score   support\n",
            "\n",
            "     class 0       0.00      0.00      0.00        12\n",
            "     class 1       0.56      0.83      0.67        18\n",
            "\n",
            "    accuracy                           0.50        30\n",
            "   macro avg       0.28      0.42      0.33        30\n",
            "weighted avg       0.33      0.50      0.40        30\n",
            "\n"
          ]
        }
      ]
    },
    {
      "cell_type": "markdown",
      "source": [
        "The results show that the initial model output values (probabilities) are shallow for the first 10 test samples. These low values are well below the default threshold of 0.5 (and even the adjusted threshold of 0.3), which results in all forecasts being classified as class 0."
      ],
      "metadata": {
        "id": "StdOoHvKuxXj"
      }
    }
  ]
}