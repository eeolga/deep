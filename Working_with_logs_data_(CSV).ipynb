{
  "nbformat": 4,
  "nbformat_minor": 0,
  "metadata": {
    "colab": {
      "provenance": [],
      "authorship_tag": "ABX9TyMbRr0GvYYTN3WS4yAn0lAm",
      "include_colab_link": true
    },
    "kernelspec": {
      "name": "python3",
      "display_name": "Python 3"
    },
    "language_info": {
      "name": "python"
    }
  },
  "cells": [
    {
      "cell_type": "markdown",
      "metadata": {
        "id": "view-in-github",
        "colab_type": "text"
      },
      "source": [
        "<a href=\"https://colab.research.google.com/github/eeolga/deep/blob/main/Working_with_logs_data_(CSV).ipynb\" target=\"_parent\"><img src=\"https://colab.research.google.com/assets/colab-badge.svg\" alt=\"Open In Colab\"/></a>"
      ]
    },
    {
      "cell_type": "markdown",
      "source": [
        "1. Working with tabular data (CSV)"
      ],
      "metadata": {
        "id": "Aak70uwUsJSu"
      }
    },
    {
      "cell_type": "code",
      "source": [
        "import numpy as np\n",
        "import torch"
      ],
      "metadata": {
        "id": "40f96CEdefrG"
      },
      "execution_count": 1,
      "outputs": []
    },
    {
      "cell_type": "code",
      "source": [
        "import csv"
      ],
      "metadata": {
        "id": "MRUNQuVtdFI7"
      },
      "execution_count": 2,
      "outputs": []
    },
    {
      "cell_type": "code",
      "source": [
        "CAD_path = \"/content/logs_4_csv.csv\""
      ],
      "metadata": {
        "id": "eX-hBQHZdHqg"
      },
      "execution_count": 7,
      "outputs": []
    },
    {
      "cell_type": "code",
      "source": [
        "CADq_numpy = np.loadtxt(CAD_path, dtype=np.float32,delimiter=\";\", skiprows=1)"
      ],
      "metadata": {
        "id": "M4sqVdCUdOX0"
      },
      "execution_count": 8,
      "outputs": []
    },
    {
      "cell_type": "code",
      "source": [
        "CADq_numpy"
      ],
      "metadata": {
        "colab": {
          "base_uri": "https://localhost:8080/"
        },
        "id": "tjLYqmhYewj5",
        "outputId": "df359d20-6d04-4c8b-d64a-f1df8891bbd0"
      },
      "execution_count": null,
      "outputs": [
        {
          "output_type": "execute_result",
          "data": {
            "text/plain": [
              "array([[ 7.  ,  0.27,  0.36, ...,  0.45,  8.8 ,  6.  ],\n",
              "       [ 6.3 ,  0.3 ,  0.34, ...,  0.49,  9.5 ,  6.  ],\n",
              "       [ 8.1 ,  0.28,  0.4 , ...,  0.44, 10.1 ,  6.  ],\n",
              "       ...,\n",
              "       [ 6.5 ,  0.24,  0.19, ...,  0.46,  9.4 ,  6.  ],\n",
              "       [ 5.5 ,  0.29,  0.3 , ...,  0.38, 12.8 ,  7.  ],\n",
              "       [ 6.  ,  0.21,  0.38, ...,  0.32, 11.8 ,  6.  ]], dtype=float32)"
            ]
          },
          "metadata": {},
          "execution_count": 53
        }
      ]
    },
    {
      "cell_type": "code",
      "source": [
        "col_list = next(csv.reader(open(CAD_path), delimiter=';'))"
      ],
      "metadata": {
        "id": "56zd1jFei3Tz"
      },
      "execution_count": 9,
      "outputs": []
    },
    {
      "cell_type": "code",
      "source": [
        "CADq_numpy.shape, col_list"
      ],
      "metadata": {
        "colab": {
          "base_uri": "https://localhost:8080/"
        },
        "id": "G3vEuiD5jOhz",
        "outputId": "6dd9ec00-a91b-40b7-c57b-32db23c6e5c7"
      },
      "execution_count": 10,
      "outputs": [
        {
          "output_type": "execute_result",
          "data": {
            "text/plain": [
              "((17, 9),\n",
              " ['\\ufeffID',\n",
              "  'Spec',\n",
              "  'MotherTongue',\n",
              "  'Gender',\n",
              "  'Age',\n",
              "  'Activity',\n",
              "  'DayPart',\n",
              "  'Lesson',\n",
              "  'Grade'])"
            ]
          },
          "metadata": {},
          "execution_count": 10
        }
      ]
    },
    {
      "cell_type": "code",
      "source": [
        "CADq = torch.from_numpy(CADq_numpy)"
      ],
      "metadata": {
        "id": "MgFUVCCtki98"
      },
      "execution_count": 11,
      "outputs": []
    },
    {
      "cell_type": "code",
      "source": [
        "CADq.shape, CADq.dtype"
      ],
      "metadata": {
        "colab": {
          "base_uri": "https://localhost:8080/"
        },
        "id": "7-VXNfnIkk4y",
        "outputId": "959d6377-0470-4de1-907d-8ab1c77fa8b1"
      },
      "execution_count": 12,
      "outputs": [
        {
          "output_type": "execute_result",
          "data": {
            "text/plain": [
              "(torch.Size([17, 9]), torch.float32)"
            ]
          },
          "metadata": {},
          "execution_count": 12
        }
      ]
    },
    {
      "cell_type": "markdown",
      "source": [
        "*Score*  with label"
      ],
      "metadata": {
        "id": "8K-GF-Qik7O-"
      }
    },
    {
      "cell_type": "code",
      "source": [
        "data = CADq[:, :-1]  #select all rows and colomns exept the last"
      ],
      "metadata": {
        "id": "LnM-10hVk9zQ"
      },
      "execution_count": 13,
      "outputs": []
    },
    {
      "cell_type": "code",
      "source": [
        "data, data.shape"
      ],
      "metadata": {
        "colab": {
          "base_uri": "https://localhost:8080/"
        },
        "id": "UIj0bY5ZlT3N",
        "outputId": "e7455c9f-b087-4a1a-f988-9a8f7a601df2"
      },
      "execution_count": 14,
      "outputs": [
        {
          "output_type": "execute_result",
          "data": {
            "text/plain": [
              "(tensor([[2.9292e+04, 1.0000e+00, 1.0000e+00, 0.0000e+00, 2.0000e+01, 2.3000e+01,\n",
              "          3.0000e+00, 1.0000e+00],\n",
              "         [2.6864e+04, 2.0000e+00, 0.0000e+00, 1.0000e+00,        nan, 7.0000e+00,\n",
              "          3.0000e+00, 0.0000e+00],\n",
              "         [2.6861e+04, 2.0000e+00, 0.0000e+00, 1.0000e+00, 2.1000e+01, 1.8000e+01,\n",
              "          1.0000e+00, 1.0000e+00],\n",
              "         [2.6760e+04, 3.0000e+00, 1.0000e+00, 0.0000e+00,        nan, 8.0000e+00,\n",
              "          1.0000e+00, 1.0000e+00],\n",
              "         [2.6544e+04, 4.0000e+00, 1.0000e+00, 1.0000e+00, 2.1000e+01, 9.0000e+00,\n",
              "          1.0000e+00, 1.0000e+00],\n",
              "         [2.9598e+04, 1.1000e+01, 1.0000e+00, 1.0000e+00, 2.5000e+01, 7.0000e+00,\n",
              "          1.0000e+00, 1.0000e+00],\n",
              "         [2.9133e+04, 1.0000e+00, 1.0000e+00, 1.0000e+00, 2.0000e+01, 1.4000e+01,\n",
              "          1.0000e+00, 1.0000e+00],\n",
              "         [2.6604e+04, 2.0000e+00, 0.0000e+00, 1.0000e+00, 2.3000e+01, 6.0000e+00,\n",
              "          1.0000e+00, 1.0000e+00],\n",
              "         [2.9346e+04, 1.0000e+00, 1.0000e+00, 1.0000e+00, 2.0000e+01, 4.0000e+00,\n",
              "          1.0000e+00, 1.0000e+00],\n",
              "         [2.6563e+04, 4.0000e+00, 1.0000e+00, 1.0000e+00, 2.1000e+01, 1.4000e+01,\n",
              "          1.0000e+00, 1.0000e+00],\n",
              "         [2.6610e+04, 4.0000e+00, 1.0000e+00, 1.0000e+00, 2.1000e+01, 7.0000e+00,\n",
              "          1.0000e+00, 1.0000e+00],\n",
              "         [2.6789e+04, 3.0000e+00, 1.0000e+00, 1.0000e+00, 2.2000e+01, 1.2000e+01,\n",
              "          2.0000e+00, 0.0000e+00],\n",
              "         [2.9684e+04, 1.0000e+00, 1.0000e+00, 1.0000e+00,        nan, 5.0000e+00,\n",
              "          2.0000e+00, 0.0000e+00],\n",
              "         [2.9723e+04, 1.0000e+00, 1.0000e+00, 1.0000e+00, 2.0000e+01, 1.4000e+01,\n",
              "          1.0000e+00, 1.0000e+00],\n",
              "         [2.9349e+04, 1.0000e+00, 0.0000e+00, 1.0000e+00, 2.6000e+01, 1.3000e+01,\n",
              "          3.0000e+00, 1.0000e+00],\n",
              "         [2.9350e+04, 1.0000e+00, 1.0000e+00, 1.0000e+00, 2.0000e+01, 6.0000e+00,\n",
              "          1.0000e+00, 1.0000e+00],\n",
              "         [2.3558e+04, 4.0000e+00, 1.0000e+00, 0.0000e+00,        nan, 7.0000e+00,\n",
              "          3.0000e+00, 0.0000e+00]]),\n",
              " torch.Size([17, 8]))"
            ]
          },
          "metadata": {},
          "execution_count": 14
        }
      ]
    },
    {
      "cell_type": "code",
      "source": [
        "target = CADq[:, -1]  #select all rows and the last!"
      ],
      "metadata": {
        "id": "ewrGP_mil2vm"
      },
      "execution_count": 15,
      "outputs": []
    },
    {
      "cell_type": "code",
      "source": [
        "target, target.shape"
      ],
      "metadata": {
        "colab": {
          "base_uri": "https://localhost:8080/"
        },
        "id": "RLrB4tBTmGub",
        "outputId": "fa055337-38b4-4649-b00d-309004df53e8"
      },
      "execution_count": 16,
      "outputs": [
        {
          "output_type": "execute_result",
          "data": {
            "text/plain": [
              "(tensor([5., 0., 3., 5., 5., 0., 5., 4., 5., 4., 0., 0., 4., 4., 4., 5., 0.]),\n",
              " torch.Size([17]))"
            ]
          },
          "metadata": {},
          "execution_count": 16
        }
      ]
    },
    {
      "cell_type": "markdown",
      "source": [
        "labels as an integrated vector"
      ],
      "metadata": {
        "id": "FVusDbRbm_l-"
      }
    },
    {
      "cell_type": "code",
      "source": [
        "target = CADq[:, -1] .long()"
      ],
      "metadata": {
        "id": "x2fwRvegmyQn"
      },
      "execution_count": 17,
      "outputs": []
    },
    {
      "cell_type": "code",
      "source": [
        "target"
      ],
      "metadata": {
        "colab": {
          "base_uri": "https://localhost:8080/"
        },
        "id": "Xjqhsz3LnKeS",
        "outputId": "97a7107e-9c59-4989-e152-bdf63948efc6"
      },
      "execution_count": 18,
      "outputs": [
        {
          "output_type": "execute_result",
          "data": {
            "text/plain": [
              "tensor([5, 0, 3, 5, 5, 0, 5, 4, 5, 4, 0, 0, 4, 4, 4, 5, 0])"
            ]
          },
          "metadata": {},
          "execution_count": 18
        }
      ]
    },
    {
      "cell_type": "markdown",
      "source": [
        "score  1* (1,0,0,0,0,0,0,0),        score 5* (0,0,0,0,1,0,0,0)"
      ],
      "metadata": {
        "id": "R3Nb4z6oncBi"
      }
    },
    {
      "cell_type": "code",
      "source": [
        "target_onehot = torch.zeros(target.shape[0], 8)\n",
        "target_onehot.scatter_(1, target.unsqueeze(1), 1.0)"
      ],
      "metadata": {
        "colab": {
          "base_uri": "https://localhost:8080/"
        },
        "id": "_-DvmQQonrjk",
        "outputId": "b7c17a50-50cf-4a3e-a07f-f84b3bc79c29"
      },
      "execution_count": 49,
      "outputs": [
        {
          "output_type": "execute_result",
          "data": {
            "text/plain": [
              "tensor([[0., 0., 0., 0., 0., 1., 0., 0.],\n",
              "        [1., 0., 0., 0., 0., 0., 0., 0.],\n",
              "        [0., 0., 0., 1., 0., 0., 0., 0.],\n",
              "        [0., 0., 0., 0., 0., 1., 0., 0.],\n",
              "        [0., 0., 0., 0., 0., 1., 0., 0.],\n",
              "        [1., 0., 0., 0., 0., 0., 0., 0.],\n",
              "        [0., 0., 0., 0., 0., 1., 0., 0.],\n",
              "        [0., 0., 0., 0., 1., 0., 0., 0.],\n",
              "        [0., 0., 0., 0., 0., 1., 0., 0.],\n",
              "        [0., 0., 0., 0., 1., 0., 0., 0.],\n",
              "        [1., 0., 0., 0., 0., 0., 0., 0.],\n",
              "        [1., 0., 0., 0., 0., 0., 0., 0.],\n",
              "        [0., 0., 0., 0., 1., 0., 0., 0.],\n",
              "        [0., 0., 0., 0., 1., 0., 0., 0.],\n",
              "        [0., 0., 0., 0., 1., 0., 0., 0.],\n",
              "        [0., 0., 0., 0., 0., 1., 0., 0.],\n",
              "        [1., 0., 0., 0., 0., 0., 0., 0.]])"
            ]
          },
          "metadata": {},
          "execution_count": 49
        }
      ]
    },
    {
      "cell_type": "code",
      "source": [
        "target_unsqueezed = target.unsqueeze(1)"
      ],
      "metadata": {
        "id": "KhBtjENBpG7U"
      },
      "execution_count": 50,
      "outputs": []
    },
    {
      "cell_type": "code",
      "source": [
        "target_unsqueezed"
      ],
      "metadata": {
        "colab": {
          "base_uri": "https://localhost:8080/"
        },
        "id": "7Ng8UBk_pMRU",
        "outputId": "5f59b892-a54c-406c-d5ae-3e1b0905a9c0"
      },
      "execution_count": 51,
      "outputs": [
        {
          "output_type": "execute_result",
          "data": {
            "text/plain": [
              "tensor([[5],\n",
              "        [0],\n",
              "        [3],\n",
              "        [5],\n",
              "        [5],\n",
              "        [0],\n",
              "        [5],\n",
              "        [4],\n",
              "        [5],\n",
              "        [4],\n",
              "        [0],\n",
              "        [0],\n",
              "        [4],\n",
              "        [4],\n",
              "        [4],\n",
              "        [5],\n",
              "        [0]])"
            ]
          },
          "metadata": {},
          "execution_count": 51
        }
      ]
    },
    {
      "cell_type": "markdown",
      "source": [
        "Categorizing"
      ],
      "metadata": {
        "id": "FHnuyO9XpsXE"
      }
    },
    {
      "cell_type": "code",
      "source": [
        "data_mean =torch.mean(data, dim=0)\n",
        "data_mean"
      ],
      "metadata": {
        "colab": {
          "base_uri": "https://localhost:8080/"
        },
        "id": "ThWoeDSDptU2",
        "outputId": "7ff53d74-803a-4b8d-9865-0c22570d7586"
      },
      "execution_count": 52,
      "outputs": [
        {
          "output_type": "execute_result",
          "data": {
            "text/plain": [
              "tensor([2.7802e+04, 2.7059e+00, 7.6471e-01, 8.2353e-01,        nan, 1.0235e+01,\n",
              "        1.5882e+00, 7.6471e-01])"
            ]
          },
          "metadata": {},
          "execution_count": 52
        }
      ]
    },
    {
      "cell_type": "code",
      "source": [
        "data_var=torch.var(data, dim=0)\n",
        "data_var"
      ],
      "metadata": {
        "colab": {
          "base_uri": "https://localhost:8080/"
        },
        "id": "BkwwXfqWrLGf",
        "outputId": "cb698574-10e4-4aa6-b729-9eb28ce7276f"
      },
      "execution_count": 53,
      "outputs": [
        {
          "output_type": "execute_result",
          "data": {
            "text/plain": [
              "tensor([3.0928e+06, 6.0956e+00, 1.9118e-01, 1.5441e-01,        nan, 2.6691e+01,\n",
              "        7.5735e-01, 1.9118e-01])"
            ]
          },
          "metadata": {},
          "execution_count": 53
        }
      ]
    },
    {
      "cell_type": "code",
      "source": [
        "data_normalized= (data - data_mean) / torch.sqrt(data_var)  #data normalization\n",
        "data_normalized"
      ],
      "metadata": {
        "colab": {
          "base_uri": "https://localhost:8080/"
        },
        "id": "pIoxoBnyrbDb",
        "outputId": "a1144207-2873-4072-af17-c9f5cfff26cc"
      },
      "execution_count": 54,
      "outputs": [
        {
          "output_type": "execute_result",
          "data": {
            "text/plain": [
              "tensor([[ 0.8474, -0.6909,  0.5381, -2.0957,     nan,  2.4707,  1.6222,  0.5381],\n",
              "        [-0.5332, -0.2859, -1.7489,  0.4491,     nan, -0.6262,  1.6222, -1.7489],\n",
              "        [-0.5349, -0.2859, -1.7489,  0.4491,     nan,  1.5029, -0.6759,  0.5381],\n",
              "        [-0.5923,  0.1191,  0.5381, -2.0957,     nan, -0.4327, -0.6759,  0.5381],\n",
              "        [-0.7151,  0.5242,  0.5381,  0.4491,     nan, -0.2391, -0.6759,  0.5381],\n",
              "        [ 1.0214,  3.3594,  0.5381,  0.4491,     nan, -0.6262, -0.6759,  0.5381],\n",
              "        [ 0.7570, -0.6909,  0.5381,  0.4491,     nan,  0.7287, -0.6759,  0.5381],\n",
              "        [-0.6810, -0.2859, -1.7489,  0.4491,     nan, -0.8198, -0.6759,  0.5381],\n",
              "        [ 0.8781, -0.6909,  0.5381,  0.4491,     nan, -1.2069, -0.6759,  0.5381],\n",
              "        [-0.7043,  0.5242,  0.5381,  0.4491,     nan,  0.7287, -0.6759,  0.5381],\n",
              "        [-0.6776,  0.5242,  0.5381,  0.4491,     nan, -0.6262, -0.6759,  0.5381],\n",
              "        [-0.5758,  0.1191,  0.5381,  0.4491,     nan,  0.3416,  0.4732, -1.7489],\n",
              "        [ 1.0703, -0.6909,  0.5381,  0.4491,     nan, -1.0133,  0.4732, -1.7489],\n",
              "        [ 1.0925, -0.6909,  0.5381,  0.4491,     nan,  0.7287, -0.6759,  0.5381],\n",
              "        [ 0.8799, -0.6909, -1.7489,  0.4491,     nan,  0.5351,  1.6222,  0.5381],\n",
              "        [ 0.8804, -0.6909,  0.5381,  0.4491,     nan, -0.8198, -0.6759,  0.5381],\n",
              "        [-2.4130,  0.5242,  0.5381, -2.0957,     nan, -0.6262,  1.6222, -1.7489]])"
            ]
          },
          "metadata": {},
          "execution_count": 54
        }
      ]
    },
    {
      "cell_type": "markdown",
      "source": [
        "Finding thresholds"
      ],
      "metadata": {
        "id": "gW4kqYFdr3IS"
      }
    },
    {
      "cell_type": "code",
      "source": [
        "bad_indexes = target <= 3\n",
        "bad_indexes.shape, bad_indexes.dtype, bad_indexes.sum()"
      ],
      "metadata": {
        "colab": {
          "base_uri": "https://localhost:8080/"
        },
        "id": "tCkkCK2or3-y",
        "outputId": "fb5b63a8-0b28-437b-8329-fbc16a600fb1"
      },
      "execution_count": 55,
      "outputs": [
        {
          "output_type": "execute_result",
          "data": {
            "text/plain": [
              "(torch.Size([17]), torch.bool, tensor(6))"
            ]
          },
          "metadata": {},
          "execution_count": 55
        }
      ]
    },
    {
      "cell_type": "code",
      "source": [
        "bad_data = data[bad_indexes]\n",
        "bad_data.shape"
      ],
      "metadata": {
        "colab": {
          "base_uri": "https://localhost:8080/"
        },
        "id": "gn-9ixavtVc7",
        "outputId": "4d7d884a-eb01-496d-a0d6-ec3c9870a51a"
      },
      "execution_count": 56,
      "outputs": [
        {
          "output_type": "execute_result",
          "data": {
            "text/plain": [
              "torch.Size([6, 8])"
            ]
          },
          "metadata": {},
          "execution_count": 56
        }
      ]
    },
    {
      "cell_type": "code",
      "source": [
        "bad_data - data[target <= 3]\n",
        "mid_data = data [ (target > 3) & (target < 5)]\n",
        "good_data = data[target >= 5]"
      ],
      "metadata": {
        "id": "INgYaypsuGgD"
      },
      "execution_count": 57,
      "outputs": []
    },
    {
      "cell_type": "code",
      "source": [
        "bad_mean = torch.mean(bad_data, dim=0)\n",
        "mid_mean = torch.mean(mid_data, dim= 0)\n",
        "good_mean = torch.mean(good_data, dim= 0)"
      ],
      "metadata": {
        "id": "Y-kC8WtfuPyd"
      },
      "execution_count": 58,
      "outputs": []
    },
    {
      "cell_type": "code",
      "source": [
        "for i, args in enumerate(zip(col_list, bad_mean, mid_mean, good_mean)):\n",
        "  print('{:2} {:17} {:6.2f} {:6.2f} {:6.2f}'.format(i, *args))"
      ],
      "metadata": {
        "colab": {
          "base_uri": "https://localhost:8080/"
        },
        "id": "uci5cpBLvDlX",
        "outputId": "93551390-7632-4bce-ceb4-44925408e702"
      },
      "execution_count": 59,
      "outputs": [
        {
          "output_type": "stream",
          "name": "stdout",
          "text": [
            " 0 ﻿ID               26713.33 28384.60 28404.17\n",
            " 1 Spec                4.33   1.80   1.83\n",
            " 2 MotherTongue        0.67   0.60   1.00\n",
            " 3 Gender              0.83   1.00   0.67\n",
            " 4 Age                  nan    nan    nan\n",
            " 5 Activity            9.67  10.40  10.67\n",
            " 6 DayPart             1.83   1.60   1.33\n",
            " 7 Lesson              0.50   0.80   1.00\n"
          ]
        }
      ]
    },
    {
      "cell_type": "code",
      "source": [
        "total_Activity_threshold = 10.40\n",
        "total_Activity_data = data[:,6]"
      ],
      "metadata": {
        "id": "Rj5pjcbbwq_i"
      },
      "execution_count": 60,
      "outputs": []
    },
    {
      "cell_type": "code",
      "source": [
        "predicted_indexes = torch.lt(total_Activity_data,total_Activity_threshold)"
      ],
      "metadata": {
        "id": "BwiK6ueuw1wL"
      },
      "execution_count": 61,
      "outputs": []
    },
    {
      "cell_type": "code",
      "source": [
        "predicted_indexes.shape, predicted_indexes.dtype,\n",
        "predicted_indexes.sum()"
      ],
      "metadata": {
        "colab": {
          "base_uri": "https://localhost:8080/"
        },
        "id": "_zrpWTXDxIhE",
        "outputId": "e9207519-9441-4bd2-d293-feb5901195ef"
      },
      "execution_count": 62,
      "outputs": [
        {
          "output_type": "execute_result",
          "data": {
            "text/plain": [
              "tensor(17)"
            ]
          },
          "metadata": {},
          "execution_count": 62
        }
      ]
    },
    {
      "cell_type": "code",
      "source": [
        "actual_indexes = target > 3\n",
        "actual_indexes.shape, actual_indexes.dtype,\n",
        "actual_indexes.sum()"
      ],
      "metadata": {
        "colab": {
          "base_uri": "https://localhost:8080/"
        },
        "id": "9b5nJL4ZxStF",
        "outputId": "f4bbd3a5-8ea8-4993-b393-33826e83eb50"
      },
      "execution_count": 63,
      "outputs": [
        {
          "output_type": "execute_result",
          "data": {
            "text/plain": [
              "tensor(11)"
            ]
          },
          "metadata": {},
          "execution_count": 63
        }
      ]
    },
    {
      "cell_type": "code",
      "source": [
        "n_matches = torch.sum(actual_indexes &predicted_indexes) .item()"
      ],
      "metadata": {
        "id": "jvEgYx_JxbDO"
      },
      "execution_count": 64,
      "outputs": []
    },
    {
      "cell_type": "code",
      "source": [
        "n_predicted = torch.sum(predicted_indexes) .item()\n",
        "n_actual = torch.sum(actual_indexes) .item()\n",
        "n_matches, n_matches / n_predicted, n_matches / n_actual"
      ],
      "metadata": {
        "colab": {
          "base_uri": "https://localhost:8080/"
        },
        "id": "mO5vy1PKxlb1",
        "outputId": "3ecfa4a9-cf99-409b-8967-6f5c12d5fc81"
      },
      "execution_count": 65,
      "outputs": [
        {
          "output_type": "execute_result",
          "data": {
            "text/plain": [
              "(11, 0.6470588235294118, 1.0)"
            ]
          },
          "metadata": {},
          "execution_count": 65
        }
      ]
    }
  ]
}