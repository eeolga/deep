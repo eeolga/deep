{
  "nbformat": 4,
  "nbformat_minor": 0,
  "metadata": {
    "colab": {
      "provenance": [],
      "authorship_tag": "ABX9TyOrZW0jetivYtytPODAgHgS",
      "include_colab_link": true
    },
    "kernelspec": {
      "name": "python3",
      "display_name": "Python 3"
    },
    "language_info": {
      "name": "python"
    }
  },
  "cells": [
    {
      "cell_type": "markdown",
      "metadata": {
        "id": "view-in-github",
        "colab_type": "text"
      },
      "source": [
        "<a href=\"https://colab.research.google.com/github/eeolga/deep/blob/main/Logs_CAD_4_tensor.ipynb\" target=\"_parent\"><img src=\"https://colab.research.google.com/assets/colab-badge.svg\" alt=\"Open In Colab\"/></a>"
      ]
    },
    {
      "cell_type": "code",
      "execution_count": null,
      "metadata": {
        "id": "ojGYJf9fhcYT"
      },
      "outputs": [],
      "source": [
        "import numpy as np\n",
        "import torch"
      ]
    },
    {
      "cell_type": "code",
      "source": [
        "import csv"
      ],
      "metadata": {
        "id": "gpx2uhG-hz27"
      },
      "execution_count": null,
      "outputs": []
    },
    {
      "cell_type": "code",
      "source": [
        "logs_path=\"/content/logs_4.csv\""
      ],
      "metadata": {
        "id": "XUDETXZ5h_Iw"
      },
      "execution_count": null,
      "outputs": []
    },
    {
      "cell_type": "code",
      "source": [
        "logsq_numpy = np.loadtxt(logs_path, dtype=np.float32,delimiter=\";\", skiprows=1)"
      ],
      "metadata": {
        "id": "eCOP2KgaiPsH"
      },
      "execution_count": null,
      "outputs": []
    },
    {
      "cell_type": "code",
      "source": [
        "logsq_numpy"
      ],
      "metadata": {
        "colab": {
          "base_uri": "https://localhost:8080/"
        },
        "id": "SYuKAdw1jpsv",
        "outputId": "b4c1e9b8-98cf-40ec-9c9a-46f700775a8a"
      },
      "execution_count": null,
      "outputs": [
        {
          "output_type": "execute_result",
          "data": {
            "text/plain": [
              "array([[2.9292e+04, 1.0000e+00, 1.0000e+00, 0.0000e+00, 2.0000e+01,\n",
              "        2.3000e+01, 3.0000e+00, 1.0000e+00, 5.0000e+00],\n",
              "       [2.6864e+04, 2.0000e+00, 0.0000e+00, 1.0000e+00,        nan,\n",
              "        7.0000e+00, 3.0000e+00, 0.0000e+00, 0.0000e+00],\n",
              "       [2.6861e+04, 2.0000e+00, 0.0000e+00, 1.0000e+00, 2.1000e+01,\n",
              "        1.8000e+01, 1.0000e+00, 1.0000e+00, 3.0000e+00],\n",
              "       [2.6760e+04, 3.0000e+00, 1.0000e+00, 0.0000e+00,        nan,\n",
              "        8.0000e+00, 1.0000e+00, 1.0000e+00, 5.0000e+00],\n",
              "       [2.6544e+04, 4.0000e+00, 1.0000e+00, 1.0000e+00, 2.1000e+01,\n",
              "        9.0000e+00, 1.0000e+00, 1.0000e+00, 5.0000e+00],\n",
              "       [2.9598e+04, 1.1000e+01, 1.0000e+00, 1.0000e+00, 2.5000e+01,\n",
              "        7.0000e+00, 1.0000e+00, 1.0000e+00, 0.0000e+00],\n",
              "       [2.9133e+04, 1.0000e+00, 1.0000e+00, 1.0000e+00, 2.0000e+01,\n",
              "        1.4000e+01, 1.0000e+00, 1.0000e+00, 5.0000e+00],\n",
              "       [2.6604e+04, 2.0000e+00, 0.0000e+00, 1.0000e+00, 2.3000e+01,\n",
              "        6.0000e+00, 1.0000e+00, 1.0000e+00, 4.0000e+00],\n",
              "       [2.9346e+04, 1.0000e+00, 1.0000e+00, 1.0000e+00, 2.0000e+01,\n",
              "        4.0000e+00, 1.0000e+00, 1.0000e+00, 5.0000e+00],\n",
              "       [2.6563e+04, 4.0000e+00, 1.0000e+00, 1.0000e+00, 2.1000e+01,\n",
              "        1.4000e+01, 1.0000e+00, 1.0000e+00, 4.0000e+00],\n",
              "       [2.6610e+04, 4.0000e+00, 1.0000e+00, 1.0000e+00, 2.1000e+01,\n",
              "        7.0000e+00, 1.0000e+00, 1.0000e+00, 0.0000e+00],\n",
              "       [2.6789e+04, 3.0000e+00, 1.0000e+00, 1.0000e+00, 2.2000e+01,\n",
              "        1.2000e+01, 2.0000e+00, 0.0000e+00, 0.0000e+00],\n",
              "       [2.9684e+04, 1.0000e+00, 1.0000e+00, 1.0000e+00,        nan,\n",
              "        5.0000e+00, 2.0000e+00, 0.0000e+00, 4.0000e+00],\n",
              "       [2.9723e+04, 1.0000e+00, 1.0000e+00, 1.0000e+00, 2.0000e+01,\n",
              "        1.4000e+01, 1.0000e+00, 1.0000e+00, 4.0000e+00],\n",
              "       [2.9349e+04, 1.0000e+00, 0.0000e+00, 1.0000e+00, 2.6000e+01,\n",
              "        1.3000e+01, 3.0000e+00, 1.0000e+00, 4.0000e+00],\n",
              "       [2.9350e+04, 1.0000e+00, 1.0000e+00, 1.0000e+00, 2.0000e+01,\n",
              "        6.0000e+00, 1.0000e+00, 1.0000e+00, 5.0000e+00],\n",
              "       [2.3558e+04, 4.0000e+00, 1.0000e+00, 0.0000e+00,        nan,\n",
              "        7.0000e+00, 3.0000e+00, 0.0000e+00, 0.0000e+00]], dtype=float32)"
            ]
          },
          "metadata": {},
          "execution_count": 8
        }
      ]
    },
    {
      "cell_type": "code",
      "source": [
        "col_list = next(csv.reader(open(logs_path), delimiter=';'))"
      ],
      "metadata": {
        "id": "F9YXeP59jwJX"
      },
      "execution_count": null,
      "outputs": []
    },
    {
      "cell_type": "code",
      "source": [
        "logsq_numpy.shape, col_list"
      ],
      "metadata": {
        "colab": {
          "base_uri": "https://localhost:8080/"
        },
        "id": "I5mxAE6Ej5QU",
        "outputId": "5198b00f-2373-4c33-d12c-4a63b1f63c18"
      },
      "execution_count": null,
      "outputs": [
        {
          "output_type": "execute_result",
          "data": {
            "text/plain": [
              "((17, 9),\n",
              " ['\\ufeffID',\n",
              "  'Spec',\n",
              "  'MotherTongue',\n",
              "  'Gender',\n",
              "  'Age',\n",
              "  'Activity',\n",
              "  'DayPart',\n",
              "  'Lesson',\n",
              "  'Grade'])"
            ]
          },
          "metadata": {},
          "execution_count": 10
        }
      ]
    },
    {
      "cell_type": "code",
      "source": [
        "logsq = torch.from_numpy(logsq_numpy)"
      ],
      "metadata": {
        "id": "6z3FMPg5kFmF"
      },
      "execution_count": null,
      "outputs": []
    },
    {
      "cell_type": "code",
      "source": [
        "logsq.shape, logsq.dtype"
      ],
      "metadata": {
        "colab": {
          "base_uri": "https://localhost:8080/"
        },
        "id": "GA5680Pikdb6",
        "outputId": "53dbbe22-30aa-4bc1-e8a1-2c00b23a815d"
      },
      "execution_count": null,
      "outputs": [
        {
          "output_type": "execute_result",
          "data": {
            "text/plain": [
              "(torch.Size([17, 9]), torch.float32)"
            ]
          },
          "metadata": {},
          "execution_count": 12
        }
      ]
    },
    {
      "cell_type": "code",
      "source": [
        "data = logsq[:, :-1]  #select all rows and colomns exept the last"
      ],
      "metadata": {
        "id": "oPZxXXsBkiz7"
      },
      "execution_count": null,
      "outputs": []
    },
    {
      "cell_type": "code",
      "source": [
        "data, data.shape"
      ],
      "metadata": {
        "colab": {
          "base_uri": "https://localhost:8080/"
        },
        "id": "VOXf481ektLJ",
        "outputId": "8c021f8b-737a-4f48-c539-06e2f3a3263c"
      },
      "execution_count": null,
      "outputs": [
        {
          "output_type": "execute_result",
          "data": {
            "text/plain": [
              "(tensor([[2.9292e+04, 1.0000e+00, 1.0000e+00, 0.0000e+00, 2.0000e+01, 2.3000e+01,\n",
              "          3.0000e+00, 1.0000e+00],\n",
              "         [2.6864e+04, 2.0000e+00, 0.0000e+00, 1.0000e+00,        nan, 7.0000e+00,\n",
              "          3.0000e+00, 0.0000e+00],\n",
              "         [2.6861e+04, 2.0000e+00, 0.0000e+00, 1.0000e+00, 2.1000e+01, 1.8000e+01,\n",
              "          1.0000e+00, 1.0000e+00],\n",
              "         [2.6760e+04, 3.0000e+00, 1.0000e+00, 0.0000e+00,        nan, 8.0000e+00,\n",
              "          1.0000e+00, 1.0000e+00],\n",
              "         [2.6544e+04, 4.0000e+00, 1.0000e+00, 1.0000e+00, 2.1000e+01, 9.0000e+00,\n",
              "          1.0000e+00, 1.0000e+00],\n",
              "         [2.9598e+04, 1.1000e+01, 1.0000e+00, 1.0000e+00, 2.5000e+01, 7.0000e+00,\n",
              "          1.0000e+00, 1.0000e+00],\n",
              "         [2.9133e+04, 1.0000e+00, 1.0000e+00, 1.0000e+00, 2.0000e+01, 1.4000e+01,\n",
              "          1.0000e+00, 1.0000e+00],\n",
              "         [2.6604e+04, 2.0000e+00, 0.0000e+00, 1.0000e+00, 2.3000e+01, 6.0000e+00,\n",
              "          1.0000e+00, 1.0000e+00],\n",
              "         [2.9346e+04, 1.0000e+00, 1.0000e+00, 1.0000e+00, 2.0000e+01, 4.0000e+00,\n",
              "          1.0000e+00, 1.0000e+00],\n",
              "         [2.6563e+04, 4.0000e+00, 1.0000e+00, 1.0000e+00, 2.1000e+01, 1.4000e+01,\n",
              "          1.0000e+00, 1.0000e+00],\n",
              "         [2.6610e+04, 4.0000e+00, 1.0000e+00, 1.0000e+00, 2.1000e+01, 7.0000e+00,\n",
              "          1.0000e+00, 1.0000e+00],\n",
              "         [2.6789e+04, 3.0000e+00, 1.0000e+00, 1.0000e+00, 2.2000e+01, 1.2000e+01,\n",
              "          2.0000e+00, 0.0000e+00],\n",
              "         [2.9684e+04, 1.0000e+00, 1.0000e+00, 1.0000e+00,        nan, 5.0000e+00,\n",
              "          2.0000e+00, 0.0000e+00],\n",
              "         [2.9723e+04, 1.0000e+00, 1.0000e+00, 1.0000e+00, 2.0000e+01, 1.4000e+01,\n",
              "          1.0000e+00, 1.0000e+00],\n",
              "         [2.9349e+04, 1.0000e+00, 0.0000e+00, 1.0000e+00, 2.6000e+01, 1.3000e+01,\n",
              "          3.0000e+00, 1.0000e+00],\n",
              "         [2.9350e+04, 1.0000e+00, 1.0000e+00, 1.0000e+00, 2.0000e+01, 6.0000e+00,\n",
              "          1.0000e+00, 1.0000e+00],\n",
              "         [2.3558e+04, 4.0000e+00, 1.0000e+00, 0.0000e+00,        nan, 7.0000e+00,\n",
              "          3.0000e+00, 0.0000e+00]]),\n",
              " torch.Size([17, 8]))"
            ]
          },
          "metadata": {},
          "execution_count": 14
        }
      ]
    },
    {
      "cell_type": "code",
      "source": [
        "target = logsq[:, -1]  #select all rows"
      ],
      "metadata": {
        "id": "zwJlcDckk0Js"
      },
      "execution_count": null,
      "outputs": []
    },
    {
      "cell_type": "code",
      "source": [
        "target, target.shape"
      ],
      "metadata": {
        "colab": {
          "base_uri": "https://localhost:8080/"
        },
        "id": "kQ0O8dNLk7Zh",
        "outputId": "719c0028-9078-4af2-c252-baad7b61088a"
      },
      "execution_count": null,
      "outputs": [
        {
          "output_type": "execute_result",
          "data": {
            "text/plain": [
              "(tensor([5., 0., 3., 5., 5., 0., 5., 4., 5., 4., 0., 0., 4., 4., 4., 5., 0.]),\n",
              " torch.Size([17]))"
            ]
          },
          "metadata": {},
          "execution_count": 16
        }
      ]
    },
    {
      "cell_type": "code",
      "source": [
        "target = logsq[:, -1] .long() #labels as an integrated vector"
      ],
      "metadata": {
        "id": "s_t2b0Lgk9rr"
      },
      "execution_count": null,
      "outputs": []
    },
    {
      "cell_type": "code",
      "source": [
        "target"
      ],
      "metadata": {
        "colab": {
          "base_uri": "https://localhost:8080/"
        },
        "id": "5eqhQRmUlPQE",
        "outputId": "94a42e67-0338-4c84-e031-f42b8843f788"
      },
      "execution_count": null,
      "outputs": [
        {
          "output_type": "execute_result",
          "data": {
            "text/plain": [
              "tensor([5, 0, 3, 5, 5, 0, 5, 4, 5, 4, 0, 0, 4, 4, 4, 5, 0])"
            ]
          },
          "metadata": {},
          "execution_count": 18
        }
      ]
    },
    {
      "cell_type": "code",
      "source": [
        "target_onehot = torch.zeros(target.shape[0], 6) #score  1* (1,0,0,0,0,0) score  5* (0,0,0,0,0,1)\n",
        "target_onehot.scatter_(1, target.unsqueeze(1), 1.0)"
      ],
      "metadata": {
        "colab": {
          "base_uri": "https://localhost:8080/"
        },
        "id": "HmtknAnxlTIr",
        "outputId": "c2437522-0a73-4990-fa1d-ade5e32b0c67"
      },
      "execution_count": null,
      "outputs": [
        {
          "output_type": "execute_result",
          "data": {
            "text/plain": [
              "tensor([[0., 0., 0., 0., 0., 1.],\n",
              "        [1., 0., 0., 0., 0., 0.],\n",
              "        [0., 0., 0., 1., 0., 0.],\n",
              "        [0., 0., 0., 0., 0., 1.],\n",
              "        [0., 0., 0., 0., 0., 1.],\n",
              "        [1., 0., 0., 0., 0., 0.],\n",
              "        [0., 0., 0., 0., 0., 1.],\n",
              "        [0., 0., 0., 0., 1., 0.],\n",
              "        [0., 0., 0., 0., 0., 1.],\n",
              "        [0., 0., 0., 0., 1., 0.],\n",
              "        [1., 0., 0., 0., 0., 0.],\n",
              "        [1., 0., 0., 0., 0., 0.],\n",
              "        [0., 0., 0., 0., 1., 0.],\n",
              "        [0., 0., 0., 0., 1., 0.],\n",
              "        [0., 0., 0., 0., 1., 0.],\n",
              "        [0., 0., 0., 0., 0., 1.],\n",
              "        [1., 0., 0., 0., 0., 0.]])"
            ]
          },
          "metadata": {},
          "execution_count": 23
        }
      ]
    },
    {
      "cell_type": "code",
      "source": [
        "target_unsqueezed = target.unsqueeze(1)"
      ],
      "metadata": {
        "id": "0ihzbfcala-n"
      },
      "execution_count": null,
      "outputs": []
    },
    {
      "cell_type": "code",
      "source": [
        "target_unsqueezed"
      ],
      "metadata": {
        "colab": {
          "base_uri": "https://localhost:8080/"
        },
        "id": "JFDuNzSwmcCS",
        "outputId": "bf489265-fd0a-45ca-afc5-95cc319a45c9"
      },
      "execution_count": null,
      "outputs": [
        {
          "output_type": "execute_result",
          "data": {
            "text/plain": [
              "tensor([[5],\n",
              "        [0],\n",
              "        [3],\n",
              "        [5],\n",
              "        [5],\n",
              "        [0],\n",
              "        [5],\n",
              "        [4],\n",
              "        [5],\n",
              "        [4],\n",
              "        [0],\n",
              "        [0],\n",
              "        [4],\n",
              "        [4],\n",
              "        [4],\n",
              "        [5],\n",
              "        [0]])"
            ]
          },
          "metadata": {},
          "execution_count": 25
        }
      ]
    },
    {
      "cell_type": "code",
      "source": [
        "data_mean =torch.mean(data, dim=0) #Categorizing\n",
        "data_mean"
      ],
      "metadata": {
        "colab": {
          "base_uri": "https://localhost:8080/"
        },
        "id": "ZI3VvGZemgQG",
        "outputId": "98dd0790-7fc0-4cd5-fcd2-cc3cde0eced0"
      },
      "execution_count": null,
      "outputs": [
        {
          "output_type": "execute_result",
          "data": {
            "text/plain": [
              "tensor([2.7802e+04, 2.7059e+00, 7.6471e-01, 8.2353e-01,        nan, 1.0235e+01,\n",
              "        1.5882e+00, 7.6471e-01])"
            ]
          },
          "metadata": {},
          "execution_count": 26
        }
      ]
    },
    {
      "cell_type": "code",
      "source": [
        "data_var=torch.var(data, dim=0)\n",
        "data_var"
      ],
      "metadata": {
        "colab": {
          "base_uri": "https://localhost:8080/"
        },
        "id": "1K-pp3XGmp9S",
        "outputId": "3d232948-c5ba-4712-9482-2933de2d2de4"
      },
      "execution_count": null,
      "outputs": [
        {
          "output_type": "execute_result",
          "data": {
            "text/plain": [
              "tensor([3.0928e+06, 6.0956e+00, 1.9118e-01, 1.5441e-01,        nan, 2.6691e+01,\n",
              "        7.5735e-01, 1.9118e-01])"
            ]
          },
          "metadata": {},
          "execution_count": 27
        }
      ]
    },
    {
      "cell_type": "code",
      "source": [
        "data_normalized= (data - data_mean) / torch.sqrt(data_var)  #data normalization\n",
        "data_normalized"
      ],
      "metadata": {
        "colab": {
          "base_uri": "https://localhost:8080/"
        },
        "id": "fhv85AF-muMp",
        "outputId": "dd83f326-6362-41a2-f538-1017a00f212c"
      },
      "execution_count": null,
      "outputs": [
        {
          "output_type": "execute_result",
          "data": {
            "text/plain": [
              "tensor([[ 0.8474, -0.6909,  0.5381, -2.0957,     nan,  2.4707,  1.6222,  0.5381],\n",
              "        [-0.5332, -0.2859, -1.7489,  0.4491,     nan, -0.6262,  1.6222, -1.7489],\n",
              "        [-0.5349, -0.2859, -1.7489,  0.4491,     nan,  1.5029, -0.6759,  0.5381],\n",
              "        [-0.5923,  0.1191,  0.5381, -2.0957,     nan, -0.4327, -0.6759,  0.5381],\n",
              "        [-0.7151,  0.5242,  0.5381,  0.4491,     nan, -0.2391, -0.6759,  0.5381],\n",
              "        [ 1.0214,  3.3594,  0.5381,  0.4491,     nan, -0.6262, -0.6759,  0.5381],\n",
              "        [ 0.7570, -0.6909,  0.5381,  0.4491,     nan,  0.7287, -0.6759,  0.5381],\n",
              "        [-0.6810, -0.2859, -1.7489,  0.4491,     nan, -0.8198, -0.6759,  0.5381],\n",
              "        [ 0.8781, -0.6909,  0.5381,  0.4491,     nan, -1.2069, -0.6759,  0.5381],\n",
              "        [-0.7043,  0.5242,  0.5381,  0.4491,     nan,  0.7287, -0.6759,  0.5381],\n",
              "        [-0.6776,  0.5242,  0.5381,  0.4491,     nan, -0.6262, -0.6759,  0.5381],\n",
              "        [-0.5758,  0.1191,  0.5381,  0.4491,     nan,  0.3416,  0.4732, -1.7489],\n",
              "        [ 1.0703, -0.6909,  0.5381,  0.4491,     nan, -1.0133,  0.4732, -1.7489],\n",
              "        [ 1.0925, -0.6909,  0.5381,  0.4491,     nan,  0.7287, -0.6759,  0.5381],\n",
              "        [ 0.8799, -0.6909, -1.7489,  0.4491,     nan,  0.5351,  1.6222,  0.5381],\n",
              "        [ 0.8804, -0.6909,  0.5381,  0.4491,     nan, -0.8198, -0.6759,  0.5381],\n",
              "        [-2.4130,  0.5242,  0.5381, -2.0957,     nan, -0.6262,  1.6222, -1.7489]])"
            ]
          },
          "metadata": {},
          "execution_count": 28
        }
      ]
    },
    {
      "cell_type": "code",
      "source": [
        "bad_indexes = target <= 3\n",
        "bad_indexes.shape, bad_indexes.dtype, bad_indexes.sum()"
      ],
      "metadata": {
        "colab": {
          "base_uri": "https://localhost:8080/"
        },
        "id": "1nUFnoLwmzDh",
        "outputId": "6c442bd3-b3ae-417e-a033-b631420555a3"
      },
      "execution_count": null,
      "outputs": [
        {
          "output_type": "execute_result",
          "data": {
            "text/plain": [
              "(torch.Size([17]), torch.bool, tensor(6))"
            ]
          },
          "metadata": {},
          "execution_count": 29
        }
      ]
    },
    {
      "cell_type": "code",
      "source": [
        "bad_data = data[bad_indexes]\n",
        "bad_data.shape"
      ],
      "metadata": {
        "colab": {
          "base_uri": "https://localhost:8080/"
        },
        "id": "2sbwjkgIm9MT",
        "outputId": "e3fa07a7-57ee-4e26-880e-aec7b7f2171d"
      },
      "execution_count": null,
      "outputs": [
        {
          "output_type": "execute_result",
          "data": {
            "text/plain": [
              "torch.Size([6, 8])"
            ]
          },
          "metadata": {},
          "execution_count": 30
        }
      ]
    },
    {
      "cell_type": "code",
      "source": [
        "bad_data - data[target <= 3]\n",
        "mid_data = data [ (target > 3) & (target < 5)]\n",
        "good_data = data[target >= 4]"
      ],
      "metadata": {
        "id": "8ePgKMdonBOF"
      },
      "execution_count": null,
      "outputs": []
    },
    {
      "cell_type": "code",
      "source": [
        "bad_mean = torch.mean(bad_data, dim=0)\n",
        "mid_mean = torch.mean(mid_data, dim= 0)\n",
        "good_mean = torch.mean(good_data, dim= 0)"
      ],
      "metadata": {
        "id": "gWeDojfYnKBv"
      },
      "execution_count": null,
      "outputs": []
    },
    {
      "cell_type": "code",
      "source": [
        "for i, args in enumerate(zip(col_list, bad_mean, mid_mean, good_mean)):\n",
        "  print('{:5} {:17} {:7.6f} {:7.6f} {:7.6f}'.format(i, *args))"
      ],
      "metadata": {
        "colab": {
          "base_uri": "https://localhost:8080/"
        },
        "id": "urRnZbjTnNxY",
        "outputId": "cf842449-83fe-4c64-ae3e-8a5aa895ff0e"
      },
      "execution_count": null,
      "outputs": [
        {
          "output_type": "stream",
          "name": "stdout",
          "text": [
            "    0 ﻿ID               26713.333984 28384.599609 28395.273438\n",
            "    1 Spec              4.333333 1.800000 1.818182\n",
            "    2 MotherTongue      0.666667 0.600000 0.818182\n",
            "    3 Gender            0.833333 1.000000 0.818182\n",
            "    4 Age                   nan     nan     nan\n",
            "    5 Activity          9.666667 10.400000 10.545455\n",
            "    6 DayPart           1.833333 1.600000 1.454545\n",
            "    7 Lesson            0.500000 0.800000 0.909091\n"
          ]
        }
      ]
    },
    {
      "cell_type": "code",
      "source": [
        "Activity_threshold = 10.54\n",
        "Activity_data = data[:,7]"
      ],
      "metadata": {
        "id": "aNFedgPooVw-"
      },
      "execution_count": null,
      "outputs": []
    },
    {
      "cell_type": "code",
      "source": [
        "predicted_indexes = torch.lt(Activity_data,Activity_threshold)"
      ],
      "metadata": {
        "id": "Uvd117WKpQ9H"
      },
      "execution_count": null,
      "outputs": []
    },
    {
      "cell_type": "code",
      "source": [
        "predicted_indexes.shape, predicted_indexes.dtype,\n",
        "predicted_indexes.sum()"
      ],
      "metadata": {
        "colab": {
          "base_uri": "https://localhost:8080/"
        },
        "id": "cd1JeDQMpbjG",
        "outputId": "504fd80b-3eff-4c27-95c8-21cf1338e8c4"
      },
      "execution_count": null,
      "outputs": [
        {
          "output_type": "execute_result",
          "data": {
            "text/plain": [
              "tensor(17)"
            ]
          },
          "metadata": {},
          "execution_count": 41
        }
      ]
    },
    {
      "cell_type": "code",
      "source": [
        "actual_indexes = target > 3\n",
        "actual_indexes.shape, actual_indexes.dtype,\n",
        "actual_indexes.sum()"
      ],
      "metadata": {
        "colab": {
          "base_uri": "https://localhost:8080/"
        },
        "id": "x0mPQ1vzpffv",
        "outputId": "406fb1c4-a010-4c0d-f985-5f61ce659be7"
      },
      "execution_count": null,
      "outputs": [
        {
          "output_type": "execute_result",
          "data": {
            "text/plain": [
              "tensor(11)"
            ]
          },
          "metadata": {},
          "execution_count": 42
        }
      ]
    },
    {
      "cell_type": "code",
      "source": [
        "n_matches = torch.sum(actual_indexes &predicted_indexes) .item()"
      ],
      "metadata": {
        "id": "tQstiYZipp3r"
      },
      "execution_count": null,
      "outputs": []
    },
    {
      "cell_type": "code",
      "source": [
        "n_predicted = torch.sum(predicted_indexes) .item()\n",
        "n_actual = torch.sum(actual_indexes) .item()\n",
        "n_matches, n_matches / n_predicted, n_matches / n_actual"
      ],
      "metadata": {
        "colab": {
          "base_uri": "https://localhost:8080/"
        },
        "id": "nH5krHLcpuLo",
        "outputId": "36f6d24b-9e46-444c-ddbc-ff04fd1cc522"
      },
      "execution_count": null,
      "outputs": [
        {
          "output_type": "execute_result",
          "data": {
            "text/plain": [
              "(11, 0.6470588235294118, 1.0)"
            ]
          },
          "metadata": {},
          "execution_count": 44
        }
      ]
    }
  ]
}