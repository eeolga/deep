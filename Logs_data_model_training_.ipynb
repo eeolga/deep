{
  "nbformat": 4,
  "nbformat_minor": 0,
  "metadata": {
    "colab": {
      "provenance": [],
      "authorship_tag": "ABX9TyMWMHgplhgLKUX5Ot7L7JA0",
      "include_colab_link": true
    },
    "kernelspec": {
      "name": "python3",
      "display_name": "Python 3"
    },
    "language_info": {
      "name": "python"
    }
  },
  "cells": [
    {
      "cell_type": "markdown",
      "metadata": {
        "id": "view-in-github",
        "colab_type": "text"
      },
      "source": [
        "<a href=\"https://colab.research.google.com/github/eeolga/deep/blob/main/Logs_data_model_training_.ipynb\" target=\"_parent\"><img src=\"https://colab.research.google.com/assets/colab-badge.svg\" alt=\"Open In Colab\"/></a>"
      ]
    },
    {
      "cell_type": "code",
      "execution_count": 1,
      "metadata": {
        "id": "4E4QCCGLduCq"
      },
      "outputs": [],
      "source": [
        "import pandas as pd"
      ]
    },
    {
      "cell_type": "code",
      "source": [
        "import torch\n",
        "import torch.nn as nn"
      ],
      "metadata": {
        "id": "nRGmnHqqOxaa"
      },
      "execution_count": 2,
      "outputs": []
    },
    {
      "cell_type": "code",
      "source": [
        "import torch.optim as optim"
      ],
      "metadata": {
        "id": "AQBAhxIUO7A3"
      },
      "execution_count": 3,
      "outputs": []
    },
    {
      "cell_type": "code",
      "source": [
        "from sklearn.model_selection import train_test_split\n",
        "from sklearn.preprocessing import StandardScaler\n",
        "from sklearn.metrics import classification_report"
      ],
      "metadata": {
        "id": "LYReQVWCO-Ux"
      },
      "execution_count": 4,
      "outputs": []
    },
    {
      "cell_type": "code",
      "source": [
        "import matplotlib.pyplot as plt"
      ],
      "metadata": {
        "id": "g0wcU_0wPCxw"
      },
      "execution_count": 5,
      "outputs": []
    },
    {
      "cell_type": "code",
      "source": [
        "file_path = '/content/logs_CAD_2024_1.xlsx' # Data from Excel\n",
        "data = pd.read_excel(file_path)"
      ],
      "metadata": {
        "id": "xvfWwDMVnfTK"
      },
      "execution_count": 6,
      "outputs": []
    },
    {
      "cell_type": "code",
      "source": [
        "display(pd.DataFrame(data))"
      ],
      "metadata": {
        "colab": {
          "base_uri": "https://localhost:8080/",
          "height": 423
        },
        "id": "9s8qiBzZR0oj",
        "outputId": "e14f3b77-8a7f-4991-9ae5-c90ac108a1f5"
      },
      "execution_count": 7,
      "outputs": [
        {
          "output_type": "display_data",
          "data": {
            "text/plain": [
              "               timestamp  user_id  tool_id  log_count  lesson  day_part\n",
              "0     15/04/24, 11:37:03    26861   233243        3.0       0         1\n",
              "1     15/04/24, 11:37:03    26861   233243        0.0       0         1\n",
              "2     15/04/24, 11:37:03    26861   233243        0.0       0         1\n",
              "3     15/04/24, 11:30:50    26861     2949        1.0       0         1\n",
              "4     15/04/24, 11:30:37    26861   244208        3.0       0         1\n",
              "...                  ...      ...      ...        ...     ...       ...\n",
              "6091   1/02/24, 20:00:42    29349     2949        0.0       0         3\n",
              "6092  29/01/24, 19:00:53    29349     2949        0.0       0         3\n",
              "6093  29/01/24, 19:00:52    29349     2949        0.0       0         3\n",
              "6094  29/01/24, 19:00:52    29349     2949        0.0       0         3\n",
              "6095  29/01/24, 19:00:52    29349     2949        0.0       0         3\n",
              "\n",
              "[6096 rows x 6 columns]"
            ],
            "text/html": [
              "\n",
              "  <div id=\"df-3b63cb04-f955-4ada-8649-2acde983b207\" class=\"colab-df-container\">\n",
              "    <div>\n",
              "<style scoped>\n",
              "    .dataframe tbody tr th:only-of-type {\n",
              "        vertical-align: middle;\n",
              "    }\n",
              "\n",
              "    .dataframe tbody tr th {\n",
              "        vertical-align: top;\n",
              "    }\n",
              "\n",
              "    .dataframe thead th {\n",
              "        text-align: right;\n",
              "    }\n",
              "</style>\n",
              "<table border=\"1\" class=\"dataframe\">\n",
              "  <thead>\n",
              "    <tr style=\"text-align: right;\">\n",
              "      <th></th>\n",
              "      <th>timestamp</th>\n",
              "      <th>user_id</th>\n",
              "      <th>tool_id</th>\n",
              "      <th>log_count</th>\n",
              "      <th>lesson</th>\n",
              "      <th>day_part</th>\n",
              "    </tr>\n",
              "  </thead>\n",
              "  <tbody>\n",
              "    <tr>\n",
              "      <th>0</th>\n",
              "      <td>15/04/24, 11:37:03</td>\n",
              "      <td>26861</td>\n",
              "      <td>233243</td>\n",
              "      <td>3.0</td>\n",
              "      <td>0</td>\n",
              "      <td>1</td>\n",
              "    </tr>\n",
              "    <tr>\n",
              "      <th>1</th>\n",
              "      <td>15/04/24, 11:37:03</td>\n",
              "      <td>26861</td>\n",
              "      <td>233243</td>\n",
              "      <td>0.0</td>\n",
              "      <td>0</td>\n",
              "      <td>1</td>\n",
              "    </tr>\n",
              "    <tr>\n",
              "      <th>2</th>\n",
              "      <td>15/04/24, 11:37:03</td>\n",
              "      <td>26861</td>\n",
              "      <td>233243</td>\n",
              "      <td>0.0</td>\n",
              "      <td>0</td>\n",
              "      <td>1</td>\n",
              "    </tr>\n",
              "    <tr>\n",
              "      <th>3</th>\n",
              "      <td>15/04/24, 11:30:50</td>\n",
              "      <td>26861</td>\n",
              "      <td>2949</td>\n",
              "      <td>1.0</td>\n",
              "      <td>0</td>\n",
              "      <td>1</td>\n",
              "    </tr>\n",
              "    <tr>\n",
              "      <th>4</th>\n",
              "      <td>15/04/24, 11:30:37</td>\n",
              "      <td>26861</td>\n",
              "      <td>244208</td>\n",
              "      <td>3.0</td>\n",
              "      <td>0</td>\n",
              "      <td>1</td>\n",
              "    </tr>\n",
              "    <tr>\n",
              "      <th>...</th>\n",
              "      <td>...</td>\n",
              "      <td>...</td>\n",
              "      <td>...</td>\n",
              "      <td>...</td>\n",
              "      <td>...</td>\n",
              "      <td>...</td>\n",
              "    </tr>\n",
              "    <tr>\n",
              "      <th>6091</th>\n",
              "      <td>1/02/24, 20:00:42</td>\n",
              "      <td>29349</td>\n",
              "      <td>2949</td>\n",
              "      <td>0.0</td>\n",
              "      <td>0</td>\n",
              "      <td>3</td>\n",
              "    </tr>\n",
              "    <tr>\n",
              "      <th>6092</th>\n",
              "      <td>29/01/24, 19:00:53</td>\n",
              "      <td>29349</td>\n",
              "      <td>2949</td>\n",
              "      <td>0.0</td>\n",
              "      <td>0</td>\n",
              "      <td>3</td>\n",
              "    </tr>\n",
              "    <tr>\n",
              "      <th>6093</th>\n",
              "      <td>29/01/24, 19:00:52</td>\n",
              "      <td>29349</td>\n",
              "      <td>2949</td>\n",
              "      <td>0.0</td>\n",
              "      <td>0</td>\n",
              "      <td>3</td>\n",
              "    </tr>\n",
              "    <tr>\n",
              "      <th>6094</th>\n",
              "      <td>29/01/24, 19:00:52</td>\n",
              "      <td>29349</td>\n",
              "      <td>2949</td>\n",
              "      <td>0.0</td>\n",
              "      <td>0</td>\n",
              "      <td>3</td>\n",
              "    </tr>\n",
              "    <tr>\n",
              "      <th>6095</th>\n",
              "      <td>29/01/24, 19:00:52</td>\n",
              "      <td>29349</td>\n",
              "      <td>2949</td>\n",
              "      <td>0.0</td>\n",
              "      <td>0</td>\n",
              "      <td>3</td>\n",
              "    </tr>\n",
              "  </tbody>\n",
              "</table>\n",
              "<p>6096 rows × 6 columns</p>\n",
              "</div>\n",
              "    <div class=\"colab-df-buttons\">\n",
              "\n",
              "  <div class=\"colab-df-container\">\n",
              "    <button class=\"colab-df-convert\" onclick=\"convertToInteractive('df-3b63cb04-f955-4ada-8649-2acde983b207')\"\n",
              "            title=\"Convert this dataframe to an interactive table.\"\n",
              "            style=\"display:none;\">\n",
              "\n",
              "  <svg xmlns=\"http://www.w3.org/2000/svg\" height=\"24px\" viewBox=\"0 -960 960 960\">\n",
              "    <path d=\"M120-120v-720h720v720H120Zm60-500h600v-160H180v160Zm220 220h160v-160H400v160Zm0 220h160v-160H400v160ZM180-400h160v-160H180v160Zm440 0h160v-160H620v160ZM180-180h160v-160H180v160Zm440 0h160v-160H620v160Z\"/>\n",
              "  </svg>\n",
              "    </button>\n",
              "\n",
              "  <style>\n",
              "    .colab-df-container {\n",
              "      display:flex;\n",
              "      gap: 12px;\n",
              "    }\n",
              "\n",
              "    .colab-df-convert {\n",
              "      background-color: #E8F0FE;\n",
              "      border: none;\n",
              "      border-radius: 50%;\n",
              "      cursor: pointer;\n",
              "      display: none;\n",
              "      fill: #1967D2;\n",
              "      height: 32px;\n",
              "      padding: 0 0 0 0;\n",
              "      width: 32px;\n",
              "    }\n",
              "\n",
              "    .colab-df-convert:hover {\n",
              "      background-color: #E2EBFA;\n",
              "      box-shadow: 0px 1px 2px rgba(60, 64, 67, 0.3), 0px 1px 3px 1px rgba(60, 64, 67, 0.15);\n",
              "      fill: #174EA6;\n",
              "    }\n",
              "\n",
              "    .colab-df-buttons div {\n",
              "      margin-bottom: 4px;\n",
              "    }\n",
              "\n",
              "    [theme=dark] .colab-df-convert {\n",
              "      background-color: #3B4455;\n",
              "      fill: #D2E3FC;\n",
              "    }\n",
              "\n",
              "    [theme=dark] .colab-df-convert:hover {\n",
              "      background-color: #434B5C;\n",
              "      box-shadow: 0px 1px 3px 1px rgba(0, 0, 0, 0.15);\n",
              "      filter: drop-shadow(0px 1px 2px rgba(0, 0, 0, 0.3));\n",
              "      fill: #FFFFFF;\n",
              "    }\n",
              "  </style>\n",
              "\n",
              "    <script>\n",
              "      const buttonEl =\n",
              "        document.querySelector('#df-3b63cb04-f955-4ada-8649-2acde983b207 button.colab-df-convert');\n",
              "      buttonEl.style.display =\n",
              "        google.colab.kernel.accessAllowed ? 'block' : 'none';\n",
              "\n",
              "      async function convertToInteractive(key) {\n",
              "        const element = document.querySelector('#df-3b63cb04-f955-4ada-8649-2acde983b207');\n",
              "        const dataTable =\n",
              "          await google.colab.kernel.invokeFunction('convertToInteractive',\n",
              "                                                    [key], {});\n",
              "        if (!dataTable) return;\n",
              "\n",
              "        const docLinkHtml = 'Like what you see? Visit the ' +\n",
              "          '<a target=\"_blank\" href=https://colab.research.google.com/notebooks/data_table.ipynb>data table notebook</a>'\n",
              "          + ' to learn more about interactive tables.';\n",
              "        element.innerHTML = '';\n",
              "        dataTable['output_type'] = 'display_data';\n",
              "        await google.colab.output.renderOutput(dataTable, element);\n",
              "        const docLink = document.createElement('div');\n",
              "        docLink.innerHTML = docLinkHtml;\n",
              "        element.appendChild(docLink);\n",
              "      }\n",
              "    </script>\n",
              "  </div>\n",
              "\n",
              "\n",
              "<div id=\"df-e6eb8a56-a545-4f96-b0b5-e9e2bb5dea61\">\n",
              "  <button class=\"colab-df-quickchart\" onclick=\"quickchart('df-e6eb8a56-a545-4f96-b0b5-e9e2bb5dea61')\"\n",
              "            title=\"Suggest charts\"\n",
              "            style=\"display:none;\">\n",
              "\n",
              "<svg xmlns=\"http://www.w3.org/2000/svg\" height=\"24px\"viewBox=\"0 0 24 24\"\n",
              "     width=\"24px\">\n",
              "    <g>\n",
              "        <path d=\"M19 3H5c-1.1 0-2 .9-2 2v14c0 1.1.9 2 2 2h14c1.1 0 2-.9 2-2V5c0-1.1-.9-2-2-2zM9 17H7v-7h2v7zm4 0h-2V7h2v10zm4 0h-2v-4h2v4z\"/>\n",
              "    </g>\n",
              "</svg>\n",
              "  </button>\n",
              "\n",
              "<style>\n",
              "  .colab-df-quickchart {\n",
              "      --bg-color: #E8F0FE;\n",
              "      --fill-color: #1967D2;\n",
              "      --hover-bg-color: #E2EBFA;\n",
              "      --hover-fill-color: #174EA6;\n",
              "      --disabled-fill-color: #AAA;\n",
              "      --disabled-bg-color: #DDD;\n",
              "  }\n",
              "\n",
              "  [theme=dark] .colab-df-quickchart {\n",
              "      --bg-color: #3B4455;\n",
              "      --fill-color: #D2E3FC;\n",
              "      --hover-bg-color: #434B5C;\n",
              "      --hover-fill-color: #FFFFFF;\n",
              "      --disabled-bg-color: #3B4455;\n",
              "      --disabled-fill-color: #666;\n",
              "  }\n",
              "\n",
              "  .colab-df-quickchart {\n",
              "    background-color: var(--bg-color);\n",
              "    border: none;\n",
              "    border-radius: 50%;\n",
              "    cursor: pointer;\n",
              "    display: none;\n",
              "    fill: var(--fill-color);\n",
              "    height: 32px;\n",
              "    padding: 0;\n",
              "    width: 32px;\n",
              "  }\n",
              "\n",
              "  .colab-df-quickchart:hover {\n",
              "    background-color: var(--hover-bg-color);\n",
              "    box-shadow: 0 1px 2px rgba(60, 64, 67, 0.3), 0 1px 3px 1px rgba(60, 64, 67, 0.15);\n",
              "    fill: var(--button-hover-fill-color);\n",
              "  }\n",
              "\n",
              "  .colab-df-quickchart-complete:disabled,\n",
              "  .colab-df-quickchart-complete:disabled:hover {\n",
              "    background-color: var(--disabled-bg-color);\n",
              "    fill: var(--disabled-fill-color);\n",
              "    box-shadow: none;\n",
              "  }\n",
              "\n",
              "  .colab-df-spinner {\n",
              "    border: 2px solid var(--fill-color);\n",
              "    border-color: transparent;\n",
              "    border-bottom-color: var(--fill-color);\n",
              "    animation:\n",
              "      spin 1s steps(1) infinite;\n",
              "  }\n",
              "\n",
              "  @keyframes spin {\n",
              "    0% {\n",
              "      border-color: transparent;\n",
              "      border-bottom-color: var(--fill-color);\n",
              "      border-left-color: var(--fill-color);\n",
              "    }\n",
              "    20% {\n",
              "      border-color: transparent;\n",
              "      border-left-color: var(--fill-color);\n",
              "      border-top-color: var(--fill-color);\n",
              "    }\n",
              "    30% {\n",
              "      border-color: transparent;\n",
              "      border-left-color: var(--fill-color);\n",
              "      border-top-color: var(--fill-color);\n",
              "      border-right-color: var(--fill-color);\n",
              "    }\n",
              "    40% {\n",
              "      border-color: transparent;\n",
              "      border-right-color: var(--fill-color);\n",
              "      border-top-color: var(--fill-color);\n",
              "    }\n",
              "    60% {\n",
              "      border-color: transparent;\n",
              "      border-right-color: var(--fill-color);\n",
              "    }\n",
              "    80% {\n",
              "      border-color: transparent;\n",
              "      border-right-color: var(--fill-color);\n",
              "      border-bottom-color: var(--fill-color);\n",
              "    }\n",
              "    90% {\n",
              "      border-color: transparent;\n",
              "      border-bottom-color: var(--fill-color);\n",
              "    }\n",
              "  }\n",
              "</style>\n",
              "\n",
              "  <script>\n",
              "    async function quickchart(key) {\n",
              "      const quickchartButtonEl =\n",
              "        document.querySelector('#' + key + ' button');\n",
              "      quickchartButtonEl.disabled = true;  // To prevent multiple clicks.\n",
              "      quickchartButtonEl.classList.add('colab-df-spinner');\n",
              "      try {\n",
              "        const charts = await google.colab.kernel.invokeFunction(\n",
              "            'suggestCharts', [key], {});\n",
              "      } catch (error) {\n",
              "        console.error('Error during call to suggestCharts:', error);\n",
              "      }\n",
              "      quickchartButtonEl.classList.remove('colab-df-spinner');\n",
              "      quickchartButtonEl.classList.add('colab-df-quickchart-complete');\n",
              "    }\n",
              "    (() => {\n",
              "      let quickchartButtonEl =\n",
              "        document.querySelector('#df-e6eb8a56-a545-4f96-b0b5-e9e2bb5dea61 button');\n",
              "      quickchartButtonEl.style.display =\n",
              "        google.colab.kernel.accessAllowed ? 'block' : 'none';\n",
              "    })();\n",
              "  </script>\n",
              "</div>\n",
              "\n",
              "    </div>\n",
              "  </div>\n"
            ],
            "application/vnd.google.colaboratory.intrinsic+json": {
              "type": "dataframe",
              "summary": "{\n  \"name\": \"display(pd\",\n  \"rows\": 6096,\n  \"fields\": [\n    {\n      \"column\": \"timestamp\",\n      \"properties\": {\n        \"dtype\": \"string\",\n        \"num_unique_values\": 3966,\n        \"samples\": [\n          \"8/04/24, 18:12:10\",\n          \"12/03/24, 13:44:44\",\n          \"5/02/24, 18:11:11\"\n        ],\n        \"semantic_type\": \"\",\n        \"description\": \"\"\n      }\n    },\n    {\n      \"column\": \"user_id\",\n      \"properties\": {\n        \"dtype\": \"number\",\n        \"std\": 4141,\n        \"min\": 20004,\n        \"max\": 29723,\n        \"num_unique_values\": 18,\n        \"samples\": [\n          26861,\n          20004,\n          29723\n        ],\n        \"semantic_type\": \"\",\n        \"description\": \"\"\n      }\n    },\n    {\n      \"column\": \"tool_id\",\n      \"properties\": {\n        \"dtype\": \"number\",\n        \"std\": 98498,\n        \"min\": 2949,\n        \"max\": 257734,\n        \"num_unique_values\": 30,\n        \"samples\": [\n          233224,\n          233238,\n          233214\n        ],\n        \"semantic_type\": \"\",\n        \"description\": \"\"\n      }\n    },\n    {\n      \"column\": \"log_count\",\n      \"properties\": {\n        \"dtype\": \"number\",\n        \"std\": 1.734376992874905,\n        \"min\": 0.0,\n        \"max\": 27.0,\n        \"num_unique_values\": 18,\n        \"samples\": [\n          3.0,\n          0.0,\n          7.0\n        ],\n        \"semantic_type\": \"\",\n        \"description\": \"\"\n      }\n    },\n    {\n      \"column\": \"lesson\",\n      \"properties\": {\n        \"dtype\": \"number\",\n        \"std\": 0,\n        \"min\": 0,\n        \"max\": 1,\n        \"num_unique_values\": 2,\n        \"samples\": [\n          1,\n          0\n        ],\n        \"semantic_type\": \"\",\n        \"description\": \"\"\n      }\n    },\n    {\n      \"column\": \"day_part\",\n      \"properties\": {\n        \"dtype\": \"number\",\n        \"std\": 1,\n        \"min\": 0,\n        \"max\": 5,\n        \"num_unique_values\": 6,\n        \"samples\": [\n          1,\n          4\n        ],\n        \"semantic_type\": \"\",\n        \"description\": \"\"\n      }\n    }\n  ]\n}"
            }
          },
          "metadata": {}
        }
      ]
    },
    {
      "cell_type": "code",
      "source": [
        "X = data.drop('timestamp', axis=1).values\n",
        "y = data['timestamp'].values"
      ],
      "metadata": {
        "id": "-qqbUzPVnnMk"
      },
      "execution_count": 8,
      "outputs": []
    },
    {
      "cell_type": "code",
      "source": [
        "y = (y == 1).astype(float) # target values are 0 or 1"
      ],
      "metadata": {
        "id": "oLO9OkHqnwJr"
      },
      "execution_count": 9,
      "outputs": []
    },
    {
      "cell_type": "code",
      "source": [
        "#  Preprocess Data test size 0.2\n",
        "X_train, X_test, y_train, y_test = train_test_split(X, y, test_size=0.2, random_state=42)"
      ],
      "metadata": {
        "id": "knsvl82Pn2HQ"
      },
      "execution_count": 10,
      "outputs": []
    },
    {
      "cell_type": "code",
      "source": [
        "scaler = StandardScaler() # Standardize features\n",
        "X_train = scaler.fit_transform(X_train)\n",
        "X_test = scaler.transform(X_test)"
      ],
      "metadata": {
        "id": "uKxAdwu6n-sw"
      },
      "execution_count": 11,
      "outputs": []
    },
    {
      "cell_type": "code",
      "source": [
        "# PyTorch tensors\n",
        "X_train = torch.tensor(X_train, dtype=torch.float32)\n",
        "y_train = torch.tensor(y_train, dtype=torch.float32).unsqueeze(1)\n",
        "X_test = torch.tensor(X_test, dtype=torch.float32)\n",
        "y_test = torch.tensor(y_test, dtype=torch.float32).unsqueeze(1)"
      ],
      "metadata": {
        "id": "drlpUG6yoFUz"
      },
      "execution_count": 12,
      "outputs": []
    },
    {
      "cell_type": "code",
      "source": [
        "class SimpleNN(nn.Module): # define the Model\n",
        "    def __init__(self, input_dim):\n",
        "        super(SimpleNN, self).__init__()\n",
        "        self.layer1 = nn.Linear(input_dim, 64)\n",
        "        self.layer2 = nn.Linear(64, 32)\n",
        "        self.layer3 = nn.Linear(32, 16)\n",
        "        self.layer4 = nn.Linear(16, 1)\n",
        "\n",
        "    def forward(self, x):\n",
        "        x = torch.relu(self.layer1(x))\n",
        "        x = torch.relu(self.layer2(x))\n",
        "        x = torch.relu(self.layer3(x))\n",
        "        x = torch.sigmoid(self.layer4(x))\n",
        "        return x\n"
      ],
      "metadata": {
        "id": "emDuud_8oMFM"
      },
      "execution_count": 13,
      "outputs": []
    },
    {
      "cell_type": "code",
      "source": [
        "input_dim = X_train.shape[1]\n",
        "model = SimpleNN(input_dim)"
      ],
      "metadata": {
        "id": "WphfGFh9oT5f"
      },
      "execution_count": 14,
      "outputs": []
    },
    {
      "cell_type": "code",
      "source": [
        "num_epochs = 100 # Train the Model\n",
        "training_losses = []\n",
        "validation_losses = []"
      ],
      "metadata": {
        "id": "Cek1yreXoixL"
      },
      "execution_count": 15,
      "outputs": []
    },
    {
      "cell_type": "code",
      "source": [
        "import torch.nn as nn\n",
        "import torch.nn.functional as F"
      ],
      "metadata": {
        "id": "tg-B1HbSP8eD"
      },
      "execution_count": 16,
      "outputs": []
    },
    {
      "cell_type": "code",
      "source": [
        "class SimpleModel(nn.Module):\n",
        "\n",
        "    def __init__(self, input_size, hidden_size, output_size):\n",
        "        super(SimpleModel, self).__init__()\n",
        "        self.fc1 = nn.Linear(input_size, hidden_size)\n",
        "        self.fc2 = nn.Linear(hidden_size, output_size)\n",
        "\n",
        "    def forward(self, x):\n",
        "        x = F.relu(self.fc1(x))\n",
        "        x = torch.sigmoid(self.fc2(x))  # Ensure the output is in the range [0, 1]\n",
        "        return x"
      ],
      "metadata": {
        "id": "0fq1LStTaAUi"
      },
      "execution_count": 17,
      "outputs": []
    },
    {
      "cell_type": "code",
      "source": [
        "import torch\n",
        "import torch.optim as optim\n",
        "import torch.nn as nn"
      ],
      "metadata": {
        "id": "aAnmdajIQDHf"
      },
      "execution_count": 18,
      "outputs": []
    },
    {
      "cell_type": "code",
      "source": [
        "# define the model\n",
        "input_size = 10\n",
        "hidden_size = 5\n",
        "output_size = 1  #  for binary classification\n",
        "\n",
        "model = SimpleModel(input_size, hidden_size, output_size)"
      ],
      "metadata": {
        "id": "kp8jhTHYaCUV"
      },
      "execution_count": 19,
      "outputs": []
    },
    {
      "cell_type": "code",
      "source": [
        "criterion = nn.BCELoss()  # Binary Cross Entropy Loss\n",
        "optimizer = optim.Adam(model.parameters(), lr=0.001)"
      ],
      "metadata": {
        "id": "VYHtTiFBaHbg"
      },
      "execution_count": 20,
      "outputs": []
    },
    {
      "cell_type": "code",
      "source": [
        "# training data\n",
        "X_train = torch.randn(100, input_size)\n",
        "y_train = torch.randint(0, 2, (100, 1)).float()"
      ],
      "metadata": {
        "id": "IZdxxogtaMS2"
      },
      "execution_count": 21,
      "outputs": []
    },
    {
      "cell_type": "code",
      "source": [
        "X_test = torch.randn(100, input_size)  #  validation input\n",
        "y_test = torch.randint(0, 2, (100, 1)).float()  #  binary labels"
      ],
      "metadata": {
        "id": "7FL6_FSKaSTE"
      },
      "execution_count": 22,
      "outputs": []
    },
    {
      "cell_type": "code",
      "source": [
        "num_epochs = 100 # training loop\n",
        "training_losses = []\n",
        "validation_losses = []\n",
        "\n",
        "for epoch in range(num_epochs):\n",
        "    model.train()\n",
        "\n",
        "    outputs = model(X_train)   # Forward pass\n",
        "    loss = criterion(outputs, y_train)\n",
        "\n",
        "    optimizer.zero_grad()  # backward pass and optimization\n",
        "    loss.backward()\n",
        "    optimizer.step()\n",
        "\n",
        "    training_losses.append(loss.item())\n",
        "\n",
        "    model.eval()\n",
        "    with torch.no_grad():\n",
        "        val_outputs = model(X_test)\n",
        "        val_loss = criterion(val_outputs, y_test)\n",
        "        validation_losses.append(val_loss.item())\n",
        "\n",
        "    if (epoch + 1) % 10 == 0:\n",
        "        print(f'Epoch [{epoch + 1}/{num_epochs}], Loss: {loss.item():.4f}, Val Loss: {val_loss.item():.4f}')"
      ],
      "metadata": {
        "colab": {
          "base_uri": "https://localhost:8080/"
        },
        "id": "E7M7pfNZaaW_",
        "outputId": "4c203148-60c6-4f3a-e4b8-a440985cde7f"
      },
      "execution_count": 23,
      "outputs": [
        {
          "output_type": "stream",
          "name": "stdout",
          "text": [
            "Epoch [10/100], Loss: 0.7117, Val Loss: 0.6804\n",
            "Epoch [20/100], Loss: 0.7054, Val Loss: 0.6809\n",
            "Epoch [30/100], Loss: 0.6998, Val Loss: 0.6818\n",
            "Epoch [40/100], Loss: 0.6948, Val Loss: 0.6830\n",
            "Epoch [50/100], Loss: 0.6901, Val Loss: 0.6844\n",
            "Epoch [60/100], Loss: 0.6859, Val Loss: 0.6862\n",
            "Epoch [70/100], Loss: 0.6822, Val Loss: 0.6883\n",
            "Epoch [80/100], Loss: 0.6788, Val Loss: 0.6906\n",
            "Epoch [90/100], Loss: 0.6757, Val Loss: 0.6927\n",
            "Epoch [100/100], Loss: 0.6727, Val Loss: 0.6951\n"
          ]
        }
      ]
    },
    {
      "cell_type": "code",
      "source": [
        "plt.plot(training_losses, label='Training Loss') # plot the losses\n",
        "plt.plot(validation_losses, label='Validation Loss')\n",
        "plt.xlabel('Epoch')\n",
        "plt.ylabel('Loss')\n",
        "plt.title('Training and Validation Loss Over Epochs')\n",
        "plt.legend()\n",
        "plt.show()"
      ],
      "metadata": {
        "colab": {
          "base_uri": "https://localhost:8080/",
          "height": 472
        },
        "id": "7HgMh6wBoyae",
        "outputId": "fa25639a-c801-455c-a59d-514ee9d0ac0c"
      },
      "execution_count": 24,
      "outputs": [
        {
          "output_type": "display_data",
          "data": {
            "text/plain": [
              "<Figure size 640x480 with 1 Axes>"
            ],
            "image/png": "[encoded data removed]"
          },
          "metadata": {}
        }
      ]
    },
    {
      "cell_type": "markdown",
      "source": [
        "Training Loss: The loss value during the training process is decreasing over the epochs, starting from 0.7117 at epoch 10 and ending at 0.6727 at epoch 100.\n",
        "\n",
        "\n",
        "Validation Loss: Similarly, the validation loss is also decreasing, starting from 0.6804 at epoch 10 and ending at 0.6951 at epoch 100.\n",
        "\n",
        "Both training and validation losses steadily decrease over time, indicating that the model is learning and improving its predictions as the training progresses."
      ],
      "metadata": {
        "id": "gdToRCb6bK-E"
      }
    },
    {
      "cell_type": "code",
      "source": [
        "num_epochs = 200 # training loop\n",
        "training_losses = []\n",
        "validation_losses = []\n",
        "\n",
        "for epoch in range(num_epochs):\n",
        "    model.train()\n",
        "\n",
        "    outputs = model(X_train)   # Forward pass\n",
        "    loss = criterion(outputs, y_train)\n",
        "\n",
        "    optimizer.zero_grad()  # backward pass and optimization\n",
        "    loss.backward()\n",
        "    optimizer.step()\n",
        "\n",
        "    training_losses.append(loss.item())\n",
        "\n",
        "    model.eval()\n",
        "    with torch.no_grad():\n",
        "        val_outputs = model(X_test)\n",
        "        val_loss = criterion(val_outputs, y_test)\n",
        "        validation_losses.append(val_loss.item())\n",
        "\n",
        "    if (epoch + 1) % 10 == 0:\n",
        "        print(f'Epoch [{epoch + 1}/{num_epochs}], Loss: {loss.item():.4f}, Val Loss: {val_loss.item():.4f}')"
      ],
      "metadata": {
        "colab": {
          "base_uri": "https://localhost:8080/"
        },
        "id": "7r8soBnqklK7",
        "outputId": "9b5f2888-7815-4319-f908-3e5a94733554"
      },
      "execution_count": 25,
      "outputs": [
        {
          "output_type": "stream",
          "name": "stdout",
          "text": [
            "Epoch [10/200], Loss: 0.6699, Val Loss: 0.6975\n",
            "Epoch [20/200], Loss: 0.6670, Val Loss: 0.7000\n",
            "Epoch [30/200], Loss: 0.6642, Val Loss: 0.7026\n",
            "Epoch [40/200], Loss: 0.6611, Val Loss: 0.7053\n",
            "Epoch [50/200], Loss: 0.6578, Val Loss: 0.7081\n",
            "Epoch [60/200], Loss: 0.6542, Val Loss: 0.7110\n",
            "Epoch [70/200], Loss: 0.6505, Val Loss: 0.7138\n",
            "Epoch [80/200], Loss: 0.6469, Val Loss: 0.7166\n",
            "Epoch [90/200], Loss: 0.6435, Val Loss: 0.7193\n",
            "Epoch [100/200], Loss: 0.6401, Val Loss: 0.7220\n",
            "Epoch [110/200], Loss: 0.6366, Val Loss: 0.7247\n",
            "Epoch [120/200], Loss: 0.6330, Val Loss: 0.7274\n",
            "Epoch [130/200], Loss: 0.6294, Val Loss: 0.7302\n",
            "Epoch [140/200], Loss: 0.6258, Val Loss: 0.7332\n",
            "Epoch [150/200], Loss: 0.6219, Val Loss: 0.7360\n",
            "Epoch [160/200], Loss: 0.6179, Val Loss: 0.7384\n",
            "Epoch [170/200], Loss: 0.6139, Val Loss: 0.7407\n",
            "Epoch [180/200], Loss: 0.6100, Val Loss: 0.7430\n",
            "Epoch [190/200], Loss: 0.6064, Val Loss: 0.7457\n",
            "Epoch [200/200], Loss: 0.6026, Val Loss: 0.7487\n"
          ]
        }
      ]
    },
    {
      "cell_type": "code",
      "source": [
        "plt.plot(training_losses, label='Training Loss') # plot the losses\n",
        "plt.plot(validation_losses, label='Validation Loss')\n",
        "plt.xlabel('Epoch')\n",
        "plt.ylabel('Loss')\n",
        "plt.title('Training and Validation Loss Over Epochs')\n",
        "plt.legend()\n",
        "plt.show()"
      ],
      "metadata": {
        "colab": {
          "base_uri": "https://localhost:8080/",
          "height": 472
        },
        "id": "7CFeebBckuIm",
        "outputId": "2627f344-7d29-44ee-ada3-a349a2a5b753"
      },
      "execution_count": 26,
      "outputs": [
        {
          "output_type": "display_data",
          "data": {
            "text/plain": [
              "<Figure size 640x480 with 1 Axes>"
            ],
            "image/png": "[encoded data removed]"
          },
          "metadata": {}
        }
      ]
    },
    {
      "cell_type": "code",
      "source": [
        "num_epochs = 500 # training loop\n",
        "training_losses = []\n",
        "validation_losses = []\n",
        "\n",
        "for epoch in range(num_epochs):\n",
        "    model.train()\n",
        "\n",
        "    outputs = model(X_train)   # Forward pass\n",
        "    loss = criterion(outputs, y_train)\n",
        "\n",
        "    optimizer.zero_grad()  # backward pass and optimization\n",
        "    loss.backward()\n",
        "    optimizer.step()\n",
        "\n",
        "    training_losses.append(loss.item())\n",
        "\n",
        "    model.eval()\n",
        "    with torch.no_grad():\n",
        "        val_outputs = model(X_test)\n",
        "        val_loss = criterion(val_outputs, y_test)\n",
        "        validation_losses.append(val_loss.item())\n",
        "\n",
        "    if (epoch + 1) % 10 == 0:\n",
        "        print(f'Epoch [{epoch + 1}/{num_epochs}], Loss: {loss.item():.4f}, Val Loss: {val_loss.item():.4f}')"
      ],
      "metadata": {
        "colab": {
          "base_uri": "https://localhost:8080/"
        },
        "id": "_r7BsE-DcPs4",
        "outputId": "97b06b15-d47c-4a73-eb76-c438cc7bdccc"
      },
      "execution_count": 27,
      "outputs": [
        {
          "output_type": "stream",
          "name": "stdout",
          "text": [
            "Epoch [10/500], Loss: 0.5987, Val Loss: 0.7516\n",
            "Epoch [20/500], Loss: 0.5948, Val Loss: 0.7542\n",
            "Epoch [30/500], Loss: 0.5909, Val Loss: 0.7567\n",
            "Epoch [40/500], Loss: 0.5872, Val Loss: 0.7589\n",
            "Epoch [50/500], Loss: 0.5835, Val Loss: 0.7612\n",
            "Epoch [60/500], Loss: 0.5800, Val Loss: 0.7634\n",
            "Epoch [70/500], Loss: 0.5765, Val Loss: 0.7657\n",
            "Epoch [80/500], Loss: 0.5730, Val Loss: 0.7681\n",
            "Epoch [90/500], Loss: 0.5696, Val Loss: 0.7706\n",
            "Epoch [100/500], Loss: 0.5663, Val Loss: 0.7734\n",
            "Epoch [110/500], Loss: 0.5631, Val Loss: 0.7768\n",
            "Epoch [120/500], Loss: 0.5600, Val Loss: 0.7804\n",
            "Epoch [130/500], Loss: 0.5568, Val Loss: 0.7841\n",
            "Epoch [140/500], Loss: 0.5537, Val Loss: 0.7881\n",
            "Epoch [150/500], Loss: 0.5502, Val Loss: 0.7918\n",
            "Epoch [160/500], Loss: 0.5462, Val Loss: 0.7952\n",
            "Epoch [170/500], Loss: 0.5421, Val Loss: 0.7984\n",
            "Epoch [180/500], Loss: 0.5378, Val Loss: 0.8015\n",
            "Epoch [190/500], Loss: 0.5335, Val Loss: 0.8043\n",
            "Epoch [200/500], Loss: 0.5291, Val Loss: 0.8073\n",
            "Epoch [210/500], Loss: 0.5248, Val Loss: 0.8112\n",
            "Epoch [220/500], Loss: 0.5209, Val Loss: 0.8161\n",
            "Epoch [230/500], Loss: 0.5164, Val Loss: 0.8220\n",
            "Epoch [240/500], Loss: 0.5113, Val Loss: 0.8271\n",
            "Epoch [250/500], Loss: 0.5073, Val Loss: 0.8325\n",
            "Epoch [260/500], Loss: 0.5036, Val Loss: 0.8384\n",
            "Epoch [270/500], Loss: 0.5002, Val Loss: 0.8453\n",
            "Epoch [280/500], Loss: 0.4966, Val Loss: 0.8523\n",
            "Epoch [290/500], Loss: 0.4930, Val Loss: 0.8585\n",
            "Epoch [300/500], Loss: 0.4894, Val Loss: 0.8647\n",
            "Epoch [310/500], Loss: 0.4861, Val Loss: 0.8707\n",
            "Epoch [320/500], Loss: 0.4828, Val Loss: 0.8763\n",
            "Epoch [330/500], Loss: 0.4798, Val Loss: 0.8819\n",
            "Epoch [340/500], Loss: 0.4769, Val Loss: 0.8879\n",
            "Epoch [350/500], Loss: 0.4740, Val Loss: 0.8941\n",
            "Epoch [360/500], Loss: 0.4712, Val Loss: 0.9003\n",
            "Epoch [370/500], Loss: 0.4685, Val Loss: 0.9063\n",
            "Epoch [380/500], Loss: 0.4657, Val Loss: 0.9120\n",
            "Epoch [390/500], Loss: 0.4631, Val Loss: 0.9177\n",
            "Epoch [400/500], Loss: 0.4605, Val Loss: 0.9233\n",
            "Epoch [410/500], Loss: 0.4578, Val Loss: 0.9289\n",
            "Epoch [420/500], Loss: 0.4548, Val Loss: 0.9350\n",
            "Epoch [430/500], Loss: 0.4518, Val Loss: 0.9417\n",
            "Epoch [440/500], Loss: 0.4489, Val Loss: 0.9496\n",
            "Epoch [450/500], Loss: 0.4461, Val Loss: 0.9568\n",
            "Epoch [460/500], Loss: 0.4433, Val Loss: 0.9638\n",
            "Epoch [470/500], Loss: 0.4406, Val Loss: 0.9704\n",
            "Epoch [480/500], Loss: 0.4380, Val Loss: 0.9767\n",
            "Epoch [490/500], Loss: 0.4355, Val Loss: 0.9828\n",
            "Epoch [500/500], Loss: 0.4330, Val Loss: 0.9890\n"
          ]
        }
      ]
    },
    {
      "cell_type": "code",
      "source": [
        "plt.plot(training_losses, label='Training Loss') # plot the losses\n",
        "plt.plot(validation_losses, label='Validation Loss')\n",
        "plt.xlabel('Epoch')\n",
        "plt.ylabel('Loss')\n",
        "plt.title('Training and Validation Loss Over Epochs')\n",
        "plt.legend()\n",
        "plt.show()"
      ],
      "metadata": {
        "colab": {
          "base_uri": "https://localhost:8080/",
          "height": 472
        },
        "id": "XNiE9D1ZciAR",
        "outputId": "f6d61a27-6702-4de4-c668-54203ed1df32"
      },
      "execution_count": 28,
      "outputs": [
        {
          "output_type": "display_data",
          "data": {
            "text/plain": [
              "<Figure size 640x480 with 1 Axes>"
            ],
            "image/png": "[encoded data removed]"
          },
          "metadata": {}
        }
      ]
    },
    {
      "cell_type": "code",
      "source": [
        "num_epochs = 1000 # training loop\n",
        "training_losses = []\n",
        "validation_losses = []\n",
        "\n",
        "for epoch in range(num_epochs):\n",
        "    model.train()\n",
        "\n",
        "    outputs = model(X_train)   # Forward pass\n",
        "    loss = criterion(outputs, y_train)\n",
        "\n",
        "    optimizer.zero_grad()  # backward pass and optimization\n",
        "    loss.backward()\n",
        "    optimizer.step()\n",
        "\n",
        "    training_losses.append(loss.item())\n",
        "\n",
        "    model.eval()\n",
        "    with torch.no_grad():\n",
        "        val_outputs = model(X_test)\n",
        "        val_loss = criterion(val_outputs, y_test)\n",
        "        validation_losses.append(val_loss.item())\n",
        "\n",
        "    if (epoch + 1) % 10 == 0:\n",
        "        print(f'Epoch [{epoch + 1}/{num_epochs}], Loss: {loss.item():.4f}, Val Loss: {val_loss.item():.4f}')"
      ],
      "metadata": {
        "colab": {
          "base_uri": "https://localhost:8080/"
        },
        "id": "Wdz_Ti3ycWPS",
        "outputId": "1ae5861d-16b5-4369-f05a-a469736bba29"
      },
      "execution_count": 29,
      "outputs": [
        {
          "output_type": "stream",
          "name": "stdout",
          "text": [
            "Epoch [10/1000], Loss: 0.4306, Val Loss: 0.9954\n",
            "Epoch [20/1000], Loss: 0.4283, Val Loss: 1.0014\n",
            "Epoch [30/1000], Loss: 0.4260, Val Loss: 1.0079\n",
            "Epoch [40/1000], Loss: 0.4239, Val Loss: 1.0152\n",
            "Epoch [50/1000], Loss: 0.4217, Val Loss: 1.0226\n",
            "Epoch [60/1000], Loss: 0.4197, Val Loss: 1.0294\n",
            "Epoch [70/1000], Loss: 0.4176, Val Loss: 1.0369\n",
            "Epoch [80/1000], Loss: 0.4157, Val Loss: 1.0433\n",
            "Epoch [90/1000], Loss: 0.4138, Val Loss: 1.0506\n",
            "Epoch [100/1000], Loss: 0.4119, Val Loss: 1.0582\n",
            "Epoch [110/1000], Loss: 0.4101, Val Loss: 1.0651\n",
            "Epoch [120/1000], Loss: 0.4084, Val Loss: 1.0724\n",
            "Epoch [130/1000], Loss: 0.4066, Val Loss: 1.0791\n",
            "Epoch [140/1000], Loss: 0.4050, Val Loss: 1.0858\n",
            "Epoch [150/1000], Loss: 0.4033, Val Loss: 1.0927\n",
            "Epoch [160/1000], Loss: 0.4017, Val Loss: 1.0991\n",
            "Epoch [170/1000], Loss: 0.4001, Val Loss: 1.1055\n",
            "Epoch [180/1000], Loss: 0.3985, Val Loss: 1.1122\n",
            "Epoch [190/1000], Loss: 0.3970, Val Loss: 1.1185\n",
            "Epoch [200/1000], Loss: 0.3955, Val Loss: 1.1243\n",
            "Epoch [210/1000], Loss: 0.3939, Val Loss: 1.1305\n",
            "Epoch [220/1000], Loss: 0.3925, Val Loss: 1.1367\n",
            "Epoch [230/1000], Loss: 0.3910, Val Loss: 1.1425\n",
            "Epoch [240/1000], Loss: 0.3896, Val Loss: 1.1486\n",
            "Epoch [250/1000], Loss: 0.3882, Val Loss: 1.1543\n",
            "Epoch [260/1000], Loss: 0.3868, Val Loss: 1.1602\n",
            "Epoch [270/1000], Loss: 0.3854, Val Loss: 1.1661\n",
            "Epoch [280/1000], Loss: 0.3841, Val Loss: 1.1719\n",
            "Epoch [290/1000], Loss: 0.3827, Val Loss: 1.1772\n",
            "Epoch [300/1000], Loss: 0.3814, Val Loss: 1.1831\n",
            "Epoch [310/1000], Loss: 0.3801, Val Loss: 1.1886\n",
            "Epoch [320/1000], Loss: 0.3789, Val Loss: 1.1935\n",
            "Epoch [330/1000], Loss: 0.3776, Val Loss: 1.1993\n",
            "Epoch [340/1000], Loss: 0.3763, Val Loss: 1.2049\n",
            "Epoch [350/1000], Loss: 0.3751, Val Loss: 1.2101\n",
            "Epoch [360/1000], Loss: 0.3739, Val Loss: 1.2149\n",
            "Epoch [370/1000], Loss: 0.3726, Val Loss: 1.2202\n",
            "Epoch [380/1000], Loss: 0.3714, Val Loss: 1.2257\n",
            "Epoch [390/1000], Loss: 0.3702, Val Loss: 1.2307\n",
            "Epoch [400/1000], Loss: 0.3690, Val Loss: 1.2359\n",
            "Epoch [410/1000], Loss: 0.3679, Val Loss: 1.2414\n",
            "Epoch [420/1000], Loss: 0.3667, Val Loss: 1.2466\n",
            "Epoch [430/1000], Loss: 0.3655, Val Loss: 1.2516\n",
            "Epoch [440/1000], Loss: 0.3644, Val Loss: 1.2571\n",
            "Epoch [450/1000], Loss: 0.3632, Val Loss: 1.2619\n",
            "Epoch [460/1000], Loss: 0.3621, Val Loss: 1.2674\n",
            "Epoch [470/1000], Loss: 0.3610, Val Loss: 1.2725\n",
            "Epoch [480/1000], Loss: 0.3598, Val Loss: 1.2774\n",
            "Epoch [490/1000], Loss: 0.3587, Val Loss: 1.2826\n",
            "Epoch [500/1000], Loss: 0.3576, Val Loss: 1.2876\n",
            "Epoch [510/1000], Loss: 0.3565, Val Loss: 1.2926\n",
            "Epoch [520/1000], Loss: 0.3554, Val Loss: 1.2979\n",
            "Epoch [530/1000], Loss: 0.3544, Val Loss: 1.3026\n",
            "Epoch [540/1000], Loss: 0.3533, Val Loss: 1.3079\n",
            "Epoch [550/1000], Loss: 0.3522, Val Loss: 1.3131\n",
            "Epoch [560/1000], Loss: 0.3511, Val Loss: 1.3186\n",
            "Epoch [570/1000], Loss: 0.3499, Val Loss: 1.3236\n",
            "Epoch [580/1000], Loss: 0.3486, Val Loss: 1.3289\n",
            "Epoch [590/1000], Loss: 0.3474, Val Loss: 1.3342\n",
            "Epoch [600/1000], Loss: 0.3462, Val Loss: 1.3398\n",
            "Epoch [610/1000], Loss: 0.3449, Val Loss: 1.3454\n",
            "Epoch [620/1000], Loss: 0.3438, Val Loss: 1.3511\n",
            "Epoch [630/1000], Loss: 0.3426, Val Loss: 1.3575\n",
            "Epoch [640/1000], Loss: 0.3414, Val Loss: 1.3637\n",
            "Epoch [650/1000], Loss: 0.3401, Val Loss: 1.3702\n",
            "Epoch [660/1000], Loss: 0.3388, Val Loss: 1.3769\n",
            "Epoch [670/1000], Loss: 0.3375, Val Loss: 1.3838\n",
            "Epoch [680/1000], Loss: 0.3362, Val Loss: 1.3905\n",
            "Epoch [690/1000], Loss: 0.3349, Val Loss: 1.3974\n",
            "Epoch [700/1000], Loss: 0.3336, Val Loss: 1.4041\n",
            "Epoch [710/1000], Loss: 0.3323, Val Loss: 1.4109\n",
            "Epoch [720/1000], Loss: 0.3311, Val Loss: 1.4174\n",
            "Epoch [730/1000], Loss: 0.3298, Val Loss: 1.4245\n",
            "Epoch [740/1000], Loss: 0.3286, Val Loss: 1.4313\n",
            "Epoch [750/1000], Loss: 0.3275, Val Loss: 1.4387\n",
            "Epoch [760/1000], Loss: 0.3264, Val Loss: 1.4454\n",
            "Epoch [770/1000], Loss: 0.3253, Val Loss: 1.4521\n",
            "Epoch [780/1000], Loss: 0.3243, Val Loss: 1.4588\n",
            "Epoch [790/1000], Loss: 0.3232, Val Loss: 1.4653\n",
            "Epoch [800/1000], Loss: 0.3222, Val Loss: 1.4709\n",
            "Epoch [810/1000], Loss: 0.3212, Val Loss: 1.4774\n",
            "Epoch [820/1000], Loss: 0.3201, Val Loss: 1.4835\n",
            "Epoch [830/1000], Loss: 0.3182, Val Loss: 1.4867\n",
            "Epoch [840/1000], Loss: 0.3159, Val Loss: 1.4882\n",
            "Epoch [850/1000], Loss: 0.3138, Val Loss: 1.4922\n",
            "Epoch [860/1000], Loss: 0.3119, Val Loss: 1.4971\n",
            "Epoch [870/1000], Loss: 0.3102, Val Loss: 1.5034\n",
            "Epoch [880/1000], Loss: 0.3086, Val Loss: 1.5107\n",
            "Epoch [890/1000], Loss: 0.3069, Val Loss: 1.5157\n",
            "Epoch [900/1000], Loss: 0.3047, Val Loss: 1.5179\n",
            "Epoch [910/1000], Loss: 0.3025, Val Loss: 1.5233\n",
            "Epoch [920/1000], Loss: 0.3005, Val Loss: 1.5291\n",
            "Epoch [930/1000], Loss: 0.2982, Val Loss: 1.5360\n",
            "Epoch [940/1000], Loss: 0.2959, Val Loss: 1.5422\n",
            "Epoch [950/1000], Loss: 0.2936, Val Loss: 1.5497\n",
            "Epoch [960/1000], Loss: 0.2914, Val Loss: 1.5570\n",
            "Epoch [970/1000], Loss: 0.2894, Val Loss: 1.5647\n",
            "Epoch [980/1000], Loss: 0.2875, Val Loss: 1.5717\n",
            "Epoch [990/1000], Loss: 0.2856, Val Loss: 1.5780\n",
            "Epoch [1000/1000], Loss: 0.2838, Val Loss: 1.5835\n"
          ]
        }
      ]
    },
    {
      "cell_type": "code",
      "source": [
        "plt.plot(training_losses, label='Training Loss') # plot the losses\n",
        "plt.plot(validation_losses, label='Validation Loss')\n",
        "plt.xlabel('Epoch')\n",
        "plt.ylabel('Loss')\n",
        "plt.title('Training and Validation Loss Over Epochs')\n",
        "plt.legend()\n",
        "plt.show()"
      ],
      "metadata": {
        "colab": {
          "base_uri": "https://localhost:8080/",
          "height": 472
        },
        "id": "2FB4KFC6ccHV",
        "outputId": "9fa4c54b-5cf3-4006-c555-69d93b097135"
      },
      "execution_count": 30,
      "outputs": [
        {
          "output_type": "display_data",
          "data": {
            "text/plain": [
              "<Figure size 640x480 with 1 Axes>"
            ],
            "image/png": "[encoded data removed]"
          },
          "metadata": {}
        }
      ]
    },
    {
      "cell_type": "markdown",
      "source": [
        "The training loss decreased from 0.3655 to 0.2838 over the course of 1000 epochs.\n",
        "This suggests that the model is learning and improving its performance on the training data.\n",
        "\n",
        "The validation loss increased from 0.9954 to 1.5835.\n",
        "This indicates that while the model is performing better on the training data, its performance on the validation data has deteriorated.\n",
        "\n",
        "The increasing divergence between training and validation losses as epochs progress indicates overfitting. The model learns to perform well on the training data, but fails to generalize to the unseen data.\n",
        "\n",
        "Early stopping involves monitoring validation losses during training and stopping the training process when they stop decreasing. This prevents the model from continuing to learn the noise in the training data."
      ],
      "metadata": {
        "id": "D42Ov6wLjdfX"
      }
    },
    {
      "cell_type": "markdown",
      "source": [
        "Model is overfitted."
      ],
      "metadata": {
        "id": "Bh5nelTZ2fyu"
      }
    },
    {
      "cell_type": "code",
      "source": [
        "model.eval() # evaluate the Model\n",
        "with torch.no_grad():\n",
        "    y_predicted = model(X_test).round()"
      ],
      "metadata": {
        "id": "WZS0Q4EYo3P_"
      },
      "execution_count": 31,
      "outputs": []
    },
    {
      "cell_type": "code",
      "source": [
        "unique_values = y_predicted.unique()\n",
        "print(f'Unique values in predictions: {unique_values}')"
      ],
      "metadata": {
        "colab": {
          "base_uri": "https://localhost:8080/"
        },
        "id": "U99GZ2ECr8j9",
        "outputId": "eebbab1c-9098-42d2-e33b-70fd5735e242"
      },
      "execution_count": 32,
      "outputs": [
        {
          "output_type": "stream",
          "name": "stdout",
          "text": [
            "Unique values in predictions: tensor([0., 1.])\n"
          ]
        }
      ]
    },
    {
      "cell_type": "markdown",
      "source": [
        "The unique values tensor([0., 1.]) in the model's predictions indicate that the model is making binary predictions and can predict both classes.\n",
        "\n"
      ],
      "metadata": {
        "id": "qMvh_4Aof3PZ"
      }
    },
    {
      "cell_type": "code",
      "source": [
        "# is y_test correctly shaped for sklearn's classification_report?\n",
        "y_test_flat = y_test.flatten()"
      ],
      "metadata": {
        "id": "CgHR0ZIcupnD"
      },
      "execution_count": 33,
      "outputs": []
    },
    {
      "cell_type": "code",
      "source": [
        "if len(unique_values) == 1:  # if only one class is predicted, avoid using classification_report\n",
        "    print(f'Only one class ({unique_values.item()}) predicted. Cannot generate classification report.')\n",
        "else:\n",
        "    print(classification_report(y_test_flat, y_predicted, target_names=['class 0', 'class 1']))"
      ],
      "metadata": {
        "colab": {
          "base_uri": "https://localhost:8080/"
        },
        "id": "EyhuRdWvuwLZ",
        "outputId": "93606422-3605-4100-e083-351393936233"
      },
      "execution_count": 34,
      "outputs": [
        {
          "output_type": "stream",
          "name": "stdout",
          "text": [
            "              precision    recall  f1-score   support\n",
            "\n",
            "     class 0       0.37      0.43      0.40        47\n",
            "     class 1       0.41      0.36      0.38        53\n",
            "\n",
            "    accuracy                           0.39       100\n",
            "   macro avg       0.39      0.39      0.39       100\n",
            "weighted avg       0.39      0.39      0.39       100\n",
            "\n"
          ]
        }
      ]
    },
    {
      "cell_type": "code",
      "source": [
        "print(pd.Series(y_train.numpy().flatten()).value_counts())  # check Data Distribution"
      ],
      "metadata": {
        "colab": {
          "base_uri": "https://localhost:8080/"
        },
        "id": "FEj7JCLsvdKH",
        "outputId": "36a262cf-768f-4e70-d188-9374562a2033"
      },
      "execution_count": 35,
      "outputs": [
        {
          "output_type": "stream",
          "name": "stdout",
          "text": [
            "0.0    54\n",
            "1.0    46\n",
            "Name: count, dtype: int64\n"
          ]
        }
      ]
    },
    {
      "cell_type": "code",
      "source": [
        "with torch.no_grad(): # inspect Model Predictions\n",
        "    raw_outputs = model(X_test)\n",
        "    print(raw_outputs[:10])"
      ],
      "metadata": {
        "colab": {
          "base_uri": "https://localhost:8080/"
        },
        "id": "2qhKsFMbve3m",
        "outputId": "fb8d415e-8239-4b7f-9bd3-ee7d7db2d03e"
      },
      "execution_count": 36,
      "outputs": [
        {
          "output_type": "stream",
          "name": "stdout",
          "text": [
            "tensor([[0.0070],\n",
            "        [0.9428],\n",
            "        [0.0062],\n",
            "        [0.9975],\n",
            "        [0.9285],\n",
            "        [0.3404],\n",
            "        [0.3608],\n",
            "        [0.8260],\n",
            "        [0.1328],\n",
            "        [0.7861]])\n"
          ]
        }
      ]
    },
    {
      "cell_type": "markdown",
      "source": [
        "The given tensor represents predicted probabilities for the positive class, with values close to 0.9975 indicating certainty in the predictions."
      ],
      "metadata": {
        "id": "KsXOjUw4fqG2"
      }
    },
    {
      "cell_type": "code",
      "source": [
        "threshold = 0.3  # adjust this value as needed\n",
        "with torch.no_grad():\n",
        "    y_predicted = (model(X_test) > threshold).float()\n",
        "    unique_values = y_predicted.unique()\n",
        "    print(f'Unique values in predictions with threshold {threshold}: {unique_values}')\n",
        "\n",
        "if len(unique_values) == 1:\n",
        "    print(f'Only one class ({unique_values.item()}) predicted with threshold {threshold}.')\n",
        "else:\n",
        "    print(classification_report(y_test.flatten(), y_predicted, target_names=['class 0', 'class 1']))"
      ],
      "metadata": {
        "colab": {
          "base_uri": "https://localhost:8080/"
        },
        "id": "rWf8qktlvw43",
        "outputId": "ef21eb43-1abb-491e-ba7a-c6b8be71d204"
      },
      "execution_count": 37,
      "outputs": [
        {
          "output_type": "stream",
          "name": "stdout",
          "text": [
            "Unique values in predictions with threshold 0.3: tensor([0., 1.])\n",
            "              precision    recall  f1-score   support\n",
            "\n",
            "     class 0       0.37      0.32      0.34        47\n",
            "     class 1       0.46      0.51      0.48        53\n",
            "\n",
            "    accuracy                           0.42       100\n",
            "   macro avg       0.41      0.41      0.41       100\n",
            "weighted avg       0.41      0.42      0.42       100\n",
            "\n"
          ]
        }
      ]
    },
    {
      "cell_type": "code",
      "source": [
        "threshold = 0.5  # adjust this value as needed\n",
        "with torch.no_grad():\n",
        "    y_predicted = (model(X_test) > threshold).float()\n",
        "    unique_values = y_predicted.unique()\n",
        "    print(f'Unique values in predictions with threshold {threshold}: {unique_values}')\n",
        "\n",
        "if len(unique_values) == 1:\n",
        "    print(f'Only one class ({unique_values.item()}) predicted with threshold {threshold}.')\n",
        "else:\n",
        "    print(classification_report(y_test.flatten(), y_predicted, target_names=['class 0', 'class 1']))"
      ],
      "metadata": {
        "id": "t91Ap9s-uK2M",
        "colab": {
          "base_uri": "https://localhost:8080/"
        },
        "outputId": "222bb44b-7e15-462b-aa0b-ec0406400bdf"
      },
      "execution_count": 38,
      "outputs": [
        {
          "output_type": "stream",
          "name": "stdout",
          "text": [
            "Unique values in predictions with threshold 0.5: tensor([0., 1.])\n",
            "              precision    recall  f1-score   support\n",
            "\n",
            "     class 0       0.37      0.43      0.40        47\n",
            "     class 1       0.41      0.36      0.38        53\n",
            "\n",
            "    accuracy                           0.39       100\n",
            "   macro avg       0.39      0.39      0.39       100\n",
            "weighted avg       0.39      0.39      0.39       100\n",
            "\n"
          ]
        }
      ]
    },
    {
      "cell_type": "markdown",
      "source": [
        "The results show that the initial model output values (probabilities) are shallow for the first 10 test samples. These low values are well below the default threshold of 0.5 (and even the adjusted threshold of 0.3), which results in all forecasts being classified as class 0."
      ],
      "metadata": {
        "id": "StdOoHvKuxXj"
      }
    }
  ]
}