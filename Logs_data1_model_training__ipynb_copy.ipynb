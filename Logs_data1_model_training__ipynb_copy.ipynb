{
  "nbformat": 4,
  "nbformat_minor": 0,
  "metadata": {
    "colab": {
      "provenance": [],
      "authorship_tag": "ABX9TyM4T2O9XSd2g+DBGiu3LQxf",
      "include_colab_link": true
    },
    "kernelspec": {
      "name": "python3",
      "display_name": "Python 3"
    },
    "language_info": {
      "name": "python"
    }
  },
  "cells": [
    {
      "cell_type": "markdown",
      "metadata": {
        "id": "view-in-github",
        "colab_type": "text"
      },
      "source": [
        "<a href=\"https://colab.research.google.com/github/eeolga/deep/blob/main/Logs_data1_model_training__ipynb_copy.ipynb\" target=\"_parent\"><img src=\"https://colab.research.google.com/assets/colab-badge.svg\" alt=\"Open In Colab\"/></a>"
      ]
    },
    {
      "cell_type": "code",
      "execution_count": 1,
      "metadata": {
        "id": "4E4QCCGLduCq"
      },
      "outputs": [],
      "source": [
        "import pandas as pd"
      ]
    },
    {
      "cell_type": "code",
      "source": [
        "import torch\n",
        "import torch.nn as nn"
      ],
      "metadata": {
        "id": "nRGmnHqqOxaa"
      },
      "execution_count": 2,
      "outputs": []
    },
    {
      "cell_type": "code",
      "source": [
        "import torch.optim as optim"
      ],
      "metadata": {
        "id": "AQBAhxIUO7A3"
      },
      "execution_count": 3,
      "outputs": []
    },
    {
      "cell_type": "code",
      "source": [
        "from sklearn.model_selection import train_test_split\n",
        "from sklearn.preprocessing import StandardScaler\n",
        "from sklearn.metrics import classification_report"
      ],
      "metadata": {
        "id": "LYReQVWCO-Ux"
      },
      "execution_count": 4,
      "outputs": []
    },
    {
      "cell_type": "code",
      "source": [
        "import matplotlib.pyplot as plt"
      ],
      "metadata": {
        "id": "g0wcU_0wPCxw"
      },
      "execution_count": 5,
      "outputs": []
    },
    {
      "cell_type": "code",
      "source": [
        "file_path = '/content/logs_CAD_2024_1.xlsx' # Data from Excel\n",
        "data = pd.read_excel(file_path)"
      ],
      "metadata": {
        "id": "xvfWwDMVnfTK"
      },
      "execution_count": 6,
      "outputs": []
    },
    {
      "cell_type": "code",
      "source": [
        "display(pd.DataFrame(data))"
      ],
      "metadata": {
        "colab": {
          "base_uri": "https://localhost:8080/",
          "height": 423
        },
        "id": "9s8qiBzZR0oj",
        "outputId": "fb4427f1-0208-4dd1-abd9-9acc925f4c22"
      },
      "execution_count": 7,
      "outputs": [
        {
          "output_type": "display_data",
          "data": {
            "text/plain": [
              "               timestamp  user_id  tool_id  log_count  lesson  day_part\n",
              "0     15/04/24, 11:37:03    26861   233243        3.0       0         1\n",
              "1     15/04/24, 11:37:03    26861   233243        0.0       0         1\n",
              "2     15/04/24, 11:37:03    26861   233243        0.0       0         1\n",
              "3     15/04/24, 11:30:50    26861     2949        1.0       0         1\n",
              "4     15/04/24, 11:30:37    26861   244208        3.0       0         1\n",
              "...                  ...      ...      ...        ...     ...       ...\n",
              "6091   1/02/24, 20:00:42    29349     2949        0.0       0         3\n",
              "6092  29/01/24, 19:00:53    29349     2949        0.0       0         3\n",
              "6093  29/01/24, 19:00:52    29349     2949        0.0       0         3\n",
              "6094  29/01/24, 19:00:52    29349     2949        0.0       0         3\n",
              "6095  29/01/24, 19:00:52    29349     2949        0.0       0         3\n",
              "\n",
              "[6096 rows x 6 columns]"
            ],
            "text/html": [
              "\n",
              "  <div id=\"df-626679a0-6adf-4979-b385-31c88add3a72\" class=\"colab-df-container\">\n",
              "    <div>\n",
              "<style scoped>\n",
              "    .dataframe tbody tr th:only-of-type {\n",
              "        vertical-align: middle;\n",
              "    }\n",
              "\n",
              "    .dataframe tbody tr th {\n",
              "        vertical-align: top;\n",
              "    }\n",
              "\n",
              "    .dataframe thead th {\n",
              "        text-align: right;\n",
              "    }\n",
              "</style>\n",
              "<table border=\"1\" class=\"dataframe\">\n",
              "  <thead>\n",
              "    <tr style=\"text-align: right;\">\n",
              "      <th></th>\n",
              "      <th>timestamp</th>\n",
              "      <th>user_id</th>\n",
              "      <th>tool_id</th>\n",
              "      <th>log_count</th>\n",
              "      <th>lesson</th>\n",
              "      <th>day_part</th>\n",
              "    </tr>\n",
              "  </thead>\n",
              "  <tbody>\n",
              "    <tr>\n",
              "      <th>0</th>\n",
              "      <td>15/04/24, 11:37:03</td>\n",
              "      <td>26861</td>\n",
              "      <td>233243</td>\n",
              "      <td>3.0</td>\n",
              "      <td>0</td>\n",
              "      <td>1</td>\n",
              "    </tr>\n",
              "    <tr>\n",
              "      <th>1</th>\n",
              "      <td>15/04/24, 11:37:03</td>\n",
              "      <td>26861</td>\n",
              "      <td>233243</td>\n",
              "      <td>0.0</td>\n",
              "      <td>0</td>\n",
              "      <td>1</td>\n",
              "    </tr>\n",
              "    <tr>\n",
              "      <th>2</th>\n",
              "      <td>15/04/24, 11:37:03</td>\n",
              "      <td>26861</td>\n",
              "      <td>233243</td>\n",
              "      <td>0.0</td>\n",
              "      <td>0</td>\n",
              "      <td>1</td>\n",
              "    </tr>\n",
              "    <tr>\n",
              "      <th>3</th>\n",
              "      <td>15/04/24, 11:30:50</td>\n",
              "      <td>26861</td>\n",
              "      <td>2949</td>\n",
              "      <td>1.0</td>\n",
              "      <td>0</td>\n",
              "      <td>1</td>\n",
              "    </tr>\n",
              "    <tr>\n",
              "      <th>4</th>\n",
              "      <td>15/04/24, 11:30:37</td>\n",
              "      <td>26861</td>\n",
              "      <td>244208</td>\n",
              "      <td>3.0</td>\n",
              "      <td>0</td>\n",
              "      <td>1</td>\n",
              "    </tr>\n",
              "    <tr>\n",
              "      <th>...</th>\n",
              "      <td>...</td>\n",
              "      <td>...</td>\n",
              "      <td>...</td>\n",
              "      <td>...</td>\n",
              "      <td>...</td>\n",
              "      <td>...</td>\n",
              "    </tr>\n",
              "    <tr>\n",
              "      <th>6091</th>\n",
              "      <td>1/02/24, 20:00:42</td>\n",
              "      <td>29349</td>\n",
              "      <td>2949</td>\n",
              "      <td>0.0</td>\n",
              "      <td>0</td>\n",
              "      <td>3</td>\n",
              "    </tr>\n",
              "    <tr>\n",
              "      <th>6092</th>\n",
              "      <td>29/01/24, 19:00:53</td>\n",
              "      <td>29349</td>\n",
              "      <td>2949</td>\n",
              "      <td>0.0</td>\n",
              "      <td>0</td>\n",
              "      <td>3</td>\n",
              "    </tr>\n",
              "    <tr>\n",
              "      <th>6093</th>\n",
              "      <td>29/01/24, 19:00:52</td>\n",
              "      <td>29349</td>\n",
              "      <td>2949</td>\n",
              "      <td>0.0</td>\n",
              "      <td>0</td>\n",
              "      <td>3</td>\n",
              "    </tr>\n",
              "    <tr>\n",
              "      <th>6094</th>\n",
              "      <td>29/01/24, 19:00:52</td>\n",
              "      <td>29349</td>\n",
              "      <td>2949</td>\n",
              "      <td>0.0</td>\n",
              "      <td>0</td>\n",
              "      <td>3</td>\n",
              "    </tr>\n",
              "    <tr>\n",
              "      <th>6095</th>\n",
              "      <td>29/01/24, 19:00:52</td>\n",
              "      <td>29349</td>\n",
              "      <td>2949</td>\n",
              "      <td>0.0</td>\n",
              "      <td>0</td>\n",
              "      <td>3</td>\n",
              "    </tr>\n",
              "  </tbody>\n",
              "</table>\n",
              "<p>6096 rows × 6 columns</p>\n",
              "</div>\n",
              "    <div class=\"colab-df-buttons\">\n",
              "\n",
              "  <div class=\"colab-df-container\">\n",
              "    <button class=\"colab-df-convert\" onclick=\"convertToInteractive('df-626679a0-6adf-4979-b385-31c88add3a72')\"\n",
              "            title=\"Convert this dataframe to an interactive table.\"\n",
              "            style=\"display:none;\">\n",
              "\n",
              "  <svg xmlns=\"http://www.w3.org/2000/svg\" height=\"24px\" viewBox=\"0 -960 960 960\">\n",
              "    <path d=\"M120-120v-720h720v720H120Zm60-500h600v-160H180v160Zm220 220h160v-160H400v160Zm0 220h160v-160H400v160ZM180-400h160v-160H180v160Zm440 0h160v-160H620v160ZM180-180h160v-160H180v160Zm440 0h160v-160H620v160Z\"/>\n",
              "  </svg>\n",
              "    </button>\n",
              "\n",
              "  <style>\n",
              "    .colab-df-container {\n",
              "      display:flex;\n",
              "      gap: 12px;\n",
              "    }\n",
              "\n",
              "    .colab-df-convert {\n",
              "      background-color: #E8F0FE;\n",
              "      border: none;\n",
              "      border-radius: 50%;\n",
              "      cursor: pointer;\n",
              "      display: none;\n",
              "      fill: #1967D2;\n",
              "      height: 32px;\n",
              "      padding: 0 0 0 0;\n",
              "      width: 32px;\n",
              "    }\n",
              "\n",
              "    .colab-df-convert:hover {\n",
              "      background-color: #E2EBFA;\n",
              "      box-shadow: 0px 1px 2px rgba(60, 64, 67, 0.3), 0px 1px 3px 1px rgba(60, 64, 67, 0.15);\n",
              "      fill: #174EA6;\n",
              "    }\n",
              "\n",
              "    .colab-df-buttons div {\n",
              "      margin-bottom: 4px;\n",
              "    }\n",
              "\n",
              "    [theme=dark] .colab-df-convert {\n",
              "      background-color: #3B4455;\n",
              "      fill: #D2E3FC;\n",
              "    }\n",
              "\n",
              "    [theme=dark] .colab-df-convert:hover {\n",
              "      background-color: #434B5C;\n",
              "      box-shadow: 0px 1px 3px 1px rgba(0, 0, 0, 0.15);\n",
              "      filter: drop-shadow(0px 1px 2px rgba(0, 0, 0, 0.3));\n",
              "      fill: #FFFFFF;\n",
              "    }\n",
              "  </style>\n",
              "\n",
              "    <script>\n",
              "      const buttonEl =\n",
              "        document.querySelector('#df-626679a0-6adf-4979-b385-31c88add3a72 button.colab-df-convert');\n",
              "      buttonEl.style.display =\n",
              "        google.colab.kernel.accessAllowed ? 'block' : 'none';\n",
              "\n",
              "      async function convertToInteractive(key) {\n",
              "        const element = document.querySelector('#df-626679a0-6adf-4979-b385-31c88add3a72');\n",
              "        const dataTable =\n",
              "          await google.colab.kernel.invokeFunction('convertToInteractive',\n",
              "                                                    [key], {});\n",
              "        if (!dataTable) return;\n",
              "\n",
              "        const docLinkHtml = 'Like what you see? Visit the ' +\n",
              "          '<a target=\"_blank\" href=https://colab.research.google.com/notebooks/data_table.ipynb>data table notebook</a>'\n",
              "          + ' to learn more about interactive tables.';\n",
              "        element.innerHTML = '';\n",
              "        dataTable['output_type'] = 'display_data';\n",
              "        await google.colab.output.renderOutput(dataTable, element);\n",
              "        const docLink = document.createElement('div');\n",
              "        docLink.innerHTML = docLinkHtml;\n",
              "        element.appendChild(docLink);\n",
              "      }\n",
              "    </script>\n",
              "  </div>\n",
              "\n",
              "\n",
              "<div id=\"df-5ae8a782-a2b2-45b6-b47c-d55a1c4d993d\">\n",
              "  <button class=\"colab-df-quickchart\" onclick=\"quickchart('df-5ae8a782-a2b2-45b6-b47c-d55a1c4d993d')\"\n",
              "            title=\"Suggest charts\"\n",
              "            style=\"display:none;\">\n",
              "\n",
              "<svg xmlns=\"http://www.w3.org/2000/svg\" height=\"24px\"viewBox=\"0 0 24 24\"\n",
              "     width=\"24px\">\n",
              "    <g>\n",
              "        <path d=\"M19 3H5c-1.1 0-2 .9-2 2v14c0 1.1.9 2 2 2h14c1.1 0 2-.9 2-2V5c0-1.1-.9-2-2-2zM9 17H7v-7h2v7zm4 0h-2V7h2v10zm4 0h-2v-4h2v4z\"/>\n",
              "    </g>\n",
              "</svg>\n",
              "  </button>\n",
              "\n",
              "<style>\n",
              "  .colab-df-quickchart {\n",
              "      --bg-color: #E8F0FE;\n",
              "      --fill-color: #1967D2;\n",
              "      --hover-bg-color: #E2EBFA;\n",
              "      --hover-fill-color: #174EA6;\n",
              "      --disabled-fill-color: #AAA;\n",
              "      --disabled-bg-color: #DDD;\n",
              "  }\n",
              "\n",
              "  [theme=dark] .colab-df-quickchart {\n",
              "      --bg-color: #3B4455;\n",
              "      --fill-color: #D2E3FC;\n",
              "      --hover-bg-color: #434B5C;\n",
              "      --hover-fill-color: #FFFFFF;\n",
              "      --disabled-bg-color: #3B4455;\n",
              "      --disabled-fill-color: #666;\n",
              "  }\n",
              "\n",
              "  .colab-df-quickchart {\n",
              "    background-color: var(--bg-color);\n",
              "    border: none;\n",
              "    border-radius: 50%;\n",
              "    cursor: pointer;\n",
              "    display: none;\n",
              "    fill: var(--fill-color);\n",
              "    height: 32px;\n",
              "    padding: 0;\n",
              "    width: 32px;\n",
              "  }\n",
              "\n",
              "  .colab-df-quickchart:hover {\n",
              "    background-color: var(--hover-bg-color);\n",
              "    box-shadow: 0 1px 2px rgba(60, 64, 67, 0.3), 0 1px 3px 1px rgba(60, 64, 67, 0.15);\n",
              "    fill: var(--button-hover-fill-color);\n",
              "  }\n",
              "\n",
              "  .colab-df-quickchart-complete:disabled,\n",
              "  .colab-df-quickchart-complete:disabled:hover {\n",
              "    background-color: var(--disabled-bg-color);\n",
              "    fill: var(--disabled-fill-color);\n",
              "    box-shadow: none;\n",
              "  }\n",
              "\n",
              "  .colab-df-spinner {\n",
              "    border: 2px solid var(--fill-color);\n",
              "    border-color: transparent;\n",
              "    border-bottom-color: var(--fill-color);\n",
              "    animation:\n",
              "      spin 1s steps(1) infinite;\n",
              "  }\n",
              "\n",
              "  @keyframes spin {\n",
              "    0% {\n",
              "      border-color: transparent;\n",
              "      border-bottom-color: var(--fill-color);\n",
              "      border-left-color: var(--fill-color);\n",
              "    }\n",
              "    20% {\n",
              "      border-color: transparent;\n",
              "      border-left-color: var(--fill-color);\n",
              "      border-top-color: var(--fill-color);\n",
              "    }\n",
              "    30% {\n",
              "      border-color: transparent;\n",
              "      border-left-color: var(--fill-color);\n",
              "      border-top-color: var(--fill-color);\n",
              "      border-right-color: var(--fill-color);\n",
              "    }\n",
              "    40% {\n",
              "      border-color: transparent;\n",
              "      border-right-color: var(--fill-color);\n",
              "      border-top-color: var(--fill-color);\n",
              "    }\n",
              "    60% {\n",
              "      border-color: transparent;\n",
              "      border-right-color: var(--fill-color);\n",
              "    }\n",
              "    80% {\n",
              "      border-color: transparent;\n",
              "      border-right-color: var(--fill-color);\n",
              "      border-bottom-color: var(--fill-color);\n",
              "    }\n",
              "    90% {\n",
              "      border-color: transparent;\n",
              "      border-bottom-color: var(--fill-color);\n",
              "    }\n",
              "  }\n",
              "</style>\n",
              "\n",
              "  <script>\n",
              "    async function quickchart(key) {\n",
              "      const quickchartButtonEl =\n",
              "        document.querySelector('#' + key + ' button');\n",
              "      quickchartButtonEl.disabled = true;  // To prevent multiple clicks.\n",
              "      quickchartButtonEl.classList.add('colab-df-spinner');\n",
              "      try {\n",
              "        const charts = await google.colab.kernel.invokeFunction(\n",
              "            'suggestCharts', [key], {});\n",
              "      } catch (error) {\n",
              "        console.error('Error during call to suggestCharts:', error);\n",
              "      }\n",
              "      quickchartButtonEl.classList.remove('colab-df-spinner');\n",
              "      quickchartButtonEl.classList.add('colab-df-quickchart-complete');\n",
              "    }\n",
              "    (() => {\n",
              "      let quickchartButtonEl =\n",
              "        document.querySelector('#df-5ae8a782-a2b2-45b6-b47c-d55a1c4d993d button');\n",
              "      quickchartButtonEl.style.display =\n",
              "        google.colab.kernel.accessAllowed ? 'block' : 'none';\n",
              "    })();\n",
              "  </script>\n",
              "</div>\n",
              "    </div>\n",
              "  </div>\n"
            ],
            "application/vnd.google.colaboratory.intrinsic+json": {
              "type": "dataframe",
              "summary": "{\n  \"name\": \"display(pd\",\n  \"rows\": 6096,\n  \"fields\": [\n    {\n      \"column\": \"timestamp\",\n      \"properties\": {\n        \"dtype\": \"string\",\n        \"num_unique_values\": 3966,\n        \"samples\": [\n          \"8/04/24, 18:12:10\",\n          \"12/03/24, 13:44:44\",\n          \"5/02/24, 18:11:11\"\n        ],\n        \"semantic_type\": \"\",\n        \"description\": \"\"\n      }\n    },\n    {\n      \"column\": \"user_id\",\n      \"properties\": {\n        \"dtype\": \"number\",\n        \"std\": 4141,\n        \"min\": 20004,\n        \"max\": 29723,\n        \"num_unique_values\": 18,\n        \"samples\": [\n          26861,\n          20004,\n          29723\n        ],\n        \"semantic_type\": \"\",\n        \"description\": \"\"\n      }\n    },\n    {\n      \"column\": \"tool_id\",\n      \"properties\": {\n        \"dtype\": \"number\",\n        \"std\": 98498,\n        \"min\": 2949,\n        \"max\": 257734,\n        \"num_unique_values\": 30,\n        \"samples\": [\n          233224,\n          233238,\n          233214\n        ],\n        \"semantic_type\": \"\",\n        \"description\": \"\"\n      }\n    },\n    {\n      \"column\": \"log_count\",\n      \"properties\": {\n        \"dtype\": \"number\",\n        \"std\": 1.734376992874905,\n        \"min\": 0.0,\n        \"max\": 27.0,\n        \"num_unique_values\": 18,\n        \"samples\": [\n          3.0,\n          0.0,\n          7.0\n        ],\n        \"semantic_type\": \"\",\n        \"description\": \"\"\n      }\n    },\n    {\n      \"column\": \"lesson\",\n      \"properties\": {\n        \"dtype\": \"number\",\n        \"std\": 0,\n        \"min\": 0,\n        \"max\": 1,\n        \"num_unique_values\": 2,\n        \"samples\": [\n          1,\n          0\n        ],\n        \"semantic_type\": \"\",\n        \"description\": \"\"\n      }\n    },\n    {\n      \"column\": \"day_part\",\n      \"properties\": {\n        \"dtype\": \"number\",\n        \"std\": 1,\n        \"min\": 0,\n        \"max\": 5,\n        \"num_unique_values\": 6,\n        \"samples\": [\n          1,\n          4\n        ],\n        \"semantic_type\": \"\",\n        \"description\": \"\"\n      }\n    }\n  ]\n}"
            }
          },
          "metadata": {}
        }
      ]
    },
    {
      "cell_type": "code",
      "source": [
        "X = data.drop('timestamp', axis=1).values\n",
        "y = data['timestamp'].values"
      ],
      "metadata": {
        "id": "-qqbUzPVnnMk"
      },
      "execution_count": 8,
      "outputs": []
    },
    {
      "cell_type": "code",
      "source": [
        "y = (y == 1).astype(float) # target values are 0 or 1"
      ],
      "metadata": {
        "id": "oLO9OkHqnwJr"
      },
      "execution_count": 9,
      "outputs": []
    },
    {
      "cell_type": "code",
      "source": [
        "#  Preprocess Data test size 0.2\n",
        "X_train, X_test, y_train, y_test = train_test_split(X, y, test_size=0.2, random_state=42)"
      ],
      "metadata": {
        "id": "knsvl82Pn2HQ"
      },
      "execution_count": 10,
      "outputs": []
    },
    {
      "cell_type": "code",
      "source": [
        "scaler = StandardScaler() # Standardize features\n",
        "X_train = scaler.fit_transform(X_train)\n",
        "X_test = scaler.transform(X_test)"
      ],
      "metadata": {
        "id": "uKxAdwu6n-sw"
      },
      "execution_count": 11,
      "outputs": []
    },
    {
      "cell_type": "code",
      "source": [
        "# PyTorch tensors\n",
        "X_train = torch.tensor(X_train, dtype=torch.float32)\n",
        "y_train = torch.tensor(y_train, dtype=torch.float32).unsqueeze(1)\n",
        "X_test = torch.tensor(X_test, dtype=torch.float32)\n",
        "y_test = torch.tensor(y_test, dtype=torch.float32).unsqueeze(1)"
      ],
      "metadata": {
        "id": "drlpUG6yoFUz"
      },
      "execution_count": 12,
      "outputs": []
    },
    {
      "cell_type": "code",
      "source": [
        "class SimpleNN(nn.Module): # define the Model\n",
        "    def __init__(self, input_dim):\n",
        "        super(SimpleNN, self).__init__()\n",
        "        self.layer1 = nn.Linear(input_dim, 64)\n",
        "        self.layer2 = nn.Linear(64, 32)\n",
        "        self.layer3 = nn.Linear(32, 16)\n",
        "        self.layer4 = nn.Linear(16, 1)\n",
        "\n",
        "    def forward(self, x):\n",
        "        x = torch.relu(self.layer1(x))\n",
        "        x = torch.relu(self.layer2(x))\n",
        "        x = torch.relu(self.layer3(x))\n",
        "        x = torch.sigmoid(self.layer4(x))\n",
        "        return x\n"
      ],
      "metadata": {
        "id": "emDuud_8oMFM"
      },
      "execution_count": 25,
      "outputs": []
    },
    {
      "cell_type": "code",
      "source": [
        "input_dim = X_train.shape[1]\n",
        "model = SimpleNN(input_dim)"
      ],
      "metadata": {
        "id": "WphfGFh9oT5f"
      },
      "execution_count": 26,
      "outputs": []
    },
    {
      "cell_type": "code",
      "source": [
        "num_epochs = 100 # Train the Model\n",
        "training_losses = []\n",
        "validation_losses = []"
      ],
      "metadata": {
        "id": "Cek1yreXoixL"
      },
      "execution_count": 27,
      "outputs": []
    },
    {
      "cell_type": "code",
      "source": [
        "import torch.nn as nn\n",
        "import torch.nn.functional as F"
      ],
      "metadata": {
        "id": "tg-B1HbSP8eD"
      },
      "execution_count": 28,
      "outputs": []
    },
    {
      "cell_type": "code",
      "source": [
        "class SimpleModel(nn.Module):\n",
        "\n",
        "    def __init__(self, input_size, hidden_size, output_size):\n",
        "        super(SimpleModel, self).__init__()\n",
        "        self.fc1 = nn.Linear(input_size, hidden_size)\n",
        "        self.fc2 = nn.Linear(hidden_size, output_size)\n",
        "\n",
        "    def forward(self, x):\n",
        "        x = F.relu(self.fc1(x))\n",
        "        x = torch.sigmoid(self.fc2(x))  # Ensure the output is in the range [0, 1]\n",
        "        return x"
      ],
      "metadata": {
        "id": "0fq1LStTaAUi"
      },
      "execution_count": 29,
      "outputs": []
    },
    {
      "cell_type": "code",
      "source": [
        "import torch\n",
        "import torch.optim as optim\n",
        "import torch.nn as nn"
      ],
      "metadata": {
        "id": "aAnmdajIQDHf"
      },
      "execution_count": 30,
      "outputs": []
    },
    {
      "cell_type": "code",
      "source": [
        "# define the model\n",
        "input_size = 10\n",
        "hidden_size = 5\n",
        "output_size = 1  #  for binary classification\n",
        "\n",
        "model = SimpleModel(input_size, hidden_size, output_size)"
      ],
      "metadata": {
        "id": "kp8jhTHYaCUV"
      },
      "execution_count": 31,
      "outputs": []
    },
    {
      "cell_type": "code",
      "source": [
        "criterion = nn.BCELoss()  # Binary Cross Entropy Loss\n",
        "optimizer = optim.Adam(model.parameters(), lr=0.001)"
      ],
      "metadata": {
        "id": "VYHtTiFBaHbg"
      },
      "execution_count": 32,
      "outputs": []
    },
    {
      "cell_type": "code",
      "source": [
        "# training data\n",
        "X_train = torch.randn(100, input_size)\n",
        "y_train = torch.randint(0, 2, (100, 1)).float()"
      ],
      "metadata": {
        "id": "IZdxxogtaMS2"
      },
      "execution_count": 33,
      "outputs": []
    },
    {
      "cell_type": "code",
      "source": [
        "X_test = torch.randn(100, input_size)  #  validation input\n",
        "y_test = torch.randint(0, 2, (100, 1)).float()  #  binary labels"
      ],
      "metadata": {
        "id": "7FL6_FSKaSTE"
      },
      "execution_count": 34,
      "outputs": []
    },
    {
      "cell_type": "code",
      "source": [
        "num_epochs = 100 # training loop\n",
        "training_losses = []\n",
        "validation_losses = []\n",
        "\n",
        "for epoch in range(num_epochs):\n",
        "    model.train()\n",
        "\n",
        "    outputs = model(X_train)   # Forward pass\n",
        "    loss = criterion(outputs, y_train)\n",
        "\n",
        "    optimizer.zero_grad()  # backward pass and optimization\n",
        "    loss.backward()\n",
        "    optimizer.step()\n",
        "\n",
        "    training_losses.append(loss.item())\n",
        "\n",
        "    model.eval()\n",
        "    with torch.no_grad():\n",
        "        val_outputs = model(X_test)\n",
        "        val_loss = criterion(val_outputs, y_test)\n",
        "        validation_losses.append(val_loss.item())\n",
        "\n",
        "    if (epoch + 1) % 10 == 0:\n",
        "        print(f'Epoch [{epoch + 1}/{num_epochs}], Loss: {loss.item():.4f}, Val Loss: {val_loss.item():.4f}')"
      ],
      "metadata": {
        "colab": {
          "base_uri": "https://localhost:8080/"
        },
        "id": "E7M7pfNZaaW_",
        "outputId": "9ceb7f48-e784-4191-df9e-040d652085bf"
      },
      "execution_count": 35,
      "outputs": [
        {
          "output_type": "stream",
          "name": "stdout",
          "text": [
            "Epoch [10/100], Loss: 0.6940, Val Loss: 0.6848\n",
            "Epoch [20/100], Loss: 0.6891, Val Loss: 0.6837\n",
            "Epoch [30/100], Loss: 0.6847, Val Loss: 0.6828\n",
            "Epoch [40/100], Loss: 0.6807, Val Loss: 0.6821\n",
            "Epoch [50/100], Loss: 0.6769, Val Loss: 0.6817\n",
            "Epoch [60/100], Loss: 0.6734, Val Loss: 0.6817\n",
            "Epoch [70/100], Loss: 0.6699, Val Loss: 0.6818\n",
            "Epoch [80/100], Loss: 0.6663, Val Loss: 0.6820\n",
            "Epoch [90/100], Loss: 0.6623, Val Loss: 0.6824\n",
            "Epoch [100/100], Loss: 0.6581, Val Loss: 0.6829\n"
          ]
        }
      ]
    },
    {
      "cell_type": "code",
      "source": [
        "plt.plot(training_losses, label='Training Loss') # plot the losses\n",
        "plt.plot(validation_losses, label='Validation Loss')\n",
        "plt.xlabel('Epoch')\n",
        "plt.ylabel('Loss')\n",
        "plt.title('Training and Validation Loss Over Epochs')\n",
        "plt.legend()\n",
        "plt.show()"
      ],
      "metadata": {
        "colab": {
          "base_uri": "https://localhost:8080/",
          "height": 472
        },
        "id": "7HgMh6wBoyae",
        "outputId": "d4cf230e-96a6-4db8-d85f-bddefcc1b697"
      },
      "execution_count": 36,
      "outputs": [
        {
          "output_type": "display_data",
          "data": {
            "text/plain": [
              "<Figure size 640x480 with 1 Axes>"
            ],
            "image/png": "[encoded data removed]"
          },
          "metadata": {}
        }
      ]
    },
    {
      "cell_type": "markdown",
      "source": [
        "Training Loss: The loss value during the training process is decreasing over the epochs, starting from 0.6940 at epoch 10 and ending at 0.6581 at epoch 100.\n",
        "\n",
        "\n",
        "Validation Loss: Similarly, the validation loss is also decreasing, starting from 0.6848 at epoch 10 and ending at 0.6829 at epoch 100.\n",
        "\n",
        "Both training and validation losses steadily decrease over time, indicating that the model is learning and improving its predictions as the training progresses."
      ],
      "metadata": {
        "id": "gdToRCb6bK-E"
      }
    },
    {
      "cell_type": "code",
      "source": [
        "num_epochs = 200 # training loop\n",
        "training_losses = []\n",
        "validation_losses = []\n",
        "\n",
        "for epoch in range(num_epochs):\n",
        "    model.train()\n",
        "\n",
        "    outputs = model(X_train)   # Forward pass\n",
        "    loss = criterion(outputs, y_train)\n",
        "\n",
        "    optimizer.zero_grad()  # backward pass and optimization\n",
        "    loss.backward()\n",
        "    optimizer.step()\n",
        "\n",
        "    training_losses.append(loss.item())\n",
        "\n",
        "    model.eval()\n",
        "    with torch.no_grad():\n",
        "        val_outputs = model(X_test)\n",
        "        val_loss = criterion(val_outputs, y_test)\n",
        "        validation_losses.append(val_loss.item())\n",
        "\n",
        "    if (epoch + 1) % 10 == 0:\n",
        "        print(f'Epoch [{epoch + 1}/{num_epochs}], Loss: {loss.item():.4f}, Val Loss: {val_loss.item():.4f}')"
      ],
      "metadata": {
        "colab": {
          "base_uri": "https://localhost:8080/"
        },
        "id": "7r8soBnqklK7",
        "outputId": "b3866d00-f24e-4df1-b74f-a5feef9118b2"
      },
      "execution_count": 37,
      "outputs": [
        {
          "output_type": "stream",
          "name": "stdout",
          "text": [
            "Epoch [10/200], Loss: 0.6537, Val Loss: 0.6837\n",
            "Epoch [20/200], Loss: 0.6488, Val Loss: 0.6847\n",
            "Epoch [30/200], Loss: 0.6436, Val Loss: 0.6860\n",
            "Epoch [40/200], Loss: 0.6382, Val Loss: 0.6878\n",
            "Epoch [50/200], Loss: 0.6325, Val Loss: 0.6900\n",
            "Epoch [60/200], Loss: 0.6265, Val Loss: 0.6925\n",
            "Epoch [70/200], Loss: 0.6205, Val Loss: 0.6956\n",
            "Epoch [80/200], Loss: 0.6146, Val Loss: 0.6987\n",
            "Epoch [90/200], Loss: 0.6088, Val Loss: 0.7018\n",
            "Epoch [100/200], Loss: 0.6031, Val Loss: 0.7054\n",
            "Epoch [110/200], Loss: 0.5974, Val Loss: 0.7086\n",
            "Epoch [120/200], Loss: 0.5916, Val Loss: 0.7124\n",
            "Epoch [130/200], Loss: 0.5860, Val Loss: 0.7168\n",
            "Epoch [140/200], Loss: 0.5806, Val Loss: 0.7216\n",
            "Epoch [150/200], Loss: 0.5752, Val Loss: 0.7270\n",
            "Epoch [160/200], Loss: 0.5699, Val Loss: 0.7324\n",
            "Epoch [170/200], Loss: 0.5648, Val Loss: 0.7377\n",
            "Epoch [180/200], Loss: 0.5598, Val Loss: 0.7431\n",
            "Epoch [190/200], Loss: 0.5550, Val Loss: 0.7483\n",
            "Epoch [200/200], Loss: 0.5505, Val Loss: 0.7536\n"
          ]
        }
      ]
    },
    {
      "cell_type": "code",
      "source": [
        "plt.plot(training_losses, label='Training Loss') # plot the losses\n",
        "plt.plot(validation_losses, label='Validation Loss')\n",
        "plt.xlabel('Epoch')\n",
        "plt.ylabel('Loss')\n",
        "plt.title('Training and Validation Loss Over Epochs')\n",
        "plt.legend()\n",
        "plt.show()"
      ],
      "metadata": {
        "colab": {
          "base_uri": "https://localhost:8080/",
          "height": 472
        },
        "id": "7CFeebBckuIm",
        "outputId": "b2938565-aced-40ea-db79-01e5a05456f8"
      },
      "execution_count": 40,
      "outputs": [
        {
          "output_type": "display_data",
          "data": {
            "text/plain": [
              "<Figure size 640x480 with 1 Axes>"
            ],
            "image/png": "[encoded data removed]"
          },
          "metadata": {}
        }
      ]
    },
    {
      "cell_type": "code",
      "source": [
        "num_epochs = 500 # training loop\n",
        "training_losses = []\n",
        "validation_losses = []\n",
        "\n",
        "for epoch in range(num_epochs):\n",
        "    model.train()\n",
        "\n",
        "    outputs = model(X_train)   # Forward pass\n",
        "    loss = criterion(outputs, y_train)\n",
        "\n",
        "    optimizer.zero_grad()  # backward pass and optimization\n",
        "    loss.backward()\n",
        "    optimizer.step()\n",
        "\n",
        "    training_losses.append(loss.item())\n",
        "\n",
        "    model.eval()\n",
        "    with torch.no_grad():\n",
        "        val_outputs = model(X_test)\n",
        "        val_loss = criterion(val_outputs, y_test)\n",
        "        validation_losses.append(val_loss.item())\n",
        "\n",
        "    if (epoch + 1) % 10 == 0:\n",
        "        print(f'Epoch [{epoch + 1}/{num_epochs}], Loss: {loss.item():.4f}, Val Loss: {val_loss.item():.4f}')"
      ],
      "metadata": {
        "colab": {
          "base_uri": "https://localhost:8080/"
        },
        "id": "_r7BsE-DcPs4",
        "outputId": "25da42c3-f5c8-45c0-f929-4a99bf3b071e"
      },
      "execution_count": 39,
      "outputs": [
        {
          "output_type": "stream",
          "name": "stdout",
          "text": [
            "Epoch [10/500], Loss: 0.5461, Val Loss: 0.7592\n",
            "Epoch [20/500], Loss: 0.5417, Val Loss: 0.7645\n",
            "Epoch [30/500], Loss: 0.5374, Val Loss: 0.7693\n",
            "Epoch [40/500], Loss: 0.5333, Val Loss: 0.7742\n",
            "Epoch [50/500], Loss: 0.5293, Val Loss: 0.7791\n",
            "Epoch [60/500], Loss: 0.5255, Val Loss: 0.7841\n",
            "Epoch [70/500], Loss: 0.5217, Val Loss: 0.7893\n",
            "Epoch [80/500], Loss: 0.5179, Val Loss: 0.7943\n",
            "Epoch [90/500], Loss: 0.5141, Val Loss: 0.7993\n",
            "Epoch [100/500], Loss: 0.5104, Val Loss: 0.8046\n",
            "Epoch [110/500], Loss: 0.5068, Val Loss: 0.8099\n",
            "Epoch [120/500], Loss: 0.5031, Val Loss: 0.8153\n",
            "Epoch [130/500], Loss: 0.4993, Val Loss: 0.8211\n",
            "Epoch [140/500], Loss: 0.4955, Val Loss: 0.8269\n",
            "Epoch [150/500], Loss: 0.4916, Val Loss: 0.8331\n",
            "Epoch [160/500], Loss: 0.4878, Val Loss: 0.8397\n",
            "Epoch [170/500], Loss: 0.4840, Val Loss: 0.8458\n",
            "Epoch [180/500], Loss: 0.4803, Val Loss: 0.8519\n",
            "Epoch [190/500], Loss: 0.4766, Val Loss: 0.8581\n",
            "Epoch [200/500], Loss: 0.4728, Val Loss: 0.8642\n",
            "Epoch [210/500], Loss: 0.4687, Val Loss: 0.8706\n",
            "Epoch [220/500], Loss: 0.4648, Val Loss: 0.8772\n",
            "Epoch [230/500], Loss: 0.4611, Val Loss: 0.8843\n",
            "Epoch [240/500], Loss: 0.4575, Val Loss: 0.8919\n",
            "Epoch [250/500], Loss: 0.4540, Val Loss: 0.8990\n",
            "Epoch [260/500], Loss: 0.4507, Val Loss: 0.9061\n",
            "Epoch [270/500], Loss: 0.4474, Val Loss: 0.9132\n",
            "Epoch [280/500], Loss: 0.4440, Val Loss: 0.9202\n",
            "Epoch [290/500], Loss: 0.4403, Val Loss: 0.9280\n",
            "Epoch [300/500], Loss: 0.4368, Val Loss: 0.9351\n",
            "Epoch [310/500], Loss: 0.4333, Val Loss: 0.9425\n",
            "Epoch [320/500], Loss: 0.4301, Val Loss: 0.9494\n",
            "Epoch [330/500], Loss: 0.4269, Val Loss: 0.9568\n",
            "Epoch [340/500], Loss: 0.4238, Val Loss: 0.9646\n",
            "Epoch [350/500], Loss: 0.4208, Val Loss: 0.9722\n",
            "Epoch [360/500], Loss: 0.4178, Val Loss: 0.9798\n",
            "Epoch [370/500], Loss: 0.4149, Val Loss: 0.9872\n",
            "Epoch [380/500], Loss: 0.4119, Val Loss: 0.9944\n",
            "Epoch [390/500], Loss: 0.4090, Val Loss: 1.0017\n",
            "Epoch [400/500], Loss: 0.4058, Val Loss: 1.0095\n",
            "Epoch [410/500], Loss: 0.4015, Val Loss: 1.0187\n",
            "Epoch [420/500], Loss: 0.3974, Val Loss: 1.0295\n",
            "Epoch [430/500], Loss: 0.3935, Val Loss: 1.0403\n",
            "Epoch [440/500], Loss: 0.3898, Val Loss: 1.0500\n",
            "Epoch [450/500], Loss: 0.3863, Val Loss: 1.0599\n",
            "Epoch [460/500], Loss: 0.3829, Val Loss: 1.0700\n",
            "Epoch [470/500], Loss: 0.3795, Val Loss: 1.0792\n",
            "Epoch [480/500], Loss: 0.3761, Val Loss: 1.0887\n",
            "Epoch [490/500], Loss: 0.3727, Val Loss: 1.0976\n",
            "Epoch [500/500], Loss: 0.3693, Val Loss: 1.1060\n"
          ]
        }
      ]
    },
    {
      "cell_type": "code",
      "source": [
        "plt.plot(training_losses, label='Training Loss') # plot the losses\n",
        "plt.plot(validation_losses, label='Validation Loss')\n",
        "plt.xlabel('Epoch')\n",
        "plt.ylabel('Loss')\n",
        "plt.title('Training and Validation Loss Over Epochs')\n",
        "plt.legend()\n",
        "plt.show()"
      ],
      "metadata": {
        "colab": {
          "base_uri": "https://localhost:8080/",
          "height": 472
        },
        "id": "XNiE9D1ZciAR",
        "outputId": "bc11687b-3eb7-4f6f-a8e8-8cc192065a96"
      },
      "execution_count": 42,
      "outputs": [
        {
          "output_type": "display_data",
          "data": {
            "text/plain": [
              "<Figure size 640x480 with 1 Axes>"
            ],
            "image/png": "[encoded data removed]"
          },
          "metadata": {}
        }
      ]
    },
    {
      "cell_type": "code",
      "source": [
        "num_epochs = 1000 # training loop\n",
        "training_losses = []\n",
        "validation_losses = []\n",
        "\n",
        "for epoch in range(num_epochs):\n",
        "    model.train()\n",
        "\n",
        "    outputs = model(X_train)   # Forward pass\n",
        "    loss = criterion(outputs, y_train)\n",
        "\n",
        "    optimizer.zero_grad()  # backward pass and optimization\n",
        "    loss.backward()\n",
        "    optimizer.step()\n",
        "\n",
        "    training_losses.append(loss.item())\n",
        "\n",
        "    model.eval()\n",
        "    with torch.no_grad():\n",
        "        val_outputs = model(X_test)\n",
        "        val_loss = criterion(val_outputs, y_test)\n",
        "        validation_losses.append(val_loss.item())\n",
        "\n",
        "    if (epoch + 1) % 10 == 0:\n",
        "        print(f'Epoch [{epoch + 1}/{num_epochs}], Loss: {loss.item():.4f}, Val Loss: {val_loss.item():.4f}')"
      ],
      "metadata": {
        "colab": {
          "base_uri": "https://localhost:8080/"
        },
        "id": "Wdz_Ti3ycWPS",
        "outputId": "925a3dee-eb78-46da-eb51-6ffedf5236f1"
      },
      "execution_count": 43,
      "outputs": [
        {
          "output_type": "stream",
          "name": "stdout",
          "text": [
            "Epoch [10/1000], Loss: 0.2600, Val Loss: 1.5615\n",
            "Epoch [20/1000], Loss: 0.2585, Val Loss: 1.5714\n",
            "Epoch [30/1000], Loss: 0.2571, Val Loss: 1.5815\n",
            "Epoch [40/1000], Loss: 0.2557, Val Loss: 1.5913\n",
            "Epoch [50/1000], Loss: 0.2544, Val Loss: 1.6014\n",
            "Epoch [60/1000], Loss: 0.2531, Val Loss: 1.6113\n",
            "Epoch [70/1000], Loss: 0.2518, Val Loss: 1.6208\n",
            "Epoch [80/1000], Loss: 0.2505, Val Loss: 1.6306\n",
            "Epoch [90/1000], Loss: 0.2493, Val Loss: 1.6395\n",
            "Epoch [100/1000], Loss: 0.2481, Val Loss: 1.6484\n",
            "Epoch [110/1000], Loss: 0.2469, Val Loss: 1.6577\n",
            "Epoch [120/1000], Loss: 0.2457, Val Loss: 1.6666\n",
            "Epoch [130/1000], Loss: 0.2445, Val Loss: 1.6756\n",
            "Epoch [140/1000], Loss: 0.2424, Val Loss: 1.6818\n",
            "Epoch [150/1000], Loss: 0.2399, Val Loss: 1.6884\n",
            "Epoch [160/1000], Loss: 0.2376, Val Loss: 1.6954\n",
            "Epoch [170/1000], Loss: 0.2356, Val Loss: 1.7031\n",
            "Epoch [180/1000], Loss: 0.2337, Val Loss: 1.7108\n",
            "Epoch [190/1000], Loss: 0.2319, Val Loss: 1.7181\n",
            "Epoch [200/1000], Loss: 0.2304, Val Loss: 1.7265\n",
            "Epoch [210/1000], Loss: 0.2289, Val Loss: 1.7340\n",
            "Epoch [220/1000], Loss: 0.2274, Val Loss: 1.7412\n",
            "Epoch [230/1000], Loss: 0.2260, Val Loss: 1.7486\n",
            "Epoch [240/1000], Loss: 0.2246, Val Loss: 1.7563\n",
            "Epoch [250/1000], Loss: 0.2233, Val Loss: 1.7638\n",
            "Epoch [260/1000], Loss: 0.2219, Val Loss: 1.7718\n",
            "Epoch [270/1000], Loss: 0.2206, Val Loss: 1.7801\n",
            "Epoch [280/1000], Loss: 0.2193, Val Loss: 1.7887\n",
            "Epoch [290/1000], Loss: 0.2180, Val Loss: 1.7979\n",
            "Epoch [300/1000], Loss: 0.2166, Val Loss: 1.8071\n",
            "Epoch [310/1000], Loss: 0.2153, Val Loss: 1.8162\n",
            "Epoch [320/1000], Loss: 0.2139, Val Loss: 1.8256\n",
            "Epoch [330/1000], Loss: 0.2123, Val Loss: 1.8352\n",
            "Epoch [340/1000], Loss: 0.2106, Val Loss: 1.8444\n",
            "Epoch [350/1000], Loss: 0.2089, Val Loss: 1.8544\n",
            "Epoch [360/1000], Loss: 0.2072, Val Loss: 1.8632\n",
            "Epoch [370/1000], Loss: 0.2056, Val Loss: 1.8730\n",
            "Epoch [380/1000], Loss: 0.2040, Val Loss: 1.8831\n",
            "Epoch [390/1000], Loss: 0.2025, Val Loss: 1.8932\n",
            "Epoch [400/1000], Loss: 0.2010, Val Loss: 1.9034\n",
            "Epoch [410/1000], Loss: 0.1995, Val Loss: 1.9141\n",
            "Epoch [420/1000], Loss: 0.1980, Val Loss: 1.9259\n",
            "Epoch [430/1000], Loss: 0.1965, Val Loss: 1.9373\n",
            "Epoch [440/1000], Loss: 0.1951, Val Loss: 1.9484\n",
            "Epoch [450/1000], Loss: 0.1936, Val Loss: 1.9602\n",
            "Epoch [460/1000], Loss: 0.1922, Val Loss: 1.9716\n",
            "Epoch [470/1000], Loss: 0.1907, Val Loss: 1.9834\n",
            "Epoch [480/1000], Loss: 0.1893, Val Loss: 1.9950\n",
            "Epoch [490/1000], Loss: 0.1879, Val Loss: 2.0069\n",
            "Epoch [500/1000], Loss: 0.1865, Val Loss: 2.0185\n",
            "Epoch [510/1000], Loss: 0.1851, Val Loss: 2.0302\n",
            "Epoch [520/1000], Loss: 0.1837, Val Loss: 2.0423\n",
            "Epoch [530/1000], Loss: 0.1824, Val Loss: 2.0542\n",
            "Epoch [540/1000], Loss: 0.1810, Val Loss: 2.0659\n",
            "Epoch [550/1000], Loss: 0.1797, Val Loss: 2.0775\n",
            "Epoch [560/1000], Loss: 0.1783, Val Loss: 2.0892\n",
            "Epoch [570/1000], Loss: 0.1771, Val Loss: 2.1014\n",
            "Epoch [580/1000], Loss: 0.1758, Val Loss: 2.1124\n",
            "Epoch [590/1000], Loss: 0.1746, Val Loss: 2.1246\n",
            "Epoch [600/1000], Loss: 0.1734, Val Loss: 2.1374\n",
            "Epoch [610/1000], Loss: 0.1721, Val Loss: 2.1491\n",
            "Epoch [620/1000], Loss: 0.1709, Val Loss: 2.1616\n",
            "Epoch [630/1000], Loss: 0.1697, Val Loss: 2.1741\n",
            "Epoch [640/1000], Loss: 0.1686, Val Loss: 2.1870\n",
            "Epoch [650/1000], Loss: 0.1674, Val Loss: 2.1996\n",
            "Epoch [660/1000], Loss: 0.1663, Val Loss: 2.2123\n",
            "Epoch [670/1000], Loss: 0.1652, Val Loss: 2.2251\n",
            "Epoch [680/1000], Loss: 0.1642, Val Loss: 2.2382\n",
            "Epoch [690/1000], Loss: 0.1631, Val Loss: 2.2509\n",
            "Epoch [700/1000], Loss: 0.1621, Val Loss: 2.2642\n",
            "Epoch [710/1000], Loss: 0.1611, Val Loss: 2.2774\n",
            "Epoch [720/1000], Loss: 0.1600, Val Loss: 2.2910\n",
            "Epoch [730/1000], Loss: 0.1589, Val Loss: 2.3038\n",
            "Epoch [740/1000], Loss: 0.1576, Val Loss: 2.3186\n",
            "Epoch [750/1000], Loss: 0.1562, Val Loss: 2.3319\n",
            "Epoch [760/1000], Loss: 0.1550, Val Loss: 2.3459\n",
            "Epoch [770/1000], Loss: 0.1537, Val Loss: 2.3599\n",
            "Epoch [780/1000], Loss: 0.1525, Val Loss: 2.3741\n",
            "Epoch [790/1000], Loss: 0.1513, Val Loss: 2.3871\n",
            "Epoch [800/1000], Loss: 0.1501, Val Loss: 2.4019\n",
            "Epoch [810/1000], Loss: 0.1489, Val Loss: 2.4159\n",
            "Epoch [820/1000], Loss: 0.1478, Val Loss: 2.4310\n",
            "Epoch [830/1000], Loss: 0.1467, Val Loss: 2.4445\n",
            "Epoch [840/1000], Loss: 0.1456, Val Loss: 2.4597\n",
            "Epoch [850/1000], Loss: 0.1445, Val Loss: 2.4741\n",
            "Epoch [860/1000], Loss: 0.1434, Val Loss: 2.4886\n",
            "Epoch [870/1000], Loss: 0.1424, Val Loss: 2.5046\n",
            "Epoch [880/1000], Loss: 0.1414, Val Loss: 2.5179\n",
            "Epoch [890/1000], Loss: 0.1403, Val Loss: 2.5318\n",
            "Epoch [900/1000], Loss: 0.1393, Val Loss: 2.5482\n",
            "Epoch [910/1000], Loss: 0.1383, Val Loss: 2.5607\n",
            "Epoch [920/1000], Loss: 0.1374, Val Loss: 2.5750\n",
            "Epoch [930/1000], Loss: 0.1364, Val Loss: 2.5906\n",
            "Epoch [940/1000], Loss: 0.1355, Val Loss: 2.6047\n",
            "Epoch [950/1000], Loss: 0.1345, Val Loss: 2.6174\n",
            "Epoch [960/1000], Loss: 0.1337, Val Loss: 2.6368\n",
            "Epoch [970/1000], Loss: 0.1327, Val Loss: 2.6495\n",
            "Epoch [980/1000], Loss: 0.1318, Val Loss: 2.6627\n",
            "Epoch [990/1000], Loss: 0.1310, Val Loss: 2.6789\n",
            "Epoch [1000/1000], Loss: 0.1301, Val Loss: 2.6917\n"
          ]
        }
      ]
    },
    {
      "cell_type": "code",
      "source": [
        "plt.plot(training_losses, label='Training Loss') # plot the losses\n",
        "plt.plot(validation_losses, label='Validation Loss')\n",
        "plt.xlabel('Epoch')\n",
        "plt.ylabel('Loss')\n",
        "plt.title('Training and Validation Loss Over Epochs')\n",
        "plt.legend()\n",
        "plt.show()"
      ],
      "metadata": {
        "colab": {
          "base_uri": "https://localhost:8080/",
          "height": 472
        },
        "id": "2FB4KFC6ccHV",
        "outputId": "594c753c-aa50-4fcc-87d8-e99f7c882610"
      },
      "execution_count": 44,
      "outputs": [
        {
          "output_type": "display_data",
          "data": {
            "text/plain": [
              "<Figure size 640x480 with 1 Axes>"
            ],
            "image/png": "[encoded data removed]"
          },
          "metadata": {}
        }
      ]
    },
    {
      "cell_type": "markdown",
      "source": [
        "The training loss decreased from 0.2600 to 0.1301 over the course of 1000 epochs.\n",
        "This suggests that the model is learning and improving its performance on the training data.\n",
        "\n",
        "The validation loss increased from 1.5615 to 2.6917.\n",
        "This indicates that while the model is performing better on the training data, its performance on the validation data has deteriorated.\n",
        "\n",
        "The increasing divergence between training and validation losses as epochs progress indicates overfitting. The model learns to perform well on the training data, but fails to generalize to the unseen data.\n",
        "\n",
        "Early stopping involves monitoring validation losses during training and stopping the training process when they stop decreasing. This prevents the model from continuing to learn the noise in the training data."
      ],
      "metadata": {
        "id": "D42Ov6wLjdfX"
      }
    },
    {
      "cell_type": "markdown",
      "source": [
        "Model is overfitted."
      ],
      "metadata": {
        "id": "Bh5nelTZ2fyu"
      }
    },
    {
      "cell_type": "code",
      "source": [
        "model.eval() # evaluate the Model\n",
        "with torch.no_grad():\n",
        "    y_predicted = model(X_test).round()"
      ],
      "metadata": {
        "id": "WZS0Q4EYo3P_"
      },
      "execution_count": 45,
      "outputs": []
    },
    {
      "cell_type": "code",
      "source": [
        "unique_values = y_predicted.unique()\n",
        "print(f'Unique values in predictions: {unique_values}')"
      ],
      "metadata": {
        "colab": {
          "base_uri": "https://localhost:8080/"
        },
        "id": "U99GZ2ECr8j9",
        "outputId": "dd71e4eb-b067-4522-c3c1-3c783ccef5b2"
      },
      "execution_count": 46,
      "outputs": [
        {
          "output_type": "stream",
          "name": "stdout",
          "text": [
            "Unique values in predictions: tensor([0., 1.])\n"
          ]
        }
      ]
    },
    {
      "cell_type": "markdown",
      "source": [
        "The unique values tensor([0., 1.]) in the model's predictions indicate that the model is making binary predictions and can predict both classes.\n",
        "\n"
      ],
      "metadata": {
        "id": "qMvh_4Aof3PZ"
      }
    },
    {
      "cell_type": "code",
      "source": [
        "# is y_test correctly shaped for sklearn's classification_report?\n",
        "y_test_flat = y_test.flatten()"
      ],
      "metadata": {
        "id": "CgHR0ZIcupnD"
      },
      "execution_count": 47,
      "outputs": []
    },
    {
      "cell_type": "code",
      "source": [
        "if len(unique_values) == 1:  # if only one class is predicted, avoid using classification_report\n",
        "    print(f'Only one class ({unique_values.item()}) predicted. Cannot generate classification report.')\n",
        "else:\n",
        "    print(classification_report(y_test_flat, y_predicted, target_names=['class 0', 'class 1']))"
      ],
      "metadata": {
        "colab": {
          "base_uri": "https://localhost:8080/"
        },
        "id": "EyhuRdWvuwLZ",
        "outputId": "c72b8979-9227-4a6a-d1d9-8a840e5534cc"
      },
      "execution_count": 48,
      "outputs": [
        {
          "output_type": "stream",
          "name": "stdout",
          "text": [
            "              precision    recall  f1-score   support\n",
            "\n",
            "     class 0       0.49      0.49      0.49        55\n",
            "     class 1       0.38      0.38      0.38        45\n",
            "\n",
            "    accuracy                           0.44       100\n",
            "   macro avg       0.43      0.43      0.43       100\n",
            "weighted avg       0.44      0.44      0.44       100\n",
            "\n"
          ]
        }
      ]
    },
    {
      "cell_type": "code",
      "source": [
        "print(pd.Series(y_train.numpy().flatten()).value_counts())  # check Data Distribution"
      ],
      "metadata": {
        "colab": {
          "base_uri": "https://localhost:8080/"
        },
        "id": "FEj7JCLsvdKH",
        "outputId": "a19f3bf6-c6fe-4b13-f53b-79404c5be999"
      },
      "execution_count": 49,
      "outputs": [
        {
          "output_type": "stream",
          "name": "stdout",
          "text": [
            "1.0    50\n",
            "0.0    50\n",
            "Name: count, dtype: int64\n"
          ]
        }
      ]
    },
    {
      "cell_type": "code",
      "source": [
        "with torch.no_grad(): # inspect Model Predictions\n",
        "    raw_outputs = model(X_test)\n",
        "    print(raw_outputs[:10])"
      ],
      "metadata": {
        "colab": {
          "base_uri": "https://localhost:8080/"
        },
        "id": "2qhKsFMbve3m",
        "outputId": "8c56ca80-1209-45db-dd1b-d0f9f6cdc1f1"
      },
      "execution_count": 50,
      "outputs": [
        {
          "output_type": "stream",
          "name": "stdout",
          "text": [
            "tensor([[1.0000e+00],\n",
            "        [1.8431e-03],\n",
            "        [1.0000e+00],\n",
            "        [8.8721e-01],\n",
            "        [3.8546e-05],\n",
            "        [5.6956e-04],\n",
            "        [3.2432e-03],\n",
            "        [1.7233e-01],\n",
            "        [1.7233e-01],\n",
            "        [2.4158e-01]])\n"
          ]
        }
      ]
    },
    {
      "cell_type": "markdown",
      "source": [
        "The given tensor represents predicted probabilities for the positive class, with values close to 0.97 indicating certainty in the predictions."
      ],
      "metadata": {
        "id": "KsXOjUw4fqG2"
      }
    },
    {
      "cell_type": "code",
      "source": [
        "threshold = 0.3  # adjust this value as needed\n",
        "with torch.no_grad():\n",
        "    y_predicted = (model(X_test) > threshold).float()\n",
        "    unique_values = y_predicted.unique()\n",
        "    print(f'Unique values in predictions with threshold {threshold}: {unique_values}')\n",
        "\n",
        "if len(unique_values) == 1:\n",
        "    print(f'Only one class ({unique_values.item()}) predicted with threshold {threshold}.')\n",
        "else:\n",
        "    print(classification_report(y_test.flatten(), y_predicted, target_names=['class 0', 'class 1']))"
      ],
      "metadata": {
        "colab": {
          "base_uri": "https://localhost:8080/"
        },
        "id": "rWf8qktlvw43",
        "outputId": "894fdbcb-bfbb-492f-a6a1-26f1727b3f6e"
      },
      "execution_count": 51,
      "outputs": [
        {
          "output_type": "stream",
          "name": "stdout",
          "text": [
            "Unique values in predictions with threshold 0.3: tensor([0., 1.])\n",
            "              precision    recall  f1-score   support\n",
            "\n",
            "     class 0       0.50      0.44      0.47        55\n",
            "     class 1       0.40      0.47      0.43        45\n",
            "\n",
            "    accuracy                           0.45       100\n",
            "   macro avg       0.45      0.45      0.45       100\n",
            "weighted avg       0.46      0.45      0.45       100\n",
            "\n"
          ]
        }
      ]
    },
    {
      "cell_type": "code",
      "source": [
        "threshold = 0.5  # adjust this value as needed\n",
        "with torch.no_grad():\n",
        "    y_predicted = (model(X_test) > threshold).float()\n",
        "    unique_values = y_predicted.unique()\n",
        "    print(f'Unique values in predictions with threshold {threshold}: {unique_values}')\n",
        "\n",
        "if len(unique_values) == 1:\n",
        "    print(f'Only one class ({unique_values.item()}) predicted with threshold {threshold}.')\n",
        "else:\n",
        "    print(classification_report(y_test.flatten(), y_predicted, target_names=['class 0', 'class 1']))"
      ],
      "metadata": {
        "id": "t91Ap9s-uK2M",
        "colab": {
          "base_uri": "https://localhost:8080/"
        },
        "outputId": "4add7d9f-79f7-40e4-a84d-f877359abb71"
      },
      "execution_count": 52,
      "outputs": [
        {
          "output_type": "stream",
          "name": "stdout",
          "text": [
            "Unique values in predictions with threshold 0.5: tensor([0., 1.])\n",
            "              precision    recall  f1-score   support\n",
            "\n",
            "     class 0       0.49      0.49      0.49        55\n",
            "     class 1       0.38      0.38      0.38        45\n",
            "\n",
            "    accuracy                           0.44       100\n",
            "   macro avg       0.43      0.43      0.43       100\n",
            "weighted avg       0.44      0.44      0.44       100\n",
            "\n"
          ]
        }
      ]
    },
    {
      "cell_type": "markdown",
      "source": [
        "The results show that the initial model output values (probabilities) are shallow for the first 10 test samples. These low values are well below the default threshold of 0.5 (and even the adjusted threshold of 0.3), which results in all forecasts being classified as class 0."
      ],
      "metadata": {
        "id": "StdOoHvKuxXj"
      }
    }
  ]
}